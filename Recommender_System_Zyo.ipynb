{
  "nbformat": 4,
  "nbformat_minor": 0,
  "metadata": {
    "colab": {
      "provenance": [],
      "authorship_tag": "ABX9TyNPIrAaYmaCJuaR+Ndgx+Zw",
      "include_colab_link": true
    },
    "kernelspec": {
      "name": "python3",
      "display_name": "Python 3"
    },
    "language_info": {
      "name": "python"
    }
  },
  "cells": [
    {
      "cell_type": "markdown",
      "metadata": {
        "id": "view-in-github",
        "colab_type": "text"
      },
      "source": [
        "<a href=\"https://colab.research.google.com/github/Reynxzz/zyo-virtual-tour-guide/blob/main/Recommender_System_Zyo.ipynb\" target=\"_parent\"><img src=\"https://colab.research.google.com/assets/colab-badge.svg\" alt=\"Open In Colab\"/></a>"
      ]
    },
    {
      "cell_type": "code",
      "execution_count": 5,
      "metadata": {
        "colab": {
          "base_uri": "https://localhost:8080/",
          "height": 363
        },
        "id": "RZS8h1gPHtlH",
        "outputId": "9d117640-41d6-4527-c188-80d204bd4c72"
      },
      "outputs": [
        {
          "output_type": "execute_result",
          "data": {
            "text/plain": [
              "                                         name  \\\n",
              "0                        Umah Santi Residence   \n",
              "1                            Umadhatu Resorts   \n",
              "2                MaxOne Rejuvination @Gianyar   \n",
              "3                    North Wing Canggu Resort   \n",
              "4  Tukad Gepuh Cottage Nusa Penida RedPartner   \n",
              "5                    Lempuyang Boutique Hotel   \n",
              "6                          Rejeng Garden Camp   \n",
              "7                             Adhi Jaya Suite   \n",
              "8                                Pertivi Love   \n",
              "9          Swan Paradise by Desa Pramana Swan   \n",
              "\n",
              "                                             address  \\\n",
              "0     Jalan Taman Paradise, 80361 Ungasan, Indonesia   \n",
              "1  Jalan Raya Denpasar Gilimanuk Desa Megati Sele...   \n",
              "2  Jl. Udayana , Gianyar - Bali, 80581 Balian, In...   \n",
              "3     No.79 Jalan Raya Tuka, 80361 Dalung, Indonesia   \n",
              "4  Te tukad gepuh cottage banjar gepuh, desa, Tan...   \n",
              "5  Jalan Raya Bukit Lempuyang Gang Kuum Sari, 808...   \n",
              "6  Jln. Pendakian gunung Batur, Kintamani, Bali, ...   \n",
              "7  Jalan Jatiluwih Kawan, 82152 Jatiluwih, Indonesia   \n",
              "8  Jalan Raya Desa Sambangan, 81161 Ambengan, Ind...   \n",
              "9  Banjar Banda, Desa Saba, Blahbatuh, 80581 Gian...   \n",
              "\n",
              "                                         description  \n",
              "0  Located in Ungasan, 2.9 km from Garuda Wisnu K...  \n",
              "1  With garden views, Umadhatu Resorts is located...  \n",
              "2  MaxOne Rejuvination @Gianyar has a restaurant,...  \n",
              "3  Located in Dalung, 9.2 km from Ubung Bus Stati...  \n",
              "4  Tukad Gepuh Cottage Nusa Penida RedPartner is ...  \n",
              "5  Located in Karangasem, 2.3 km from Ujung Beach...  \n",
              "6  Located in Bangli, 27.4 km from Tegallalang Ri...  \n",
              "7  Adhi Jaya Suite is located in Jatiluwih, withi...  \n",
              "8  Located in Ambengan in the Bali region, Pertiv...  \n",
              "9  Swan Paradise by Desa Pramana Swan - CHSE Cert...  "
            ],
            "text/html": [
              "\n",
              "  <div id=\"df-a7ecae76-bec5-49b2-9175-6f91621b19e4\">\n",
              "    <div class=\"colab-df-container\">\n",
              "      <div>\n",
              "<style scoped>\n",
              "    .dataframe tbody tr th:only-of-type {\n",
              "        vertical-align: middle;\n",
              "    }\n",
              "\n",
              "    .dataframe tbody tr th {\n",
              "        vertical-align: top;\n",
              "    }\n",
              "\n",
              "    .dataframe thead th {\n",
              "        text-align: right;\n",
              "    }\n",
              "</style>\n",
              "<table border=\"1\" class=\"dataframe\">\n",
              "  <thead>\n",
              "    <tr style=\"text-align: right;\">\n",
              "      <th></th>\n",
              "      <th>name</th>\n",
              "      <th>address</th>\n",
              "      <th>description</th>\n",
              "    </tr>\n",
              "  </thead>\n",
              "  <tbody>\n",
              "    <tr>\n",
              "      <th>0</th>\n",
              "      <td>Umah Santi Residence</td>\n",
              "      <td>Jalan Taman Paradise, 80361 Ungasan, Indonesia</td>\n",
              "      <td>Located in Ungasan, 2.9 km from Garuda Wisnu K...</td>\n",
              "    </tr>\n",
              "    <tr>\n",
              "      <th>1</th>\n",
              "      <td>Umadhatu Resorts</td>\n",
              "      <td>Jalan Raya Denpasar Gilimanuk Desa Megati Sele...</td>\n",
              "      <td>With garden views, Umadhatu Resorts is located...</td>\n",
              "    </tr>\n",
              "    <tr>\n",
              "      <th>2</th>\n",
              "      <td>MaxOne Rejuvination @Gianyar</td>\n",
              "      <td>Jl. Udayana , Gianyar - Bali, 80581 Balian, In...</td>\n",
              "      <td>MaxOne Rejuvination @Gianyar has a restaurant,...</td>\n",
              "    </tr>\n",
              "    <tr>\n",
              "      <th>3</th>\n",
              "      <td>North Wing Canggu Resort</td>\n",
              "      <td>No.79 Jalan Raya Tuka, 80361 Dalung, Indonesia</td>\n",
              "      <td>Located in Dalung, 9.2 km from Ubung Bus Stati...</td>\n",
              "    </tr>\n",
              "    <tr>\n",
              "      <th>4</th>\n",
              "      <td>Tukad Gepuh Cottage Nusa Penida RedPartner</td>\n",
              "      <td>Te tukad gepuh cottage banjar gepuh, desa, Tan...</td>\n",
              "      <td>Tukad Gepuh Cottage Nusa Penida RedPartner is ...</td>\n",
              "    </tr>\n",
              "    <tr>\n",
              "      <th>5</th>\n",
              "      <td>Lempuyang Boutique Hotel</td>\n",
              "      <td>Jalan Raya Bukit Lempuyang Gang Kuum Sari, 808...</td>\n",
              "      <td>Located in Karangasem, 2.3 km from Ujung Beach...</td>\n",
              "    </tr>\n",
              "    <tr>\n",
              "      <th>6</th>\n",
              "      <td>Rejeng Garden Camp</td>\n",
              "      <td>Jln. Pendakian gunung Batur, Kintamani, Bali, ...</td>\n",
              "      <td>Located in Bangli, 27.4 km from Tegallalang Ri...</td>\n",
              "    </tr>\n",
              "    <tr>\n",
              "      <th>7</th>\n",
              "      <td>Adhi Jaya Suite</td>\n",
              "      <td>Jalan Jatiluwih Kawan, 82152 Jatiluwih, Indonesia</td>\n",
              "      <td>Adhi Jaya Suite is located in Jatiluwih, withi...</td>\n",
              "    </tr>\n",
              "    <tr>\n",
              "      <th>8</th>\n",
              "      <td>Pertivi Love</td>\n",
              "      <td>Jalan Raya Desa Sambangan, 81161 Ambengan, Ind...</td>\n",
              "      <td>Located in Ambengan in the Bali region, Pertiv...</td>\n",
              "    </tr>\n",
              "    <tr>\n",
              "      <th>9</th>\n",
              "      <td>Swan Paradise by Desa Pramana Swan</td>\n",
              "      <td>Banjar Banda, Desa Saba, Blahbatuh, 80581 Gian...</td>\n",
              "      <td>Swan Paradise by Desa Pramana Swan - CHSE Cert...</td>\n",
              "    </tr>\n",
              "  </tbody>\n",
              "</table>\n",
              "</div>\n",
              "      <button class=\"colab-df-convert\" onclick=\"convertToInteractive('df-a7ecae76-bec5-49b2-9175-6f91621b19e4')\"\n",
              "              title=\"Convert this dataframe to an interactive table.\"\n",
              "              style=\"display:none;\">\n",
              "        \n",
              "  <svg xmlns=\"http://www.w3.org/2000/svg\" height=\"24px\"viewBox=\"0 0 24 24\"\n",
              "       width=\"24px\">\n",
              "    <path d=\"M0 0h24v24H0V0z\" fill=\"none\"/>\n",
              "    <path d=\"M18.56 5.44l.94 2.06.94-2.06 2.06-.94-2.06-.94-.94-2.06-.94 2.06-2.06.94zm-11 1L8.5 8.5l.94-2.06 2.06-.94-2.06-.94L8.5 2.5l-.94 2.06-2.06.94zm10 10l.94 2.06.94-2.06 2.06-.94-2.06-.94-.94-2.06-.94 2.06-2.06.94z\"/><path d=\"M17.41 7.96l-1.37-1.37c-.4-.4-.92-.59-1.43-.59-.52 0-1.04.2-1.43.59L10.3 9.45l-7.72 7.72c-.78.78-.78 2.05 0 2.83L4 21.41c.39.39.9.59 1.41.59.51 0 1.02-.2 1.41-.59l7.78-7.78 2.81-2.81c.8-.78.8-2.07 0-2.86zM5.41 20L4 18.59l7.72-7.72 1.47 1.35L5.41 20z\"/>\n",
              "  </svg>\n",
              "      </button>\n",
              "      \n",
              "  <style>\n",
              "    .colab-df-container {\n",
              "      display:flex;\n",
              "      flex-wrap:wrap;\n",
              "      gap: 12px;\n",
              "    }\n",
              "\n",
              "    .colab-df-convert {\n",
              "      background-color: #E8F0FE;\n",
              "      border: none;\n",
              "      border-radius: 50%;\n",
              "      cursor: pointer;\n",
              "      display: none;\n",
              "      fill: #1967D2;\n",
              "      height: 32px;\n",
              "      padding: 0 0 0 0;\n",
              "      width: 32px;\n",
              "    }\n",
              "\n",
              "    .colab-df-convert:hover {\n",
              "      background-color: #E2EBFA;\n",
              "      box-shadow: 0px 1px 2px rgba(60, 64, 67, 0.3), 0px 1px 3px 1px rgba(60, 64, 67, 0.15);\n",
              "      fill: #174EA6;\n",
              "    }\n",
              "\n",
              "    [theme=dark] .colab-df-convert {\n",
              "      background-color: #3B4455;\n",
              "      fill: #D2E3FC;\n",
              "    }\n",
              "\n",
              "    [theme=dark] .colab-df-convert:hover {\n",
              "      background-color: #434B5C;\n",
              "      box-shadow: 0px 1px 3px 1px rgba(0, 0, 0, 0.15);\n",
              "      filter: drop-shadow(0px 1px 2px rgba(0, 0, 0, 0.3));\n",
              "      fill: #FFFFFF;\n",
              "    }\n",
              "  </style>\n",
              "\n",
              "      <script>\n",
              "        const buttonEl =\n",
              "          document.querySelector('#df-a7ecae76-bec5-49b2-9175-6f91621b19e4 button.colab-df-convert');\n",
              "        buttonEl.style.display =\n",
              "          google.colab.kernel.accessAllowed ? 'block' : 'none';\n",
              "\n",
              "        async function convertToInteractive(key) {\n",
              "          const element = document.querySelector('#df-a7ecae76-bec5-49b2-9175-6f91621b19e4');\n",
              "          const dataTable =\n",
              "            await google.colab.kernel.invokeFunction('convertToInteractive',\n",
              "                                                     [key], {});\n",
              "          if (!dataTable) return;\n",
              "\n",
              "          const docLinkHtml = 'Like what you see? Visit the ' +\n",
              "            '<a target=\"_blank\" href=https://colab.research.google.com/notebooks/data_table.ipynb>data table notebook</a>'\n",
              "            + ' to learn more about interactive tables.';\n",
              "          element.innerHTML = '';\n",
              "          dataTable['output_type'] = 'display_data';\n",
              "          await google.colab.output.renderOutput(dataTable, element);\n",
              "          const docLink = document.createElement('div');\n",
              "          docLink.innerHTML = docLinkHtml;\n",
              "          element.appendChild(docLink);\n",
              "        }\n",
              "      </script>\n",
              "    </div>\n",
              "  </div>\n",
              "  "
            ]
          },
          "metadata": {},
          "execution_count": 5
        }
      ],
      "source": [
        "import pandas as pd\n",
        "import numpy as np\n",
        "from sklearn.metrics.pairwise import cosine_similarity\n",
        "from sklearn.feature_extraction.text import TfidfVectorizer\n",
        "from nltk.corpus import stopwords\n",
        "import re\n",
        "import random\n",
        "\n",
        "df = pd.read_excel(\"hotel_bali.xlsx\")\n",
        "df.head(10)"
      ]
    },
    {
      "cell_type": "code",
      "source": [
        "df.describe()\n",
        "df.info()"
      ],
      "metadata": {
        "colab": {
          "base_uri": "https://localhost:8080/"
        },
        "id": "fq4jxkGSJFQ8",
        "outputId": "951b3588-73f0-4bba-d0e8-25cf6a159f75"
      },
      "execution_count": 6,
      "outputs": [
        {
          "output_type": "stream",
          "name": "stdout",
          "text": [
            "<class 'pandas.core.frame.DataFrame'>\n",
            "RangeIndex: 49 entries, 0 to 48\n",
            "Data columns (total 3 columns):\n",
            " #   Column       Non-Null Count  Dtype \n",
            "---  ------       --------------  ----- \n",
            " 0   name         49 non-null     object\n",
            " 1   address      49 non-null     object\n",
            " 2   description  49 non-null     object\n",
            "dtypes: object(3)\n",
            "memory usage: 1.3+ KB\n"
          ]
        }
      ]
    },
    {
      "cell_type": "code",
      "source": [
        "def print_description(index):\n",
        "    example = df[df.index == index][['description', 'name', 'address']].values[0]\n",
        "    if len(example) > 0:\n",
        "        print(example[0])\n",
        "        print('Nama:', example[1])\n",
        "        print('Alamat:', example[2])     "
      ],
      "metadata": {
        "id": "lPyEJFTeJNWb"
      },
      "execution_count": 7,
      "outputs": []
    },
    {
      "cell_type": "code",
      "source": [
        "print_description(2)"
      ],
      "metadata": {
        "colab": {
          "base_uri": "https://localhost:8080/"
        },
        "id": "upDY6psUJSp7",
        "outputId": "ec290d4d-0e61-4f01-abe8-3c0f77503f11"
      },
      "execution_count": 8,
      "outputs": [
        {
          "output_type": "stream",
          "name": "stdout",
          "text": [
            "MaxOne Rejuvination @Gianyar has a restaurant, outdoor swimming pool, a bar and garden in Balian. This 3-star hotel offers a concierge service and a tour desk. The property has a 24-hour front desk, airport transportation, room service and free WiFi. At the hotel, every room includes a closet. All rooms have air conditioning, a desk and a flat-screen TV, and some rooms at MaxOne Rejuvination @Gianyar have a balcony. Guests at the accommodation can enjoy a buffet breakfast. MaxOne Rejuvination @Gianyar has a sun terrace. Goa Gajah is 3.9 km from the hotel, while Tegenungan Waterfall is 4.3 km from the property. The nearest airport is Ngurah Rai International Airport, 35.4 km from MaxOne Rejuvination @Gianyar. Couples in particular like the location – they rated it 8.9 for a two-person trip.\n",
            "Nama: MaxOne Rejuvination @Gianyar\n",
            "Alamat: Jl. Udayana , Gianyar - Bali, 80581 Balian, Indonesia\n"
          ]
        }
      ]
    },
    {
      "cell_type": "code",
      "source": [
        "import nltk\n",
        "nltk.download('popular')"
      ],
      "metadata": {
        "id": "FtVHdXYZJhzc"
      },
      "execution_count": null,
      "outputs": []
    },
    {
      "cell_type": "code",
      "source": [
        "clean_spcl = re.compile('[/(){}\\[\\]\\|@,;]')\n",
        "clean_symbol = re.compile('[^0-9a-z #+_]')\n",
        "stopworda = set(stopwords.words('english'))\n",
        "\n",
        "def clean_text(text):\n",
        "    text = text.lower() # lowercase text\n",
        "    text = clean_spcl.sub(' ', text)\n",
        "    text = clean_symbol.sub('', text)\n",
        "    text = ' '.join(word for word in text.split() if word not in stopworda) # hapus stopword dari kolom deskripsi\n",
        "    return text\n",
        "\n",
        "# Buat kolom tambahan untuk data description yang telah dibersihkan   \n",
        "df['desc_clean'] = df['description'].apply(clean_text)"
      ],
      "metadata": {
        "id": "-7ZvUVxJJeJs"
      },
      "execution_count": 11,
      "outputs": []
    },
    {
      "cell_type": "code",
      "source": [
        "df.head(5)"
      ],
      "metadata": {
        "colab": {
          "base_uri": "https://localhost:8080/",
          "height": 337
        },
        "id": "fQSROrPWJzbT",
        "outputId": "5bc51f03-5b27-4137-f821-4877200fe44f"
      },
      "execution_count": 12,
      "outputs": [
        {
          "output_type": "execute_result",
          "data": {
            "text/plain": [
              "                                         name  \\\n",
              "0                        Umah Santi Residence   \n",
              "1                            Umadhatu Resorts   \n",
              "2                MaxOne Rejuvination @Gianyar   \n",
              "3                    North Wing Canggu Resort   \n",
              "4  Tukad Gepuh Cottage Nusa Penida RedPartner   \n",
              "\n",
              "                                             address  \\\n",
              "0     Jalan Taman Paradise, 80361 Ungasan, Indonesia   \n",
              "1  Jalan Raya Denpasar Gilimanuk Desa Megati Sele...   \n",
              "2  Jl. Udayana , Gianyar - Bali, 80581 Balian, In...   \n",
              "3     No.79 Jalan Raya Tuka, 80361 Dalung, Indonesia   \n",
              "4  Te tukad gepuh cottage banjar gepuh, desa, Tan...   \n",
              "\n",
              "                                         description  \\\n",
              "0  Located in Ungasan, 2.9 km from Garuda Wisnu K...   \n",
              "1  With garden views, Umadhatu Resorts is located...   \n",
              "2  MaxOne Rejuvination @Gianyar has a restaurant,...   \n",
              "3  Located in Dalung, 9.2 km from Ubung Bus Stati...   \n",
              "4  Tukad Gepuh Cottage Nusa Penida RedPartner is ...   \n",
              "\n",
              "                                          desc_clean  \n",
              "0  located ungasan 29 km garuda wisnu kencana uma...  \n",
              "1  garden views umadhatu resorts located tabanan ...  \n",
              "2  maxone rejuvination gianyar restaurant outdoor...  \n",
              "3  located dalung 92 km ubung bus station north w...  \n",
              "4  tukad gepuh cottage nusa penida redpartner 1st...  "
            ],
            "text/html": [
              "\n",
              "  <div id=\"df-4a6ae33f-e50c-4023-912f-7571ec9afcbe\">\n",
              "    <div class=\"colab-df-container\">\n",
              "      <div>\n",
              "<style scoped>\n",
              "    .dataframe tbody tr th:only-of-type {\n",
              "        vertical-align: middle;\n",
              "    }\n",
              "\n",
              "    .dataframe tbody tr th {\n",
              "        vertical-align: top;\n",
              "    }\n",
              "\n",
              "    .dataframe thead th {\n",
              "        text-align: right;\n",
              "    }\n",
              "</style>\n",
              "<table border=\"1\" class=\"dataframe\">\n",
              "  <thead>\n",
              "    <tr style=\"text-align: right;\">\n",
              "      <th></th>\n",
              "      <th>name</th>\n",
              "      <th>address</th>\n",
              "      <th>description</th>\n",
              "      <th>desc_clean</th>\n",
              "    </tr>\n",
              "  </thead>\n",
              "  <tbody>\n",
              "    <tr>\n",
              "      <th>0</th>\n",
              "      <td>Umah Santi Residence</td>\n",
              "      <td>Jalan Taman Paradise, 80361 Ungasan, Indonesia</td>\n",
              "      <td>Located in Ungasan, 2.9 km from Garuda Wisnu K...</td>\n",
              "      <td>located ungasan 29 km garuda wisnu kencana uma...</td>\n",
              "    </tr>\n",
              "    <tr>\n",
              "      <th>1</th>\n",
              "      <td>Umadhatu Resorts</td>\n",
              "      <td>Jalan Raya Denpasar Gilimanuk Desa Megati Sele...</td>\n",
              "      <td>With garden views, Umadhatu Resorts is located...</td>\n",
              "      <td>garden views umadhatu resorts located tabanan ...</td>\n",
              "    </tr>\n",
              "    <tr>\n",
              "      <th>2</th>\n",
              "      <td>MaxOne Rejuvination @Gianyar</td>\n",
              "      <td>Jl. Udayana , Gianyar - Bali, 80581 Balian, In...</td>\n",
              "      <td>MaxOne Rejuvination @Gianyar has a restaurant,...</td>\n",
              "      <td>maxone rejuvination gianyar restaurant outdoor...</td>\n",
              "    </tr>\n",
              "    <tr>\n",
              "      <th>3</th>\n",
              "      <td>North Wing Canggu Resort</td>\n",
              "      <td>No.79 Jalan Raya Tuka, 80361 Dalung, Indonesia</td>\n",
              "      <td>Located in Dalung, 9.2 km from Ubung Bus Stati...</td>\n",
              "      <td>located dalung 92 km ubung bus station north w...</td>\n",
              "    </tr>\n",
              "    <tr>\n",
              "      <th>4</th>\n",
              "      <td>Tukad Gepuh Cottage Nusa Penida RedPartner</td>\n",
              "      <td>Te tukad gepuh cottage banjar gepuh, desa, Tan...</td>\n",
              "      <td>Tukad Gepuh Cottage Nusa Penida RedPartner is ...</td>\n",
              "      <td>tukad gepuh cottage nusa penida redpartner 1st...</td>\n",
              "    </tr>\n",
              "  </tbody>\n",
              "</table>\n",
              "</div>\n",
              "      <button class=\"colab-df-convert\" onclick=\"convertToInteractive('df-4a6ae33f-e50c-4023-912f-7571ec9afcbe')\"\n",
              "              title=\"Convert this dataframe to an interactive table.\"\n",
              "              style=\"display:none;\">\n",
              "        \n",
              "  <svg xmlns=\"http://www.w3.org/2000/svg\" height=\"24px\"viewBox=\"0 0 24 24\"\n",
              "       width=\"24px\">\n",
              "    <path d=\"M0 0h24v24H0V0z\" fill=\"none\"/>\n",
              "    <path d=\"M18.56 5.44l.94 2.06.94-2.06 2.06-.94-2.06-.94-.94-2.06-.94 2.06-2.06.94zm-11 1L8.5 8.5l.94-2.06 2.06-.94-2.06-.94L8.5 2.5l-.94 2.06-2.06.94zm10 10l.94 2.06.94-2.06 2.06-.94-2.06-.94-.94-2.06-.94 2.06-2.06.94z\"/><path d=\"M17.41 7.96l-1.37-1.37c-.4-.4-.92-.59-1.43-.59-.52 0-1.04.2-1.43.59L10.3 9.45l-7.72 7.72c-.78.78-.78 2.05 0 2.83L4 21.41c.39.39.9.59 1.41.59.51 0 1.02-.2 1.41-.59l7.78-7.78 2.81-2.81c.8-.78.8-2.07 0-2.86zM5.41 20L4 18.59l7.72-7.72 1.47 1.35L5.41 20z\"/>\n",
              "  </svg>\n",
              "      </button>\n",
              "      \n",
              "  <style>\n",
              "    .colab-df-container {\n",
              "      display:flex;\n",
              "      flex-wrap:wrap;\n",
              "      gap: 12px;\n",
              "    }\n",
              "\n",
              "    .colab-df-convert {\n",
              "      background-color: #E8F0FE;\n",
              "      border: none;\n",
              "      border-radius: 50%;\n",
              "      cursor: pointer;\n",
              "      display: none;\n",
              "      fill: #1967D2;\n",
              "      height: 32px;\n",
              "      padding: 0 0 0 0;\n",
              "      width: 32px;\n",
              "    }\n",
              "\n",
              "    .colab-df-convert:hover {\n",
              "      background-color: #E2EBFA;\n",
              "      box-shadow: 0px 1px 2px rgba(60, 64, 67, 0.3), 0px 1px 3px 1px rgba(60, 64, 67, 0.15);\n",
              "      fill: #174EA6;\n",
              "    }\n",
              "\n",
              "    [theme=dark] .colab-df-convert {\n",
              "      background-color: #3B4455;\n",
              "      fill: #D2E3FC;\n",
              "    }\n",
              "\n",
              "    [theme=dark] .colab-df-convert:hover {\n",
              "      background-color: #434B5C;\n",
              "      box-shadow: 0px 1px 3px 1px rgba(0, 0, 0, 0.15);\n",
              "      filter: drop-shadow(0px 1px 2px rgba(0, 0, 0, 0.3));\n",
              "      fill: #FFFFFF;\n",
              "    }\n",
              "  </style>\n",
              "\n",
              "      <script>\n",
              "        const buttonEl =\n",
              "          document.querySelector('#df-4a6ae33f-e50c-4023-912f-7571ec9afcbe button.colab-df-convert');\n",
              "        buttonEl.style.display =\n",
              "          google.colab.kernel.accessAllowed ? 'block' : 'none';\n",
              "\n",
              "        async function convertToInteractive(key) {\n",
              "          const element = document.querySelector('#df-4a6ae33f-e50c-4023-912f-7571ec9afcbe');\n",
              "          const dataTable =\n",
              "            await google.colab.kernel.invokeFunction('convertToInteractive',\n",
              "                                                     [key], {});\n",
              "          if (!dataTable) return;\n",
              "\n",
              "          const docLinkHtml = 'Like what you see? Visit the ' +\n",
              "            '<a target=\"_blank\" href=https://colab.research.google.com/notebooks/data_table.ipynb>data table notebook</a>'\n",
              "            + ' to learn more about interactive tables.';\n",
              "          element.innerHTML = '';\n",
              "          dataTable['output_type'] = 'display_data';\n",
              "          await google.colab.output.renderOutput(dataTable, element);\n",
              "          const docLink = document.createElement('div');\n",
              "          docLink.innerHTML = docLinkHtml;\n",
              "          element.appendChild(docLink);\n",
              "        }\n",
              "      </script>\n",
              "    </div>\n",
              "  </div>\n",
              "  "
            ]
          },
          "metadata": {},
          "execution_count": 12
        }
      ]
    },
    {
      "cell_type": "code",
      "source": [
        "# Deskripsi kedua (Setelah preprocessing)\n",
        "def print_description_clean(index):\n",
        "    example = df[df.index == index][['desc_clean', 'name', 'address']].values[0]\n",
        "    if len(example) > 0:\n",
        "        print(example[0])\n",
        "        print('Nama:', example[1])\n",
        "        print('Alamat:', example[2])"
      ],
      "metadata": {
        "id": "aeBCc0gRJ81j"
      },
      "execution_count": 13,
      "outputs": []
    },
    {
      "cell_type": "code",
      "source": [
        "df.set_index('name', inplace=True)\n",
        "tf = TfidfVectorizer(analyzer='word', ngram_range=(1, 3), min_df=0, stop_words='english')\n",
        "tfidf_matrix = tf.fit_transform(df['desc_clean'])\n",
        "cos_sim = cosine_similarity(tfidf_matrix, tfidf_matrix)\n",
        "cos_sim"
      ],
      "metadata": {
        "colab": {
          "base_uri": "https://localhost:8080/"
        },
        "id": "l3SpPLPiKB5D",
        "outputId": "673dc804-fa35-4caa-aa5d-8b8f86f7e784"
      },
      "execution_count": 14,
      "outputs": [
        {
          "output_type": "execute_result",
          "data": {
            "text/plain": [
              "array([[1.        , 0.04387469, 0.0507868 , ..., 0.06145423, 0.06197205,\n",
              "        0.03053378],\n",
              "       [0.04387469, 1.        , 0.04374968, ..., 0.1494559 , 0.03329416,\n",
              "        0.02540588],\n",
              "       [0.0507868 , 0.04374968, 1.        , ..., 0.05297025, 0.02819303,\n",
              "        0.03830658],\n",
              "       ...,\n",
              "       [0.06145423, 0.1494559 , 0.05297025, ..., 1.        , 0.11379785,\n",
              "        0.04114377],\n",
              "       [0.06197205, 0.03329416, 0.02819303, ..., 0.11379785, 1.        ,\n",
              "        0.01230094],\n",
              "       [0.03053378, 0.02540588, 0.03830658, ..., 0.04114377, 0.01230094,\n",
              "        1.        ]])"
            ]
          },
          "metadata": {},
          "execution_count": 14
        }
      ]
    },
    {
      "cell_type": "code",
      "source": [
        "# Set index utama di kolom 'name'\n",
        "indices = pd.Series(df.index)\n",
        "indices[:50]"
      ],
      "metadata": {
        "colab": {
          "base_uri": "https://localhost:8080/"
        },
        "id": "m8x0mE8SKDkz",
        "outputId": "998da603-a911-4e79-aa42-d7f99bc218df"
      },
      "execution_count": 15,
      "outputs": [
        {
          "output_type": "execute_result",
          "data": {
            "text/plain": [
              "0                           Umah Santi Residence\n",
              "1                               Umadhatu Resorts\n",
              "2                   MaxOne Rejuvination @Gianyar\n",
              "3                       North Wing Canggu Resort\n",
              "4     Tukad Gepuh Cottage Nusa Penida RedPartner\n",
              "5                       Lempuyang Boutique Hotel\n",
              "6                             Rejeng Garden Camp\n",
              "7                                Adhi Jaya Suite\n",
              "8                                   Pertivi Love\n",
              "9             Swan Paradise by Desa Pramana Swan\n",
              "10                   Sri Abi Ratu Villa & Resort\n",
              "11                Tirta Ayu Hotel and Restaurant\n",
              "12                         Alam Terrace Cottages\n",
              "13                Kiskenda Cottages & Restaurant\n",
              "14          Keris Art Shop and Villa Telaga Wana\n",
              "15                  Wana Shanti Villa by Madhava\n",
              "16                          Alamdini Resort Ubud\n",
              "17                    Puri Saraswati Dijiwa Ubud\n",
              "18            Puri Dajuma Beach Eco-Resort & Spa\n",
              "19                          Queen at Gunung Sari\n",
              "20                Tonys Villas & Resort Seminyak\n",
              "21                        Yulia Village Inn Ubud\n",
              "22                                 Dewangga Ubud\n",
              "23                              Masia Villa Ubud\n",
              "24                            Anumana Ubud Hotel\n",
              "25                    White dove guest house dua\n",
              "26                                     The Saren\n",
              "27                           Alam Bali Lake View\n",
              "28                       The Kalyana Ubud Resort\n",
              "29                        Jembrana Bali Homestay\n",
              "30                             Solia Legian Bali\n",
              "31                  Komaneka at Rasa Sayang Ubud\n",
              "32                     RedDoorz Plus @ Singaraja\n",
              "33                                  Jati Cottage\n",
              "34                               Griya Sriwedari\n",
              "35                    Watermark Hotel & Spa Bali\n",
              "36                             Ubud Aura Retreat\n",
              "37                              Green Bird Villa\n",
              "38                              Angsoka Bungalow\n",
              "39                             Desa Pramana Swan\n",
              "40               Karang Mas Villa Nusa Lembongan\n",
              "41                              Umaya Ubud Villa\n",
              "42                    Royal JJ Ubud Resort & Spa\n",
              "43          The Kanjeng Suites & Villas Seminyak\n",
              "44        Best Western Premier Agung Resort Ubud\n",
              "45                                   Dinara Ubud\n",
              "46                Alami Boutique Villas & Resort\n",
              "47                               Kubu River View\n",
              "48                            Sun Boutique Hotel\n",
              "Name: name, dtype: object"
            ]
          },
          "metadata": {},
          "execution_count": 15
        }
      ]
    },
    {
      "cell_type": "code",
      "source": [
        "def recommendations(name, cos_sim = cos_sim):\n",
        "    \n",
        "    recommended_hotel = []\n",
        "    \n",
        "    # Mengambil nama hotel berdasarkan variabel indicies\n",
        "    idx = indices[indices == name].index[0]\n",
        "\n",
        "    # Membuat series berdasarkan skor kesamaan\n",
        "    score_series = pd.Series(cos_sim[idx]).sort_values(ascending = False)\n",
        "\n",
        "    # mengambil index dan dibuat 10 baris rekomendasi terbaik\n",
        "    top_10_indexes = list(score_series.iloc[1:11].index)\n",
        "    \n",
        "    for i in top_10_indexes:\n",
        "        recommended_hotel.append(list(df.index)[i])\n",
        "        \n",
        "    return recommended_hotel"
      ],
      "metadata": {
        "id": "vvxM-AOWKNME"
      },
      "execution_count": 16,
      "outputs": []
    },
    {
      "cell_type": "code",
      "source": [
        "recommendations('Umah Santi Residence')"
      ],
      "metadata": {
        "colab": {
          "base_uri": "https://localhost:8080/"
        },
        "id": "IOTovrgPKSzz",
        "outputId": "4c638a34-b945-4dc2-c7a3-8f68921ca21a"
      },
      "execution_count": 17,
      "outputs": [
        {
          "output_type": "execute_result",
          "data": {
            "text/plain": [
              "['Ubud Aura Retreat',\n",
              " 'Queen at Gunung Sari',\n",
              " 'White dove guest house dua',\n",
              " 'Lempuyang Boutique Hotel',\n",
              " 'The Saren',\n",
              " 'Jembrana Bali Homestay',\n",
              " 'The Kalyana Ubud Resort',\n",
              " 'RedDoorz Plus @ Singaraja',\n",
              " 'North Wing Canggu Resort',\n",
              " 'Alam Bali Lake View']"
            ]
          },
          "metadata": {},
          "execution_count": 17
        }
      ]
    }
  ]
}