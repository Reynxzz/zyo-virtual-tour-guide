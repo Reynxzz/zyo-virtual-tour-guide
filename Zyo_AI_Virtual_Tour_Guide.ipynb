{
  "nbformat": 4,
  "nbformat_minor": 0,
  "metadata": {
    "colab": {
      "name": "Zyo: AI Virtual Tour Guide.ipynb",
      "provenance": [],
      "collapsed_sections": [],
      "authorship_tag": "ABX9TyM9Rz0aoMaQPOi3Jl/XV3/X",
      "include_colab_link": true
    },
    "kernelspec": {
      "name": "python3",
      "display_name": "Python 3"
    },
    "language_info": {
      "name": "python"
    },
    "accelerator": "GPU",
    "gpuClass": "standard"
  },
  "cells": [
    {
      "cell_type": "markdown",
      "metadata": {
        "id": "view-in-github",
        "colab_type": "text"
      },
      "source": [
        "<a href=\"https://colab.research.google.com/github/Reynxzz/zyo-virtual-tour-guide/blob/main/Zyo_AI_Virtual_Tour_Guide.ipynb\" target=\"_parent\"><img src=\"https://colab.research.google.com/assets/colab-badge.svg\" alt=\"Open In Colab\"/></a>"
      ]
    },
    {
      "cell_type": "markdown",
      "source": [
        "# **Zyo: Your Personalized Tour Guide to Explore Indonesia**"
      ],
      "metadata": {
        "id": "W7v70XP02iCd"
      }
    },
    {
      "cell_type": "markdown",
      "source": [
        "Proyek ini dibuat untuk memenuhi submisi pada perlombaan [AI Innovation Challenge Compfest 2022](https://www.compfest.id/)."
      ],
      "metadata": {
        "id": "vA3pd0cO3AH9"
      }
    },
    {
      "cell_type": "markdown",
      "source": [
        " **Zyo** adalah sebuah aplikasi berbasis AI untuk memecahkan masalah pariwisata di Indonesia. Menurunnya angka COVID-19 di Indonesia membuat pariwisata Indonesia mulai kembali pulih. Berdasarkan laporan Badan Pusat Statistik (BPS), jumlah kunjungan **wisatawan mancanegara** (wisman) ke Indonesia mencapai **111,06 ribu** kunjungan per April 2022. Jumlah kunjungan wisman ini **naik tajam hampir 500% (yoy)** dibandingkan dengan jumlah kunjungan pada April 2021. Sementara, jika dibandingkan dengan bulan sebelumnya, jumlah kunjungan wisman pada April 2022 **meningkat sebesar 172,27% (m-t-m)**. Angka ini diprediksi akan terus meningkat pada bulan-bulan berikutnya (Dikutip dari [katadata.co.id](https://https://databoks.katadata.co.id/datapublish/2022/06/02/kunjungan-wisman-ke-ri-naik-500-yoy-terbanyak-dari-asia-tenggara#:~:text=Berdasarkan%20laporan%20Badan%20Pusat%20Statistik,jumlah%20kunjungan%20pada%20April%202021.))."
      ],
      "metadata": {
        "id": "5I_uLzsg8ZPN"
      }
    },
    {
      "cell_type": "markdown",
      "source": [
        "Sektor pariwisata merupakan sektor yang berkontribusi besar dalam mendorong perekonomian Indonesia. Meningkatnya angka wisatawan mancanegara yang datang ke Indonesia membuka peluang yang sangat lebar untuk lebih mempromosikan pariwisata dan keragaman budaya di Indonesia. Namun, sektor pariwisata di Indonesia masih memiliki berbagai masalah untuk diselesaikan."
      ],
      "metadata": {
        "id": "-i8I0GUr9Hpc"
      }
    },
    {
      "cell_type": "markdown",
      "source": [
        "Menurut [Nugroho (2020)](https://https://ejournal.bsi.ac.id/ejurnal/index.php/jp), beberapa masalah yang ada pada sektor pariwisata Indonesia saat ini adalah:\n",
        "\n",
        "1.   Kualitas Sumberdaya Manusia (SDM) yang Masih Kurang Mendukung\n",
        "2.   Komunikasi dan Publikasi Yang Masih Kurang\n",
        "3.   Belum Memadainya Infrastruktur Pariwisata di Beberapa Daerah"
      ],
      "metadata": {
        "id": "uGxrRfDLYJ3-"
      }
    },
    {
      "cell_type": "markdown",
      "source": [
        "**Zyo** hadir untuk mengatasi permasalahan tersebut. Zyo merupakan aplikasi berbasis AI yang berperan sebagai pemandu wisata untuk menemani perjalanan wisatawan mancanegara secara virtual. Dengan Zyo, wisatawan mancanegara dapat mengenal lebih dekat dengan tempat-tempat wisata dan keragaman budaya yang ada di Indonesia. Zyo akan merekomendasikan tempat menarik, memandu hingga ke tujuan wisata, dan memberikan pengetahuan baru mengenai tempat tersebut beserta budaya yang ada di sekitar tempat tersebut."
      ],
      "metadata": {
        "id": "KKTxo_usZDS2"
      }
    },
    {
      "cell_type": "markdown",
      "source": [
        "# Scope Project"
      ],
      "metadata": {
        "id": "TbXri6zcOuXa"
      }
    },
    {
      "cell_type": "markdown",
      "source": [
        "\n",
        "\n",
        "*   **Target Pengguna:** Wisatawan mancanegara (18-30 tahun)\n",
        "*   **Cakupan Aplikasi:** karena keterbatasan waktu dan sumber daya, aplikasi ini hanya akan memberikan panduan mengenai beberapa tempat wisata menarik di pulau Bali.\n",
        "*   **Bahasa:** Inggris\n",
        "\n"
      ],
      "metadata": {
        "id": "LzHa1k7IOyvi"
      }
    },
    {
      "cell_type": "markdown",
      "source": [
        "# Data Collecting"
      ],
      "metadata": {
        "id": "XOVizx1yXGn-"
      }
    },
    {
      "cell_type": "markdown",
      "source": [
        "Karena target pengguna aplikasi ini adalah wisatawan mancanegara, bahasa yang dominan digunakan adalaha **bahasa inggris**. Untuk melihat perilaku wisatawan mancanegara saat berwisata ke Indonesia, mulai dari persiapan hingga saat sampai di tujuan (termasuk perkataan/ucapan yang sering diucapkan), kami melakukan eksplorasi dengan melihat beberapa *travel vlog* yang dibuat oleh wisatawan yang berasal dari berbagai negara untuk kemudian mengambil **data berupa transkrip/subtitle** (.txt) yang dapat dimanfaatkan untuk melatih kecerdasan Zyo."
      ],
      "metadata": {
        "id": "6UlSVvFAeWXV"
      }
    },
    {
      "cell_type": "markdown",
      "source": [
        "Selain itu, data pertanyaan FAQ mengenai pariwisata Bali (.txt) juga dikumpulkan melalui berbagai website berikut.\n",
        "\n",
        "*   https://www.balispirit.com/community/blog/bali-travel-faqs\n",
        "*   https://traveltriangle.com/blog/know-all-about-bali/\n",
        "*   https://www.travelonline.com/bali/frequently-asked-questions\n",
        "*   https://thetravelauthor.com/faq-for-bali/"
      ],
      "metadata": {
        "id": "bUCKw6PBOlqj"
      }
    },
    {
      "cell_type": "markdown",
      "source": [
        "# Data Preprocessing"
      ],
      "metadata": {
        "id": "OfiiFJezQfhL"
      }
    },
    {
      "cell_type": "markdown",
      "source": [
        "Membuat Intents file yang berisi beberapa pola pertanyaan dan respon untuk melatih Zyo. Karena keterbatasan pola pertanyaan yang didapat dari sumber yang ada, Data Augmentation dilakukan untuk memperbesar ukuran datasets. Beberapa cara yang dilakukan adalah:\n",
        "\n",
        "\n",
        "*   Translasi ke bahasa asing kemudian ditranslasi kembali (Back translation)\n",
        "*   Parafrase menggunakan bantuan [Quilboot](https://quillbot.com/)\n",
        "\n"
      ],
      "metadata": {
        "id": "Lf8emqLZCc0t"
      }
    },
    {
      "cell_type": "code",
      "source": [
        "%%writefile intentsZyo.json\n",
        "{\"intents\": [\n",
        "        {\"tag\": \"greeting\",\n",
        "         \"patterns\": [\"Hi\", \"How are you\", \"Is anyone there?\", \"Hello\", \"Good day\", \"Whats up\"],\n",
        "         \"responses\": [\"Hello! I'm Zyo :)\", \"Good to see you again!\", \"Hi there, how can I help you?\"],\n",
        "         \"context_set\": \"\"\n",
        "        },\n",
        "        {\"tag\": \"goodbye\",\n",
        "         \"patterns\": [\"cya\", \"See you later\", \"Goodbye\", \"I am Leaving\", \"Have a Good day\"],\n",
        "         \"responses\": [\"Sad to see you go :(\", \"Talk to you later\", \"Goodbye!\"],\n",
        "         \"context_set\": \"\"\n",
        "        },\n",
        "        {\"tag\": \"age\",\n",
        "         \"patterns\": [\"how old\", \"how old is zyo\", \"what is your age\", \"how old are you\", \"age?\"],\n",
        "         \"responses\": [\"I am 20 years old!\", \"20 years young!\"],\n",
        "         \"context_set\": \"\"\n",
        "        },\n",
        "        {\"tag\": \"name\",\n",
        "         \"patterns\": [\"what is your name\", \"what should I call you\", \"whats your name?\"],\n",
        "         \"responses\": [\"You can call me Zyo\", \"I'm Zyo!\", \"I'm Zyo! Your Virtual Tour Guide!\"],\n",
        "         \"context_set\": \"\"\n",
        "        },\n",
        "        {\"tag\": \"weather_faq\",\n",
        "         \"patterns\": [\"What's the weather like in Bali?\", \"How is the weather in Bali?\", \"How does the weather in Bali?\", \"weather in bali\", \"bali's weather\", \"bali is hot\", \"bali is cold\"],\n",
        "         \"responses\": [\"Bali is generally hot, sunny and humid and typically the rainy season is between November - Feb/March. However rain usually pours heavily for a short duration in the afternoon or during the night, leaving the rest of the day warm and sunny (around 90 degrees) and cools off at night\"],\n",
        "         \"context_set\": \"\"\n",
        "        },\n",
        "        {\"tag\": \"visa_faq\",\n",
        "         \"patterns\": [\"Do I need a VISA to enter Bali?\", \"visa required\", \"Is a VISA required to enter Bali?\", \"Is a VISA necessary to enter Bali?\", \"visa necessary?\"],\n",
        "         \"responses\": [\"Indonesia has a free 30-Day visa-on-arrival system (tourist visa). If you would like to stay more than 30 days, then you will need to pay $35 at the airport when you arrive at the airport for the option to extend with an Indonesian agent for up to 60-days\"],\n",
        "         \"context_set\": \"\"\n",
        "        },\n",
        "        {\"tag\": \"safe_faq\",\n",
        "         \"patterns\": [\"Is Bali Safe?\", \"Is there much crime?\", \"safety in bali\", \"is bali secure?\", \"crime in bali\"],\n",
        "         \"responses\": [\"Bali has always been peaceful, As for safety in the streets, there is very little violent crime in Bali, especially in Ubud - just be cautious against pickpockets in the beach areas and with handbags on motorbikes late at night\"],\n",
        "         \"context_set\": \"\"\n",
        "        },\n",
        "        {\"tag\": \"drinkwater_faq\",\n",
        "         \"patterns\": [\"Can I drink the water?\", \"Bali's water\", \"water drinkable?\", \"drink water in Bali\"],\n",
        "         \"responses\": [\"Always drink bottled or filtered water. 99% of restaurants in Bali use bottled water for all cooking purposes and it is advisable to drink and brush teeth with bottled water to avoid 'Bali Belly' - a mild dysentery which can occur but passes in a few days.\"],\n",
        "         \"context_set\": \"\"\n",
        "        },\n",
        "        {\"tag\": \"clothing_faq\",\n",
        "         \"patterns\": [\"What clothing can I wear in Bali?\", \"what should i wear?\", \"clothes to wear in bali\", \"bikini allowed?\", \"baggy clothes\"],\n",
        "         \"responses\": [\"Where you will stay will 99% of the time be air conditioned or with a fan, but outside it is hot and humid. Flip flops or comfortable walking sandals are a must with light clothing like t-shirts and shorts to keep you cool are recommended and a light pullover in the evenings if you are riding a motorbike. When entering temples you must be respectful and have your shoulders covered and wear a sarong (for men and women)\"],\n",
        "         \"context_set\": \"\"\n",
        "        },\n",
        "        {\"tag\": \"foodprice_faq\",\n",
        "         \"patterns\": [\"What's the normal price for food in Bali?\", \"food price in bali\", \"food cheap or expensive?\", \"price of the food?\"],\n",
        "         \"responses\": [\"Local Indonesian food like nasi campur and nasi/mie goreng will cost you a lot less, around IDR 30,000 (USD $2.50), a meal at a mid range restaurant in will cost between IDR 100,000-250,000 ($12-20) and fine dining restaurants could cost anywhere between IDR 500,000 and 1,000,000+ ($40-$80).\"],\n",
        "         \"context_set\": \"\"\n",
        "        },\n",
        "        {\"tag\": \"rentcar_faq\",\n",
        "         \"patterns\": [\"Should I rent a car?\", \"what car to rent?\", \"car rental available?\", \"rent a car\"],\n",
        "         \"responses\": [\"It is not necessary, nor advisable to rent a car in Bali. Taxis will cost about $25 - $30 to take you from the Airport at Denpasar to Ubud (approximately 1.5-hour drive, depending on traffic). Most hotels offer a free shuttle or taxi service to take you to the town center in Ubud. You can also hire a private driver and car for $40 - $60 per day for day excursions.\"],\n",
        "         \"context_set\": \"\"\n",
        "        },\n",
        "        {\"tag\": \"buddhist_faq\",\n",
        "         \"patterns\": [\"Is Bali a Buddhist country?\", \"religion in bali\", \"Buddhist\", \"bali islam?\"],\n",
        "         \"responses\": [\"Though Bali is a multi-religious island, most of the people on the island follow Balinese Hinduism which is a fusion of Indian and local Bali customs and culture. Muslim, Christianity, and Buddhism are a few other minority religions on the island.\"],\n",
        "         \"context_set\": \"\"\n",
        "        },\n",
        "        {\"tag\": \"wifi_faq\",\n",
        "         \"patterns\": [\"Does Bali airport have WiFi?\", \"wifi in airport\", \"airport wifi\"],\n",
        "         \"responses\": [\"Denpasar Ngurah International Airport in Bali has free wifi and it is easy to connect to the network too. The free session lasts for 240 minutes.\"],\n",
        "         \"context_set\": \"\"\n",
        "        },\n",
        "        {\"tag\": \"airportcount_faq\",\n",
        "         \"patterns\": [\"How many airports does Bali have?\", \"airport in bali\", \"bali airport\", \"airport\"],\n",
        "         \"responses\": [\"There is only one airport in Bali i.e. Denpasar Ngurah International Airport. The airport has two terminals designated to domestic and international flights. The airport has all the modern facilities to provide convenience and comfort to the passengers.\"],\n",
        "         \"context_set\": \"\"\n",
        "        },\n",
        "        {\"tag\": \"language_faq\",\n",
        "         \"patterns\": [\"What language do they speak in Bali?\", \"bali language\", \"speak in bali\", \"bahasa bali\", \"bahasa indonesia\", \"language speak\"],\n",
        "         \"responses\": [\"Bahasa Bali and Bahasa Indonesian are the most prominent languages on the island. Most people in Balinese are bilingual and speak both these languages. A fewer people are fluent in the English language.\"],\n",
        "         \"context_set\": \"\"\n",
        "        },\n",
        "        {\"tag\": \"exchange_faq\",\n",
        "         \"patterns\": [\"What’s the exchange rate in Indonesia?\", \"exchange rate\", \"What is the current currency exchange rate in Indonesia?\"],\n",
        "         \"responses\": [\"The most popular exchange rate in Indonesia is the USD to IDR rate. The national currency of Bali is the Indonesian Rupiah (Rp).\"],\n",
        "         \"context_set\": \"\"\n",
        "        },\n",
        "        {\"tag\": \"bestthingkid_faq\",\n",
        "         \"patterns\": [\"What are the best things to do in Bali with kids?\", \"Which activities in Bali are the best for families?\", \"What are the finest family-friendly activities in Bali?\", \"bali for kids\", \"bali for family\", \"kids in bali\", \"traveling with kids\"],\n",
        "         \"responses\": [\"You can take your kids to Bali Safari & Marine Park which is one of the most visited theme parks on the island. Dream Museums is another popular tourist attraction in Bali.\"],\n",
        "         \"context_set\": \"\"\n",
        "        },\n",
        "        {\"tag\": \"casino_faq\",\n",
        "         \"patterns\": [\"Does Bali have a casino?\", \"bali casino\", \"casino in bali\", \"casino available\", \"casino\"],\n",
        "         \"responses\": [\"No, Bali does not have a casino. There are no sanctioned casinos or poker rooms in Bali. In fact, the activities of gambling and betting are illegal in Bali as it is against their religious principles.\"],\n",
        "         \"context_set\": \"\"\n",
        "        },\n",
        "        {\"tag\": \"whattoeat_faq\",\n",
        "         \"patterns\": [\"What to eat in Bali?\", \"eat in bali\", \"best food in bali\", \"bali food\", \"delicious food in bali\"],\n",
        "         \"responses\": [\"When you are in Bali, you must try the authentic Balinese food as it is one of its kind and a lot of travelers visit Bali just to try the local delicacies. You must try dishes like Sate, Nasi Ayam, and Nasi Campur, Bebek and Ayam Betutu, Babi Guling and Traditional cakes and desserts.\"],\n",
        "         \"context_set\": \"\"\n",
        "        },\n",
        "        {\"tag\": \"bestressort_faq\",\n",
        "         \"patterns\": [\"Which are the best beach resorts in Bali?\",\"bali resort\", \"best resort in bali\", \"bali resorts\", \"recommended resorts\"],\n",
        "         \"responses\": [\"If you are a beach lover and are planning to stay at a beach resort in Bali, then the best options for you are The Mulia, St.Regis Bali, The Royal Purnama and W Bali.\"],\n",
        "         \"context_set\": \"\"\n",
        "        },\n",
        "        {\"tag\": \"besthotel_faq\",\n",
        "         \"patterns\": [\"Which are the best hotels in Seminyak\", \"best hotel in seminyak\", \"best hotel\", \"recommended hotel\"],\n",
        "         \"responses\": [\"The best hotels in Seminyak are Horison Seminyak, The Haven Bali Seminyak, Courtyard by Marriott Bali Seminyak Resort and Harris Hotel Seminyak.\"],\n",
        "         \"context_set\": \"\"\n",
        "        },\n",
        "        {\"tag\": \"timevisit_faq\",\n",
        "         \"patterns\": [\"When is the best time to go?\", \"best time to go\", \"what time to go\", \"time to come\", \"what year to come to bali\"],\n",
        "         \"responses\": [\"Bali is a spectacular destination to visit all year round with stunning tropical scenery and endless opportunities for adventure. While temperatures tend to average 27 °C throughout the year, we recommend visiting between May to August for optimal tropical conditions without the holiday crowds.\"],\n",
        "         \"context_set\": \"\"\n",
        "        },\n",
        "        {\"tag\": \"corona_faq\",\n",
        "         \"patterns\": [\"Is there Corona Virus in Bali?\", \"corona in bali\", \"corona\", \"covid 19\", \"bali corona covid\", \"bali virus\"],\n",
        "         \"responses\": [\"Bali is in the midst of vaccinations, and most of the main tourist areas have already been fully vaccinated. During the Pandemic, numbers of infections stayed fairly low on the island. All resorts and public areas maintain good health protocols, using disinfectants and wiping down tables etc.\"],\n",
        "         \"context_set\": \"\"\n",
        "        },\n",
        "        {\"tag\": \"taxis_faq\",\n",
        "         \"patterns\": [\"What taxis do you catch in Bali?\", \"taxi to go\", \"what taxi to ride\", \"bali taxi\"],\n",
        "         \"responses\": [\"The best taxis are generally Bluebird, as they are metered and monitored. If you are willing to barter, you can always have someone else drive you around. There are usually plenty of willing drivers outside most resorts.\"],\n",
        "         \"context_set\": \"\"\n",
        "        },\n",
        "        {\"tag\": \"illegal_faq\",\n",
        "         \"patterns\": [\"What is illegal in Bali?\", \"drugs is illegal\", \"illegal in bali\", \"drugs\"],\n",
        "         \"responses\": [\"Drugs. Bali is very, very strict on them, and if you are caught, there is basically no defence. You will end up in jail.\"],\n",
        "         \"context_set\": \"\"\n",
        "        },\n",
        "        {\"tag\": \"smoke_faq\",\n",
        "         \"patterns\": [\"Can i smoke in Bali?\", \"smoking in bali\", \"cigarettes in bali\", \"can i smoke?\"],\n",
        "         \"responses\": [\"Many Balinese people smoke, and cigarettes are quite cheap, although not the same quality as home.\"],\n",
        "         \"context_set\": \"\"\n",
        "        },\n",
        "\n",
        "   ]\n",
        "}"
      ],
      "metadata": {
        "colab": {
          "base_uri": "https://localhost:8080/"
        },
        "id": "iIk6Ah3SC0gN",
        "outputId": "276e3a7b-1d17-46d3-b7d3-3046a9e1984a"
      },
      "execution_count": 1,
      "outputs": [
        {
          "output_type": "stream",
          "name": "stdout",
          "text": [
            "Overwriting intentsZyo.json\n"
          ]
        }
      ]
    },
    {
      "cell_type": "code",
      "source": [
        "from google.colab import files\n",
        "uploaded = files.upload()"
      ],
      "metadata": {
        "colab": {
          "resources": {
            "http://localhost:8080/nbextensions/google.colab/files.js": {
              "data": "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",
              "ok": true,
              "headers": [
                [
                  "content-type",
                  "application/javascript"
                ]
              ],
              "status": 200,
              "status_text": ""
            }
          },
          "base_uri": "https://localhost:8080/",
          "height": 73
        },
        "id": "FqJkgJUQEFAl",
        "outputId": "98f34233-bdaa-4e8a-dedf-6b9653a1219b"
      },
      "execution_count": 2,
      "outputs": [
        {
          "output_type": "display_data",
          "data": {
            "text/plain": [
              "<IPython.core.display.HTML object>"
            ],
            "text/html": [
              "\n",
              "     <input type=\"file\" id=\"files-87483808-04eb-4a92-ba50-173f4d7b1a8f\" name=\"files[]\" multiple disabled\n",
              "        style=\"border:none\" />\n",
              "     <output id=\"result-87483808-04eb-4a92-ba50-173f4d7b1a8f\">\n",
              "      Upload widget is only available when the cell has been executed in the\n",
              "      current browser session. Please rerun this cell to enable.\n",
              "      </output>\n",
              "      <script src=\"/nbextensions/google.colab/files.js\"></script> "
            ]
          },
          "metadata": {}
        },
        {
          "output_type": "stream",
          "name": "stdout",
          "text": [
            "Saving intentsZyo.json to intentsZyo (4).json\n"
          ]
        }
      ]
    },
    {
      "cell_type": "code",
      "source": [
        "data = next(iter(uploaded.values()))\n",
        "type(data)\n",
        "print(data)"
      ],
      "metadata": {
        "colab": {
          "base_uri": "https://localhost:8080/"
        },
        "id": "xDkUrd02EgPd",
        "outputId": "801b198d-9638-4ccd-9c0b-cead4e5b72fc"
      },
      "execution_count": 3,
      "outputs": [
        {
          "output_type": "stream",
          "name": "stdout",
          "text": [
            "b'{\"intents\": [\\r\\n        {\"tag\": \"greeting\",\\r\\n         \"patterns\": [\"Hi\", \"How are you\", \"Is anyone there?\", \"Hello\", \"Good day\", \"Whats up\"],\\r\\n         \"responses\": [\"Hello! I\\'m Zyo :)\", \"Good to see you again!\", \"Hi there, how can I help you?\"],\\r\\n         \"context_set\": \"\"\\r\\n        },\\r\\n        {\"tag\": \"goodbye\",\\r\\n         \"patterns\": [\"cya\", \"See you later\", \"Goodbye\", \"I am Leaving\", \"Have a Good day\"],\\r\\n         \"responses\": [\"Sad to see you go :(\", \"Talk to you later\", \"Goodbye!\"],\\r\\n         \"context_set\": \"\"\\r\\n        },\\r\\n        {\"tag\": \"age\",\\r\\n         \"patterns\": [\"how old\", \"how old is zyo\", \"what is your age\", \"how old are you\", \"age?\"],\\r\\n         \"responses\": [\"I am 20 years old!\", \"20 years young!\"],\\r\\n         \"context_set\": \"\"\\r\\n        },\\r\\n        {\"tag\": \"name\",\\r\\n         \"patterns\": [\"what is your name\", \"what should I call you\", \"whats your name?\"],\\r\\n         \"responses\": [\"You can call me Zyo\", \"I\\'m Zyo!\", \"I\\'m Zyo! Your Virtual Tour Guide!\"],\\r\\n         \"context_set\": \"\"\\r\\n        },\\r\\n        {\"tag\": \"weather_faq\",\\r\\n         \"patterns\": [\"What\\'s the weather like in Bali?\", \"How is the weather in Bali?\", \"How does the weather in Bali?\", \"weather in bali\", \"bali\\'s weather\", \"bali is hot\", \"bali is cold\"],\\r\\n         \"responses\": [\"Bali is generally hot, sunny and humid and typically the rainy season is between November - Feb/March. However rain usually pours heavily for a short duration in the afternoon or during the night, leaving the rest of the day warm and sunny (around 90 degrees) and cools off at night\"],\\r\\n         \"context_set\": \"\"\\r\\n        },\\r\\n        {\"tag\": \"visa_faq\",\\r\\n         \"patterns\": [\"Do I need a VISA to enter Bali?\", \"visa required\", \"Is a VISA required to enter Bali?\", \"Is a VISA necessary to enter Bali?\", \"visa necessary?\"],\\r\\n         \"responses\": [\"Indonesia has a free 30-Day visa-on-arrival system (tourist visa). If you would like to stay more than 30 days, then you will need to pay $35 at the airport when you arrive at the airport for the option to extend with an Indonesian agent for up to 60-days\"],\\r\\n         \"context_set\": \"\"\\r\\n        },\\r\\n        {\"tag\": \"safe_faq\",\\r\\n         \"patterns\": [\"Is Bali Safe?\", \"Is there much crime?\", \"safety in bali\", \"is bali secure?\", \"crime in bali\"],\\r\\n         \"responses\": [\"Bali has always been peaceful, As for safety in the streets, there is very little violent crime in Bali, especially in Ubud - just be cautious against pickpockets in the beach areas and with handbags on motorbikes late at night\"],\\r\\n         \"context_set\": \"\"\\r\\n        },\\r\\n        {\"tag\": \"drinkwater_faq\",\\r\\n         \"patterns\": [\"Can I drink the water?\", \"Bali\\'s water\", \"water drinkable?\", \"drink water in Bali\"],\\r\\n         \"responses\": [\"Always drink bottled or filtered water. 99% of restaurants in Bali use bottled water for all cooking purposes and it is advisable to drink and brush teeth with bottled water to avoid \\'Bali Belly\\' - a mild dysentery which can occur but passes in a few days.\"],\\r\\n         \"context_set\": \"\"\\r\\n        },\\r\\n        {\"tag\": \"clothing_faq\",\\r\\n         \"patterns\": [\"What clothing can I wear in Bali?\", \"what should i wear?\", \"clothes to wear in bali\", \"bikini allowed?\", \"baggy clothes\"],\\r\\n         \"responses\": [\"Where you will stay will 99% of the time be air conditioned or with a fan, but outside it is hot and humid. Flip flops or comfortable walking sandals are a must with light clothing like t-shirts and shorts to keep you cool are recommended and a light pullover in the evenings if you are riding a motorbike. When entering temples you must be respectful and have your shoulders covered and wear a sarong (for men and women)\"],\\r\\n         \"context_set\": \"\"\\r\\n        },\\r\\n        {\"tag\": \"foodprice_faq\",\\r\\n         \"patterns\": [\"What\\'s the normal price for food in Bali?\", \"food price in bali\", \"food cheap or expensive?\", \"price of the food?\"],\\r\\n         \"responses\": [\"Local Indonesian food like nasi campur and nasi/mie goreng will cost you a lot less, around IDR 30,000 (USD $2.50), a meal at a mid range restaurant in will cost between IDR 100,000-250,000 ($12-20) and fine dining restaurants could cost anywhere between IDR 500,000 and 1,000,000+ ($40-$80).\"],\\r\\n         \"context_set\": \"\"\\r\\n        },\\r\\n        {\"tag\": \"rentcar_faq\",\\r\\n         \"patterns\": [\"Should I rent a car?\", \"what car to rent?\", \"car rental available?\", \"rent a car\"],\\r\\n         \"responses\": [\"It is not necessary, nor advisable to rent a car in Bali. Taxis will cost about $25 - $30 to take you from the Airport at Denpasar to Ubud (approximately 1.5-hour drive, depending on traffic). Most hotels offer a free shuttle or taxi service to take you to the town center in Ubud. You can also hire a private driver and car for $40 - $60 per day for day excursions.\"],\\r\\n         \"context_set\": \"\"\\r\\n        },\\r\\n        {\"tag\": \"buddhist_faq\",\\r\\n         \"patterns\": [\"Is Bali a Buddhist country?\", \"religion in bali\", \"Buddhist\", \"bali islam?\"],\\r\\n         \"responses\": [\"Though Bali is a multi-religious island, most of the people on the island follow Balinese Hinduism which is a fusion of Indian and local Bali customs and culture. Muslim, Christianity, and Buddhism are a few other minority religions on the island.\"],\\r\\n         \"context_set\": \"\"\\r\\n        },\\r\\n        {\"tag\": \"wifi_faq\",\\r\\n         \"patterns\": [\"Does Bali airport have WiFi?\", \"wifi in airport\", \"airport wifi\"],\\r\\n         \"responses\": [\"Denpasar Ngurah International Airport in Bali has free wifi and it is easy to connect to the network too. The free session lasts for 240 minutes.\"],\\r\\n         \"context_set\": \"\"\\r\\n        },\\r\\n        {\"tag\": \"airportcount_faq\",\\r\\n         \"patterns\": [\"How many airports does Bali have?\", \"airport in bali\", \"bali airport\", \"airport\"],\\r\\n         \"responses\": [\"There is only one airport in Bali i.e. Denpasar Ngurah International Airport. The airport has two terminals designated to domestic and international flights. The airport has all the modern facilities to provide convenience and comfort to the passengers.\"],\\r\\n         \"context_set\": \"\"\\r\\n        },\\r\\n        {\"tag\": \"language_faq\",\\r\\n         \"patterns\": [\"What language do they speak in Bali?\", \"bali language\", \"speak in bali\", \"bahasa bali\", \"bahasa indonesia\", \"language speak\"],\\r\\n         \"responses\": [\"Bahasa Bali and Bahasa Indonesian are the most prominent languages on the island. Most people in Balinese are bilingual and speak both these languages. A fewer people are fluent in the English language.\"],\\r\\n         \"context_set\": \"\"\\r\\n        },\\r\\n        {\"tag\": \"exchange_faq\",\\r\\n         \"patterns\": [\"What\\xe2\\x80\\x99s the exchange rate in Indonesia?\", \"exchange rate\", \"What is the current currency exchange rate in Indonesia?\"],\\r\\n         \"responses\": [\"The most popular exchange rate in Indonesia is the USD to IDR rate. The national currency of Bali is the Indonesian Rupiah (Rp).\"],\\r\\n         \"context_set\": \"\"\\r\\n        },\\r\\n        {\"tag\": \"bestthingkid_faq\",\\r\\n         \"patterns\": [\"What are the best things to do in Bali with kids?\", \"Which activities in Bali are the best for families?\", \"What are the finest family-friendly activities in Bali?\", \"bali for kids\", \"bali for family\", \"kids in bali\", \"traveling with kids\"],\\r\\n         \"responses\": [\"You can take your kids to Bali Safari & Marine Park which is one of the most visited theme parks on the island. Dream Museums is another popular tourist attraction in Bali.\"],\\r\\n         \"context_set\": \"\"\\r\\n        },\\r\\n        {\"tag\": \"casino_faq\",\\r\\n         \"patterns\": [\"Does Bali have a casino?\", \"bali casino\", \"casino in bali\", \"casino available\", \"casino\"],\\r\\n         \"responses\": [\"No, Bali does not have a casino. There are no sanctioned casinos or poker rooms in Bali. In fact, the activities of gambling and betting are illegal in Bali as it is against their religious principles.\"],\\r\\n         \"context_set\": \"\"\\r\\n        },\\r\\n        {\"tag\": \"whattoeat_faq\",\\r\\n         \"patterns\": [\"What to eat in Bali?\", \"eat in bali\", \"best food in bali\", \"bali food\", \"delicious food in bali\"],\\r\\n         \"responses\": [\"When you are in Bali, you must try the authentic Balinese food as it is one of its kind and a lot of travelers visit Bali just to try the local delicacies. You must try dishes like Sate, Nasi Ayam, and Nasi Campur, Bebek and Ayam Betutu, Babi Guling and Traditional cakes and desserts.\"],\\r\\n         \"context_set\": \"\"\\r\\n        },\\r\\n        {\"tag\": \"bestressort_faq\",\\r\\n         \"patterns\": [\"Which are the best beach resorts in Bali?\",\"bali resort\", \"best resort in bali\", \"bali resorts\", \"recommended resorts\"],\\r\\n         \"responses\": [\"If you are a beach lover and are planning to stay at a beach resort in Bali, then the best options for you are The Mulia, St.Regis Bali, The Royal Purnama and W Bali.\"],\\r\\n         \"context_set\": \"\"\\r\\n        },\\r\\n        {\"tag\": \"besthotel_faq\",\\r\\n         \"patterns\": [\"Which are the best hotels in Seminyak\", \"best hotel in seminyak\", \"best hotel\", \"recommended hotel\"],\\r\\n         \"responses\": [\"The best hotels in Seminyak are Horison Seminyak, The Haven Bali Seminyak, Courtyard by Marriott Bali Seminyak Resort and Harris Hotel Seminyak.\"],\\r\\n         \"context_set\": \"\"\\r\\n        },\\r\\n        {\"tag\": \"timevisit_faq\",\\r\\n         \"patterns\": [\"When is the best time to go?\", \"best time to go\", \"what time to go\", \"time to come\", \"what year to come to bali\"],\\r\\n         \"responses\": [\"Bali is a spectacular destination to visit all year round with stunning tropical scenery and endless opportunities for adventure. While temperatures tend to average 27 \\xc2\\xb0C throughout the year, we recommend visiting between May to August for optimal tropical conditions without the holiday crowds.\"],\\r\\n         \"context_set\": \"\"\\r\\n        },\\r\\n        {\"tag\": \"corona_faq\",\\r\\n         \"patterns\": [\"Is there Corona Virus in Bali?\", \"corona in bali\", \"corona\", \"covid 19\", \"bali corona covid\", \"bali virus\"],\\r\\n         \"responses\": [\"Bali is in the midst of vaccinations, and most of the main tourist areas have already been fully vaccinated. During the Pandemic, numbers of infections stayed fairly low on the island. All resorts and public areas maintain good health protocols, using disinfectants and wiping down tables etc.\"],\\r\\n         \"context_set\": \"\"\\r\\n        },\\r\\n        {\"tag\": \"taxis_faq\",\\r\\n         \"patterns\": [\"What taxis do you catch in Bali?\", \"taxi to go\", \"what taxi to ride\", \"bali taxi\"],\\r\\n         \"responses\": [\"The best taxis are generally Bluebird, as they are metered and monitored. If you are willing to barter, you can always have someone else drive you around. There are usually plenty of willing drivers outside most resorts.\"],\\r\\n         \"context_set\": \"\"\\r\\n        },\\r\\n        {\"tag\": \"illegal_faq\",\\r\\n         \"patterns\": [\"What is illegal in Bali?\", \"drugs is illegal\", \"illegal in bali\", \"drugs\"],\\r\\n         \"responses\": [\"Drugs. Bali is very, very strict on them, and if you are caught, there is basically no defence. You will end up in jail.\"],\\r\\n         \"context_set\": \"\"\\r\\n        },\\r\\n        {\"tag\": \"smoke_faq\",\\r\\n         \"patterns\": [\"Can i smoke in Bali?\", \"smoking in bali\", \"cigarettes in bali\", \"can i smoke?\"],\\r\\n         \"responses\": [\"Many Balinese people smoke, and cigarettes are quite cheap, although not the same quality as home.\"],\\r\\n         \"context_set\": \"\"\\r\\n        }\\r\\n   ]\\r\\n}'\n"
          ]
        }
      ]
    },
    {
      "cell_type": "code",
      "source": [
        "import json\n",
        "json.loads(data.decode())"
      ],
      "metadata": {
        "colab": {
          "base_uri": "https://localhost:8080/"
        },
        "id": "3znukmVUEj4G",
        "outputId": "f1e9213c-9173-496a-d634-5326024f3fc1"
      },
      "execution_count": 4,
      "outputs": [
        {
          "output_type": "execute_result",
          "data": {
            "text/plain": [
              "{'intents': [{'tag': 'greeting',\n",
              "   'patterns': ['Hi',\n",
              "    'How are you',\n",
              "    'Is anyone there?',\n",
              "    'Hello',\n",
              "    'Good day',\n",
              "    'Whats up'],\n",
              "   'responses': [\"Hello! I'm Zyo :)\",\n",
              "    'Good to see you again!',\n",
              "    'Hi there, how can I help you?'],\n",
              "   'context_set': ''},\n",
              "  {'tag': 'goodbye',\n",
              "   'patterns': ['cya',\n",
              "    'See you later',\n",
              "    'Goodbye',\n",
              "    'I am Leaving',\n",
              "    'Have a Good day'],\n",
              "   'responses': ['Sad to see you go :(', 'Talk to you later', 'Goodbye!'],\n",
              "   'context_set': ''},\n",
              "  {'tag': 'age',\n",
              "   'patterns': ['how old',\n",
              "    'how old is zyo',\n",
              "    'what is your age',\n",
              "    'how old are you',\n",
              "    'age?'],\n",
              "   'responses': ['I am 20 years old!', '20 years young!'],\n",
              "   'context_set': ''},\n",
              "  {'tag': 'name',\n",
              "   'patterns': ['what is your name',\n",
              "    'what should I call you',\n",
              "    'whats your name?'],\n",
              "   'responses': ['You can call me Zyo',\n",
              "    \"I'm Zyo!\",\n",
              "    \"I'm Zyo! Your Virtual Tour Guide!\"],\n",
              "   'context_set': ''},\n",
              "  {'tag': 'weather_faq',\n",
              "   'patterns': [\"What's the weather like in Bali?\",\n",
              "    'How is the weather in Bali?',\n",
              "    'How does the weather in Bali?',\n",
              "    'weather in bali',\n",
              "    \"bali's weather\",\n",
              "    'bali is hot',\n",
              "    'bali is cold'],\n",
              "   'responses': ['Bali is generally hot, sunny and humid and typically the rainy season is between November - Feb/March. However rain usually pours heavily for a short duration in the afternoon or during the night, leaving the rest of the day warm and sunny (around 90 degrees) and cools off at night'],\n",
              "   'context_set': ''},\n",
              "  {'tag': 'visa_faq',\n",
              "   'patterns': ['Do I need a VISA to enter Bali?',\n",
              "    'visa required',\n",
              "    'Is a VISA required to enter Bali?',\n",
              "    'Is a VISA necessary to enter Bali?',\n",
              "    'visa necessary?'],\n",
              "   'responses': ['Indonesia has a free 30-Day visa-on-arrival system (tourist visa). If you would like to stay more than 30 days, then you will need to pay $35 at the airport when you arrive at the airport for the option to extend with an Indonesian agent for up to 60-days'],\n",
              "   'context_set': ''},\n",
              "  {'tag': 'safe_faq',\n",
              "   'patterns': ['Is Bali Safe?',\n",
              "    'Is there much crime?',\n",
              "    'safety in bali',\n",
              "    'is bali secure?',\n",
              "    'crime in bali'],\n",
              "   'responses': ['Bali has always been peaceful, As for safety in the streets, there is very little violent crime in Bali, especially in Ubud - just be cautious against pickpockets in the beach areas and with handbags on motorbikes late at night'],\n",
              "   'context_set': ''},\n",
              "  {'tag': 'drinkwater_faq',\n",
              "   'patterns': ['Can I drink the water?',\n",
              "    \"Bali's water\",\n",
              "    'water drinkable?',\n",
              "    'drink water in Bali'],\n",
              "   'responses': [\"Always drink bottled or filtered water. 99% of restaurants in Bali use bottled water for all cooking purposes and it is advisable to drink and brush teeth with bottled water to avoid 'Bali Belly' - a mild dysentery which can occur but passes in a few days.\"],\n",
              "   'context_set': ''},\n",
              "  {'tag': 'clothing_faq',\n",
              "   'patterns': ['What clothing can I wear in Bali?',\n",
              "    'what should i wear?',\n",
              "    'clothes to wear in bali',\n",
              "    'bikini allowed?',\n",
              "    'baggy clothes'],\n",
              "   'responses': ['Where you will stay will 99% of the time be air conditioned or with a fan, but outside it is hot and humid. Flip flops or comfortable walking sandals are a must with light clothing like t-shirts and shorts to keep you cool are recommended and a light pullover in the evenings if you are riding a motorbike. When entering temples you must be respectful and have your shoulders covered and wear a sarong (for men and women)'],\n",
              "   'context_set': ''},\n",
              "  {'tag': 'foodprice_faq',\n",
              "   'patterns': [\"What's the normal price for food in Bali?\",\n",
              "    'food price in bali',\n",
              "    'food cheap or expensive?',\n",
              "    'price of the food?'],\n",
              "   'responses': ['Local Indonesian food like nasi campur and nasi/mie goreng will cost you a lot less, around IDR 30,000 (USD $2.50), a meal at a mid range restaurant in will cost between IDR 100,000-250,000 ($12-20) and fine dining restaurants could cost anywhere between IDR 500,000 and 1,000,000+ ($40-$80).'],\n",
              "   'context_set': ''},\n",
              "  {'tag': 'rentcar_faq',\n",
              "   'patterns': ['Should I rent a car?',\n",
              "    'what car to rent?',\n",
              "    'car rental available?',\n",
              "    'rent a car'],\n",
              "   'responses': ['It is not necessary, nor advisable to rent a car in Bali. Taxis will cost about $25 - $30 to take you from the Airport at Denpasar to Ubud (approximately 1.5-hour drive, depending on traffic). Most hotels offer a free shuttle or taxi service to take you to the town center in Ubud. You can also hire a private driver and car for $40 - $60 per day for day excursions.'],\n",
              "   'context_set': ''},\n",
              "  {'tag': 'buddhist_faq',\n",
              "   'patterns': ['Is Bali a Buddhist country?',\n",
              "    'religion in bali',\n",
              "    'Buddhist',\n",
              "    'bali islam?'],\n",
              "   'responses': ['Though Bali is a multi-religious island, most of the people on the island follow Balinese Hinduism which is a fusion of Indian and local Bali customs and culture. Muslim, Christianity, and Buddhism are a few other minority religions on the island.'],\n",
              "   'context_set': ''},\n",
              "  {'tag': 'wifi_faq',\n",
              "   'patterns': ['Does Bali airport have WiFi?',\n",
              "    'wifi in airport',\n",
              "    'airport wifi'],\n",
              "   'responses': ['Denpasar Ngurah International Airport in Bali has free wifi and it is easy to connect to the network too. The free session lasts for 240 minutes.'],\n",
              "   'context_set': ''},\n",
              "  {'tag': 'airportcount_faq',\n",
              "   'patterns': ['How many airports does Bali have?',\n",
              "    'airport in bali',\n",
              "    'bali airport',\n",
              "    'airport'],\n",
              "   'responses': ['There is only one airport in Bali i.e. Denpasar Ngurah International Airport. The airport has two terminals designated to domestic and international flights. The airport has all the modern facilities to provide convenience and comfort to the passengers.'],\n",
              "   'context_set': ''},\n",
              "  {'tag': 'language_faq',\n",
              "   'patterns': ['What language do they speak in Bali?',\n",
              "    'bali language',\n",
              "    'speak in bali',\n",
              "    'bahasa bali',\n",
              "    'bahasa indonesia',\n",
              "    'language speak'],\n",
              "   'responses': ['Bahasa Bali and Bahasa Indonesian are the most prominent languages on the island. Most people in Balinese are bilingual and speak both these languages. A fewer people are fluent in the English language.'],\n",
              "   'context_set': ''},\n",
              "  {'tag': 'exchange_faq',\n",
              "   'patterns': ['What’s the exchange rate in Indonesia?',\n",
              "    'exchange rate',\n",
              "    'What is the current currency exchange rate in Indonesia?'],\n",
              "   'responses': ['The most popular exchange rate in Indonesia is the USD to IDR rate. The national currency of Bali is the Indonesian Rupiah (Rp).'],\n",
              "   'context_set': ''},\n",
              "  {'tag': 'bestthingkid_faq',\n",
              "   'patterns': ['What are the best things to do in Bali with kids?',\n",
              "    'Which activities in Bali are the best for families?',\n",
              "    'What are the finest family-friendly activities in Bali?',\n",
              "    'bali for kids',\n",
              "    'bali for family',\n",
              "    'kids in bali',\n",
              "    'traveling with kids'],\n",
              "   'responses': ['You can take your kids to Bali Safari & Marine Park which is one of the most visited theme parks on the island. Dream Museums is another popular tourist attraction in Bali.'],\n",
              "   'context_set': ''},\n",
              "  {'tag': 'casino_faq',\n",
              "   'patterns': ['Does Bali have a casino?',\n",
              "    'bali casino',\n",
              "    'casino in bali',\n",
              "    'casino available',\n",
              "    'casino'],\n",
              "   'responses': ['No, Bali does not have a casino. There are no sanctioned casinos or poker rooms in Bali. In fact, the activities of gambling and betting are illegal in Bali as it is against their religious principles.'],\n",
              "   'context_set': ''},\n",
              "  {'tag': 'whattoeat_faq',\n",
              "   'patterns': ['What to eat in Bali?',\n",
              "    'eat in bali',\n",
              "    'best food in bali',\n",
              "    'bali food',\n",
              "    'delicious food in bali'],\n",
              "   'responses': ['When you are in Bali, you must try the authentic Balinese food as it is one of its kind and a lot of travelers visit Bali just to try the local delicacies. You must try dishes like Sate, Nasi Ayam, and Nasi Campur, Bebek and Ayam Betutu, Babi Guling and Traditional cakes and desserts.'],\n",
              "   'context_set': ''},\n",
              "  {'tag': 'bestressort_faq',\n",
              "   'patterns': ['Which are the best beach resorts in Bali?',\n",
              "    'bali resort',\n",
              "    'best resort in bali',\n",
              "    'bali resorts',\n",
              "    'recommended resorts'],\n",
              "   'responses': ['If you are a beach lover and are planning to stay at a beach resort in Bali, then the best options for you are The Mulia, St.Regis Bali, The Royal Purnama and W Bali.'],\n",
              "   'context_set': ''},\n",
              "  {'tag': 'besthotel_faq',\n",
              "   'patterns': ['Which are the best hotels in Seminyak',\n",
              "    'best hotel in seminyak',\n",
              "    'best hotel',\n",
              "    'recommended hotel'],\n",
              "   'responses': ['The best hotels in Seminyak are Horison Seminyak, The Haven Bali Seminyak, Courtyard by Marriott Bali Seminyak Resort and Harris Hotel Seminyak.'],\n",
              "   'context_set': ''},\n",
              "  {'tag': 'timevisit_faq',\n",
              "   'patterns': ['When is the best time to go?',\n",
              "    'best time to go',\n",
              "    'what time to go',\n",
              "    'time to come',\n",
              "    'what year to come to bali'],\n",
              "   'responses': ['Bali is a spectacular destination to visit all year round with stunning tropical scenery and endless opportunities for adventure. While temperatures tend to average 27 °C throughout the year, we recommend visiting between May to August for optimal tropical conditions without the holiday crowds.'],\n",
              "   'context_set': ''},\n",
              "  {'tag': 'corona_faq',\n",
              "   'patterns': ['Is there Corona Virus in Bali?',\n",
              "    'corona in bali',\n",
              "    'corona',\n",
              "    'covid 19',\n",
              "    'bali corona covid',\n",
              "    'bali virus'],\n",
              "   'responses': ['Bali is in the midst of vaccinations, and most of the main tourist areas have already been fully vaccinated. During the Pandemic, numbers of infections stayed fairly low on the island. All resorts and public areas maintain good health protocols, using disinfectants and wiping down tables etc.'],\n",
              "   'context_set': ''},\n",
              "  {'tag': 'taxis_faq',\n",
              "   'patterns': ['What taxis do you catch in Bali?',\n",
              "    'taxi to go',\n",
              "    'what taxi to ride',\n",
              "    'bali taxi'],\n",
              "   'responses': ['The best taxis are generally Bluebird, as they are metered and monitored. If you are willing to barter, you can always have someone else drive you around. There are usually plenty of willing drivers outside most resorts.'],\n",
              "   'context_set': ''},\n",
              "  {'tag': 'illegal_faq',\n",
              "   'patterns': ['What is illegal in Bali?',\n",
              "    'drugs is illegal',\n",
              "    'illegal in bali',\n",
              "    'drugs'],\n",
              "   'responses': ['Drugs. Bali is very, very strict on them, and if you are caught, there is basically no defence. You will end up in jail.'],\n",
              "   'context_set': ''},\n",
              "  {'tag': 'smoke_faq',\n",
              "   'patterns': ['Can i smoke in Bali?',\n",
              "    'smoking in bali',\n",
              "    'cigarettes in bali',\n",
              "    'can i smoke?'],\n",
              "   'responses': ['Many Balinese people smoke, and cigarettes are quite cheap, although not the same quality as home.'],\n",
              "   'context_set': ''}]}"
            ]
          },
          "metadata": {},
          "execution_count": 4
        }
      ]
    },
    {
      "cell_type": "markdown",
      "source": [
        "Import segala library yang dibutuhkan, seperti nltk, numpy, keras, dll."
      ],
      "metadata": {
        "id": "oWToRwib5i13"
      }
    },
    {
      "cell_type": "code",
      "source": [
        "import nltk\n",
        "from nltk.stem import WordNetLemmatizer\n",
        "lemmatizer = WordNetLemmatizer()\n",
        "import json\n",
        "import pickle\n",
        "import tensorflow\n",
        "import numpy as np\n",
        "from keras.models import Sequential\n",
        "from keras.layers import Dense, Activation, Dropout\n",
        "from keras.optimizer_v2.gradient_descent import SGD\n",
        "import random"
      ],
      "metadata": {
        "id": "1Ld9pe964Ba5"
      },
      "execution_count": 5,
      "outputs": []
    },
    {
      "cell_type": "code",
      "source": [
        "!pip install nlpaug"
      ],
      "metadata": {
        "id": "7eUtTw0iSkXw",
        "colab": {
          "base_uri": "https://localhost:8080/"
        },
        "outputId": "f763efd2-2f29-4014-a474-4207d9790d7f"
      },
      "execution_count": 6,
      "outputs": [
        {
          "output_type": "stream",
          "name": "stdout",
          "text": [
            "Looking in indexes: https://pypi.org/simple, https://us-python.pkg.dev/colab-wheels/public/simple/\n",
            "Requirement already satisfied: nlpaug in /usr/local/lib/python3.7/dist-packages (1.1.11)\n",
            "Requirement already satisfied: pandas>=1.2.0 in /usr/local/lib/python3.7/dist-packages (from nlpaug) (1.3.5)\n",
            "Requirement already satisfied: requests>=2.22.0 in /usr/local/lib/python3.7/dist-packages (from nlpaug) (2.23.0)\n",
            "Requirement already satisfied: gdown>=4.0.0 in /usr/local/lib/python3.7/dist-packages (from nlpaug) (4.4.0)\n",
            "Requirement already satisfied: numpy>=1.16.2 in /usr/local/lib/python3.7/dist-packages (from nlpaug) (1.21.6)\n",
            "Requirement already satisfied: six in /usr/local/lib/python3.7/dist-packages (from gdown>=4.0.0->nlpaug) (1.15.0)\n",
            "Requirement already satisfied: tqdm in /usr/local/lib/python3.7/dist-packages (from gdown>=4.0.0->nlpaug) (4.64.0)\n",
            "Requirement already satisfied: filelock in /usr/local/lib/python3.7/dist-packages (from gdown>=4.0.0->nlpaug) (3.8.0)\n",
            "Requirement already satisfied: beautifulsoup4 in /usr/local/lib/python3.7/dist-packages (from gdown>=4.0.0->nlpaug) (4.6.3)\n",
            "Requirement already satisfied: pytz>=2017.3 in /usr/local/lib/python3.7/dist-packages (from pandas>=1.2.0->nlpaug) (2022.2.1)\n",
            "Requirement already satisfied: python-dateutil>=2.7.3 in /usr/local/lib/python3.7/dist-packages (from pandas>=1.2.0->nlpaug) (2.8.2)\n",
            "Requirement already satisfied: idna<3,>=2.5 in /usr/local/lib/python3.7/dist-packages (from requests>=2.22.0->nlpaug) (2.10)\n",
            "Requirement already satisfied: urllib3!=1.25.0,!=1.25.1,<1.26,>=1.21.1 in /usr/local/lib/python3.7/dist-packages (from requests>=2.22.0->nlpaug) (1.24.3)\n",
            "Requirement already satisfied: chardet<4,>=3.0.2 in /usr/local/lib/python3.7/dist-packages (from requests>=2.22.0->nlpaug) (3.0.4)\n",
            "Requirement already satisfied: certifi>=2017.4.17 in /usr/local/lib/python3.7/dist-packages (from requests>=2.22.0->nlpaug) (2022.6.15)\n",
            "Requirement already satisfied: PySocks!=1.5.7,>=1.5.6 in /usr/local/lib/python3.7/dist-packages (from requests>=2.22.0->nlpaug) (1.7.1)\n",
            "\u001b[33mWARNING: Running pip as the 'root' user can result in broken permissions and conflicting behaviour with the system package manager. It is recommended to use a virtual environment instead: https://pip.pypa.io/warnings/venv\u001b[0m\u001b[33m\n",
            "\u001b[0m"
          ]
        }
      ]
    },
    {
      "cell_type": "code",
      "source": [
        "import nlpaug.augmenter.char as nac\n",
        "import nlpaug.augmenter.word as naw\n",
        "import nlpaug.augmenter.sentence as nas\n",
        "import nlpaug.flow as nafc\n",
        "\n",
        "from nlpaug.util import Action"
      ],
      "metadata": {
        "id": "RMn_AkxaSGzg"
      },
      "execution_count": 7,
      "outputs": []
    },
    {
      "cell_type": "code",
      "source": [
        "!pip install -U transformers"
      ],
      "metadata": {
        "id": "Z1TxyAQ5UQ6g",
        "colab": {
          "base_uri": "https://localhost:8080/"
        },
        "outputId": "bd9647e4-3099-4ccc-9d32-026f536b8243"
      },
      "execution_count": 8,
      "outputs": [
        {
          "output_type": "stream",
          "name": "stdout",
          "text": [
            "Looking in indexes: https://pypi.org/simple, https://us-python.pkg.dev/colab-wheels/public/simple/\n",
            "Requirement already satisfied: transformers in /usr/local/lib/python3.7/dist-packages (4.21.1)\n",
            "Requirement already satisfied: tqdm>=4.27 in /usr/local/lib/python3.7/dist-packages (from transformers) (4.64.0)\n",
            "Requirement already satisfied: huggingface-hub<1.0,>=0.1.0 in /usr/local/lib/python3.7/dist-packages (from transformers) (0.8.1)\n",
            "Requirement already satisfied: packaging>=20.0 in /usr/local/lib/python3.7/dist-packages (from transformers) (21.3)\n",
            "Requirement already satisfied: pyyaml>=5.1 in /usr/local/lib/python3.7/dist-packages (from transformers) (6.0)\n",
            "Requirement already satisfied: requests in /usr/local/lib/python3.7/dist-packages (from transformers) (2.23.0)\n",
            "Requirement already satisfied: filelock in /usr/local/lib/python3.7/dist-packages (from transformers) (3.8.0)\n",
            "Requirement already satisfied: tokenizers!=0.11.3,<0.13,>=0.11.1 in /usr/local/lib/python3.7/dist-packages (from transformers) (0.12.1)\n",
            "Requirement already satisfied: regex!=2019.12.17 in /usr/local/lib/python3.7/dist-packages (from transformers) (2022.6.2)\n",
            "Requirement already satisfied: importlib-metadata in /usr/local/lib/python3.7/dist-packages (from transformers) (4.12.0)\n",
            "Requirement already satisfied: numpy>=1.17 in /usr/local/lib/python3.7/dist-packages (from transformers) (1.21.6)\n",
            "Requirement already satisfied: typing-extensions>=3.7.4.3 in /usr/local/lib/python3.7/dist-packages (from huggingface-hub<1.0,>=0.1.0->transformers) (4.1.1)\n",
            "Requirement already satisfied: pyparsing!=3.0.5,>=2.0.2 in /usr/local/lib/python3.7/dist-packages (from packaging>=20.0->transformers) (3.0.9)\n",
            "Requirement already satisfied: zipp>=0.5 in /usr/local/lib/python3.7/dist-packages (from importlib-metadata->transformers) (3.8.1)\n",
            "Requirement already satisfied: chardet<4,>=3.0.2 in /usr/local/lib/python3.7/dist-packages (from requests->transformers) (3.0.4)\n",
            "Requirement already satisfied: certifi>=2017.4.17 in /usr/local/lib/python3.7/dist-packages (from requests->transformers) (2022.6.15)\n",
            "Requirement already satisfied: urllib3!=1.25.0,!=1.25.1,<1.26,>=1.21.1 in /usr/local/lib/python3.7/dist-packages (from requests->transformers) (1.24.3)\n",
            "Requirement already satisfied: idna<3,>=2.5 in /usr/local/lib/python3.7/dist-packages (from requests->transformers) (2.10)\n",
            "\u001b[33mWARNING: Running pip as the 'root' user can result in broken permissions and conflicting behaviour with the system package manager. It is recommended to use a virtual environment instead: https://pip.pypa.io/warnings/venv\u001b[0m\u001b[33m\n",
            "\u001b[0m"
          ]
        }
      ]
    },
    {
      "cell_type": "markdown",
      "source": [
        "Synonym Augmented"
      ],
      "metadata": {
        "id": "r38GMdK9eoXl"
      }
    },
    {
      "cell_type": "code",
      "source": [
        "words = []\n",
        "labels = []\n",
        "documents = []\n",
        "ignore_words = ['?', '!', ',','.','-','UNK']\n",
        "intents = json.loads(data)\n",
        "#nltk.download('punkt')\n",
        "\n",
        "# for intent in intents['intents']:\n",
        "#     for pattern in intent['patterns']:\n",
        "#       aug = naw.SynonymAug(aug_src='wordnet', lang='eng')\n",
        "#       augmented_text = aug.augment(pattern)\n",
        "#       print(\"Asli:\", pattern)\n",
        "#       print(\"Augmented:\", augmented_text)"
      ],
      "metadata": {
        "id": "Y7Vx6rwdSJcn"
      },
      "execution_count": 9,
      "outputs": []
    },
    {
      "cell_type": "markdown",
      "source": [
        "Multiple Version Word Augmented"
      ],
      "metadata": {
        "id": "NKBkXdy9ij9V"
      }
    },
    {
      "cell_type": "code",
      "source": [
        "# for intent in intents['intents']:\n",
        "#     for pattern in intent['patterns']:\n",
        "#       for i in range(3):\n",
        "#         #random word augmentation\n",
        "#         aug = naw.RandomWordAug(action=Action.SWAP)\n",
        "#         augmented_text = aug.augment(pattern)\n",
        "#         #word synonym augmentation\n",
        "#         aug2 = naw.SynonymAug(aug_src='wordnet', lang='eng')\n",
        "#         augmented_text2 = aug2.augment(augmented_text)\n",
        "#         #contextual word embedding augmentation\n",
        "#         aug3 = naw.ContextualWordEmbsAug(model_path='distilbert-base-uncased-distilled-squad', aug_p=0.1)\n",
        "#         augmented_text3 = aug3.augment(augmented_text2)\n",
        "#         print(\"Asli:\", pattern)\n",
        "#         print(\"Augmented:\", augmented_text)\n",
        "#         print(\"Augmented:\", augmented_text2)\n",
        "#         print(\"Augmented:\", augmented_text3)"
      ],
      "metadata": {
        "id": "nyFQtfIrgJID"
      },
      "execution_count": 10,
      "outputs": []
    },
    {
      "cell_type": "code",
      "source": [
        "!pip install git+https://github.com/PrithivirajDamodaran/Parrot_Paraphraser.git"
      ],
      "metadata": {
        "id": "lq8B6vASbI6w"
      },
      "execution_count": null,
      "outputs": []
    },
    {
      "cell_type": "code",
      "source": [
        "!pip install --upgrade pip"
      ],
      "metadata": {
        "id": "Lyfx-p69j5r5"
      },
      "execution_count": null,
      "outputs": []
    },
    {
      "cell_type": "code",
      "source": [
        "!pip install sentencepiece"
      ],
      "metadata": {
        "id": "MJ9R54DeiogC"
      },
      "execution_count": null,
      "outputs": []
    },
    {
      "cell_type": "code",
      "source": [
        "!pip install transformers[sentencepiece]"
      ],
      "metadata": {
        "id": "AU_ffOJ8kHZq"
      },
      "execution_count": null,
      "outputs": []
    },
    {
      "cell_type": "code",
      "source": [
        "!pip install tokenizers"
      ],
      "metadata": {
        "id": "SP_edYNwjYGS"
      },
      "execution_count": null,
      "outputs": []
    },
    {
      "cell_type": "code",
      "source": [
        "from parrot import Parrot\n",
        "import torch\n",
        "import warnings\n",
        "warnings.filterwarnings(\"ignore\")\n",
        "\n",
        "def random_state(seed):\n",
        "  torch.manual_seed(seed)\n",
        "  if torch.cuda.is_available():\n",
        "    torch.cuda.manual_seed_all(seed)\n",
        "\n",
        "random_state(1234)\n",
        "\n",
        "#Init models (make sure you init ONLY once if you integrate this to your code)\n",
        "parrot = Parrot(model_tag=\"prithivida/parrot_paraphraser_on_T5\", use_gpu=True)"
      ],
      "metadata": {
        "id": "-ZkPo3rHbPl_"
      },
      "execution_count": 33,
      "outputs": []
    },
    {
      "cell_type": "code",
      "source": [
        "def convertTuple(tup):\n",
        "        # initialize an empty string\n",
        "    str = ''\n",
        "    for item in tup:\n",
        "        str = str + item\n",
        "    return str\n",
        "\n",
        "for intent in intents['intents']:\n",
        "    for pattern in intent['patterns']:\n",
        "      \n",
        "      print(\"Input phrase: \", pattern)\n",
        "      para_phrases = parrot.augment(input_phrase=pattern, use_gpu=True, do_diverse=True)\n",
        "      for paraphrase in para_phrases or []:                                  \n",
        "        print(\"Paraphrase:\", convertTuple(paraphrase[0])) \n",
        "      print(\"-\"*100)"
      ],
      "metadata": {
        "colab": {
          "base_uri": "https://localhost:8080/"
        },
        "id": "7x4i9efJiSgE",
        "outputId": "d00dae00-af79-4a02-a588-782f48b2674a"
      },
      "execution_count": 58,
      "outputs": [
        {
          "output_type": "stream",
          "name": "stdout",
          "text": [
            "Input phrase:  Hi\n",
            "Paraphrase: Hi\n",
            "----------------------------------------------------------------------------------------------------\n",
            "Input phrase:  How are you\n",
            "Paraphrase: how are you doing?\n",
            "Paraphrase: how are you?\n",
            "----------------------------------------------------------------------------------------------------\n",
            "Input phrase:  Is anyone there?\n",
            "Paraphrase: is there anyone?\n",
            "Paraphrase: who is there?\n",
            "Paraphrase: is anyone here?\n",
            "Paraphrase: is there anyone here?\n",
            "Paraphrase: is anyone there?\n",
            "Paraphrase: is there anyone there?\n",
            "----------------------------------------------------------------------------------------------------\n",
            "Input phrase:  Hello\n",
            "Paraphrase: Hello\n",
            "----------------------------------------------------------------------------------------------------\n",
            "Input phrase:  Good day\n",
            "----------------------------------------------------------------------------------------------------\n",
            "Input phrase:  Whats up\n",
            "Paraphrase: what's the deal?\n",
            "----------------------------------------------------------------------------------------------------\n",
            "Input phrase:  cya\n",
            "Paraphrase: cya\n",
            "----------------------------------------------------------------------------------------------------\n",
            "Input phrase:  See you later\n",
            "Paraphrase: See you later\n",
            "----------------------------------------------------------------------------------------------------\n",
            "Input phrase:  Goodbye\n",
            "Paraphrase: good bye\n",
            "Paraphrase: goodbye\n",
            "----------------------------------------------------------------------------------------------------\n",
            "Input phrase:  I am Leaving\n",
            "Paraphrase: i will leave\n",
            "Paraphrase: i'll leave\n",
            "Paraphrase: i'm leaving\n",
            "Paraphrase: i am leaving\n",
            "----------------------------------------------------------------------------------------------------\n",
            "Input phrase:  Have a Good day\n",
            "Paraphrase: please have a good day\n",
            "----------------------------------------------------------------------------------------------------\n",
            "Input phrase:  how old\n",
            "Paraphrase: how old\n",
            "----------------------------------------------------------------------------------------------------\n",
            "Input phrase:  how old is zyo\n",
            "Paraphrase: how old is zyo?\n",
            "----------------------------------------------------------------------------------------------------\n",
            "Input phrase:  what is your age\n",
            "Paraphrase: what's your age?\n",
            "Paraphrase: what is your age?\n",
            "----------------------------------------------------------------------------------------------------\n",
            "Input phrase:  how old are you\n",
            "Paraphrase: how old is your age?\n",
            "Paraphrase: is your age?\n",
            "----------------------------------------------------------------------------------------------------\n",
            "Input phrase:  age?\n",
            "Paraphrase: what's the age?\n",
            "Paraphrase: what age?\n",
            "----------------------------------------------------------------------------------------------------\n",
            "Input phrase:  what is your name\n",
            "Paraphrase: what's your name?\n",
            "Paraphrase: what is your name?\n",
            "----------------------------------------------------------------------------------------------------\n",
            "Input phrase:  what should I call you\n",
            "Paraphrase: what do i call you?\n",
            "Paraphrase: should i call you?\n",
            "Paraphrase: should i call you\n",
            "Paraphrase: what should i call you?\n",
            "----------------------------------------------------------------------------------------------------\n",
            "Input phrase:  whats your name?\n",
            "Paraphrase: what is your name?\n",
            "Paraphrase: what's your name?\n",
            "----------------------------------------------------------------------------------------------------\n",
            "Input phrase:  What's the weather like in Bali?\n",
            "Paraphrase: what are your thoughts on the weather at bali?\n",
            "Paraphrase: what are your thoughts on the weather in bali?\n",
            "Paraphrase: what's the weather in bali?\n",
            "Paraphrase: what is the weather like in bali?\n",
            "Paraphrase: what's the weather like in bali?\n",
            "----------------------------------------------------------------------------------------------------\n",
            "Input phrase:  How is the weather in Bali?\n",
            "Paraphrase: what are your thoughts about the weather in bali?\n",
            "Paraphrase: what's the weather like in bali?\n",
            "Paraphrase: what are your thoughts on the weather in bali?\n",
            "Paraphrase: what's the weather in bali?\n",
            "Paraphrase: how's the weather in bali?\n",
            "Paraphrase: how is the weather in bali?\n",
            "----------------------------------------------------------------------------------------------------\n",
            "Input phrase:  How does the weather in Bali?\n",
            "Paraphrase: what's the weather like in bali?\n",
            "Paraphrase: what do you think about the weather in bali?\n",
            "Paraphrase: what do you think of the weather in bali?\n",
            "Paraphrase: how's the weather in bali?\n",
            "Paraphrase: how is the weather in bali?\n",
            "----------------------------------------------------------------------------------------------------\n",
            "Input phrase:  weather in bali\n",
            "Paraphrase: weather in bali\n",
            "----------------------------------------------------------------------------------------------------\n",
            "Input phrase:  bali's weather\n",
            "Paraphrase: the weather in bali is\n",
            "----------------------------------------------------------------------------------------------------\n",
            "Input phrase:  bali is hot\n",
            "Paraphrase: bali is hot\n",
            "----------------------------------------------------------------------------------------------------\n",
            "Input phrase:  bali is cold\n",
            "Paraphrase: bali is cold\n",
            "----------------------------------------------------------------------------------------------------\n",
            "Input phrase:  Do I need a VISA to enter Bali?\n",
            "Paraphrase: do i need a visa to travel to bali?\n",
            "Paraphrase: do i need a visa to enter bali?\n",
            "----------------------------------------------------------------------------------------------------\n",
            "Input phrase:  visa required\n",
            "Paraphrase: required visa\n",
            "Paraphrase: visa required\n",
            "----------------------------------------------------------------------------------------------------\n",
            "Input phrase:  Is a VISA required to enter Bali?\n",
            "Paraphrase: does a visa have to be issued for entry into bali?\n",
            "Paraphrase: does a visa have to be issued for entry to bali?\n",
            "Paraphrase: does a visa need to be obtained to enter bali?\n",
            "Paraphrase: is a visa required to travel to bali?\n",
            "Paraphrase: is visa required to enter bali?\n",
            "Paraphrase: is a visa required to enter bali?\n",
            "----------------------------------------------------------------------------------------------------\n",
            "Input phrase:  Is a VISA necessary to enter Bali?\n",
            "Paraphrase: does a visa need to be obtained to travel to bali?\n",
            "Paraphrase: does a visa need to be obtained to enter bali?\n",
            "Paraphrase: does a visa need to be issued to enter bali?\n",
            "Paraphrase: is a visa required to enter bali?\n",
            "Paraphrase: is a visa necessary to enter bali?\n",
            "----------------------------------------------------------------------------------------------------\n",
            "Input phrase:  visa necessary?\n",
            "Paraphrase: are visas necessary?\n",
            "----------------------------------------------------------------------------------------------------\n",
            "Input phrase:  Is Bali Safe?\n",
            "Paraphrase: is bali safe?\n",
            "----------------------------------------------------------------------------------------------------\n",
            "Input phrase:  Is there much crime?\n",
            "Paraphrase: is there a lot of criminal activity?\n",
            "Paraphrase: is there a lot of crimes?\n",
            "Paraphrase: is there a lot of crime?\n",
            "Paraphrase: is there much crime?\n",
            "----------------------------------------------------------------------------------------------------\n",
            "Input phrase:  safety in bali\n",
            "Paraphrase: safety in bali\n",
            "----------------------------------------------------------------------------------------------------\n",
            "Input phrase:  is bali secure?\n",
            "Paraphrase: is bali safe?\n",
            "----------------------------------------------------------------------------------------------------\n",
            "Input phrase:  crime in bali\n",
            "Paraphrase: crime in bali\n",
            "----------------------------------------------------------------------------------------------------\n",
            "Input phrase:  Can I drink the water?\n",
            "Paraphrase: can i drink water? why or why not?\n",
            "Paraphrase: can you drink water?\n",
            "Paraphrase: can i drink water?\n",
            "----------------------------------------------------------------------------------------------------\n",
            "Input phrase:  Bali's water\n",
            "Paraphrase: Bali's water\n",
            "----------------------------------------------------------------------------------------------------\n",
            "Input phrase:  water drinkable?\n",
            "Paraphrase: can we drink water?\n",
            "----------------------------------------------------------------------------------------------------\n",
            "Input phrase:  drink water in Bali\n",
            "Paraphrase: drink water in Bali\n",
            "----------------------------------------------------------------------------------------------------\n",
            "Input phrase:  What clothing can I wear in Bali?\n",
            "Paraphrase: what can i wear in bali?\n",
            "Paraphrase: what clothing should i wear in bali?\n",
            "Paraphrase: what clothes can i wear in bali?\n",
            "Paraphrase: what clothing can i wear in bali?\n",
            "----------------------------------------------------------------------------------------------------\n",
            "Input phrase:  what should i wear?\n",
            "Paraphrase: what should i wear?\n",
            "----------------------------------------------------------------------------------------------------\n",
            "Input phrase:  clothes to wear in bali\n",
            "Paraphrase: clothes to wear in bali\n",
            "----------------------------------------------------------------------------------------------------\n",
            "Input phrase:  bikini allowed?\n",
            "Paraphrase: is a bikini acceptable?\n",
            "Paraphrase: is a bikini permitted?\n",
            "Paraphrase: is a bikini allowed?\n",
            "Paraphrase: is the bikini allowed?\n",
            "Paraphrase: are bikinis allowed?\n",
            "----------------------------------------------------------------------------------------------------\n",
            "Input phrase:  baggy clothes\n",
            "Paraphrase: baggy clothes\n",
            "----------------------------------------------------------------------------------------------------\n",
            "Input phrase:  What's the normal price for food in Bali?\n",
            "Paraphrase: tell me the average price of food in bali? how much is it?\n",
            "Paraphrase: tell me the normal price of food in bali? how much is it?\n",
            "Paraphrase: tell me the average price of food in bali? why?\n",
            "Paraphrase: tell me the average price of food in bali?\n",
            "Paraphrase: tell me the average price for food in bali?\n",
            "Paraphrase: tell me the normal price of food in bali?\n",
            "Paraphrase: tell me the normal price for food in bali?\n",
            "----------------------------------------------------------------------------------------------------\n",
            "Input phrase:  food price in bali\n",
            "Paraphrase: food price in bali\n",
            "----------------------------------------------------------------------------------------------------\n",
            "Input phrase:  food cheap or expensive?\n",
            "Paraphrase: food is cheap or expensive?\n",
            "Paraphrase: is food cheap or expensive?\n",
            "Paraphrase: - is food cheap or expensive?\n",
            "----------------------------------------------------------------------------------------------------\n",
            "Input phrase:  price of the food?\n",
            "Paraphrase: what's the cost of the food?\n",
            "Paraphrase: the price of the food?\n",
            "----------------------------------------------------------------------------------------------------\n",
            "Input phrase:  Should I rent a car?\n",
            "Paraphrase: should i rent a car or not?\n",
            "Paraphrase: should i rent a car?\n",
            "----------------------------------------------------------------------------------------------------\n",
            "Input phrase:  what car to rent?\n",
            "Paraphrase: what car should i rent?\n",
            "Paraphrase: what car to rent?\n",
            "----------------------------------------------------------------------------------------------------\n",
            "Input phrase:  car rental available?\n",
            "Paraphrase: car rental available?\n",
            "----------------------------------------------------------------------------------------------------\n",
            "Input phrase:  rent a car\n",
            "Paraphrase: hire a car\n",
            "Paraphrase: rent a car \n",
            "Paraphrase: rent a car\n",
            "----------------------------------------------------------------------------------------------------\n",
            "Input phrase:  Is Bali a Buddhist country?\n",
            "Paraphrase: is bali a buddhist country?\n",
            "----------------------------------------------------------------------------------------------------\n",
            "Input phrase:  religion in bali\n",
            "Paraphrase: religion in bali\n",
            "----------------------------------------------------------------------------------------------------\n",
            "Input phrase:  Buddhist\n",
            "Paraphrase: Buddhist\n",
            "----------------------------------------------------------------------------------------------------\n",
            "Input phrase:  bali islam?\n",
            "Paraphrase: bali islam?\n",
            "----------------------------------------------------------------------------------------------------\n",
            "Input phrase:  Does Bali airport have WiFi?\n",
            "Paraphrase: does the airport in bali have a wifi connection?\n",
            "Paraphrase: does the airport in bali have a wifi network?\n",
            "Paraphrase: does the airport in bali have a wifi?\n",
            "Paraphrase: does the airport in bali have wi-fi?\n",
            "Paraphrase: does the airport in bali have wifi?\n",
            "----------------------------------------------------------------------------------------------------\n",
            "Input phrase:  wifi in airport\n",
            "Paraphrase: wifi at the airport?\n",
            "----------------------------------------------------------------------------------------------------\n",
            "Input phrase:  airport wifi\n",
            "Paraphrase: wi-fi\n",
            "----------------------------------------------------------------------------------------------------\n",
            "Input phrase:  How many airports does Bali have?\n",
            "Paraphrase: how many airports in bali? how many are there?\n",
            "Paraphrase: how many airports is there in bali?\n",
            "Paraphrase: how many airports are there in bali?\n",
            "Paraphrase: how many airports do bali have?\n",
            "Paraphrase: how many airports does bali have?\n",
            "----------------------------------------------------------------------------------------------------\n",
            "Input phrase:  airport in bali\n",
            "Paraphrase: airport in bali\n",
            "----------------------------------------------------------------------------------------------------\n",
            "Input phrase:  bali airport\n",
            "Paraphrase: bali airport\n",
            "----------------------------------------------------------------------------------------------------\n",
            "Input phrase:  airport\n",
            "Paraphrase: airport\n",
            "----------------------------------------------------------------------------------------------------\n",
            "Input phrase:  What language do they speak in Bali?\n",
            "----------------------------------------------------------------------------------------------------\n",
            "Input phrase:  bali language\n",
            "Paraphrase: bali language\n",
            "----------------------------------------------------------------------------------------------------\n",
            "Input phrase:  speak in bali\n",
            "Paraphrase: speak in bali\n",
            "----------------------------------------------------------------------------------------------------\n",
            "Input phrase:  bahasa bali\n",
            "----------------------------------------------------------------------------------------------------\n",
            "Input phrase:  bahasa indonesia\n",
            "Paraphrase: bahasa indonesia\n",
            "----------------------------------------------------------------------------------------------------\n",
            "Input phrase:  language speak\n",
            "Paraphrase: language speak\n",
            "----------------------------------------------------------------------------------------------------\n",
            "Input phrase:  What’s the exchange rate in Indonesia?\n",
            "Paraphrase: tell me the exchange rate in indonesia?\n",
            "Paraphrase: what is the exchange rate in indonesia?\n",
            "Paraphrase: what's the exchange rate in indonesia?\n",
            "----------------------------------------------------------------------------------------------------\n",
            "Input phrase:  exchange rate\n",
            "Paraphrase: the exchange rate\n",
            "----------------------------------------------------------------------------------------------------\n",
            "Input phrase:  What is the current currency exchange rate in Indonesia?\n",
            "Paraphrase: tell me the current exchange rate in indonesia?\n",
            "Paraphrase: what is the current exchange rate in indonesia?\n",
            "Paraphrase: tell me the current currency exchange rate in indonesia?\n",
            "Paraphrase: what is the current currency exchange rate in indonesia?\n",
            "----------------------------------------------------------------------------------------------------\n",
            "Input phrase:  What are the best things to do in Bali with kids?\n",
            "Paraphrase: list some of the best things to do in bali?\n",
            "Paraphrase: which are the best things to do in bali?\n",
            "Paraphrase: tell me the best thing to do in bali with children?\n",
            "Paraphrase: tell me the best thing to do in bali with kids?\n",
            "Paraphrase: which are the best things to do in bali with kids?\n",
            "----------------------------------------------------------------------------------------------------\n",
            "Input phrase:  Which activities in Bali are the best for families?\n",
            "Paraphrase: which activities are best for families in bali?\n",
            "Paraphrase: which activities in bali are best for families?\n",
            "----------------------------------------------------------------------------------------------------\n",
            "Input phrase:  What are the finest family-friendly activities in Bali?\n",
            "Paraphrase: tell me the best family-friendly activity in bali?\n",
            "Paraphrase: tell me the best family-friendly activities in bali?\n",
            "----------------------------------------------------------------------------------------------------\n",
            "Input phrase:  bali for kids\n",
            "Paraphrase: bali for kids\n",
            "----------------------------------------------------------------------------------------------------\n",
            "Input phrase:  bali for family\n",
            "Paraphrase: bali for family\n",
            "----------------------------------------------------------------------------------------------------\n",
            "Input phrase:  kids in bali\n",
            "----------------------------------------------------------------------------------------------------\n",
            "Input phrase:  traveling with kids\n",
            "Paraphrase: traveling with kids\n",
            "----------------------------------------------------------------------------------------------------\n",
            "Input phrase:  Does Bali have a casino?\n",
            "Paraphrase: is there a casino in bali?\n",
            "Paraphrase: are there casinos in bali?\n",
            "Paraphrase: are there any casinos in bali?\n",
            "Paraphrase: does bali has a casino?\n",
            "Paraphrase: does bali have a casino?\n",
            "----------------------------------------------------------------------------------------------------\n",
            "Input phrase:  bali casino\n",
            "Paraphrase: bali casino\n",
            "----------------------------------------------------------------------------------------------------\n",
            "Input phrase:  casino in bali\n",
            "Paraphrase: casino in bali\n",
            "----------------------------------------------------------------------------------------------------\n",
            "Input phrase:  casino available\n",
            "Paraphrase: casino available\n",
            "----------------------------------------------------------------------------------------------------\n",
            "Input phrase:  casino\n",
            "Paraphrase: casino\n",
            "----------------------------------------------------------------------------------------------------\n",
            "Input phrase:  What to eat in Bali?\n",
            "Paraphrase: what's the best place to eat on bali?\n",
            "Paraphrase: what is a good place to eat in bali?\n",
            "Paraphrase: what should i eat in bali?\n",
            "Paraphrase: what can i eat in bali?\n",
            "----------------------------------------------------------------------------------------------------\n",
            "Input phrase:  eat in bali\n",
            "Paraphrase: eat in bali\n",
            "----------------------------------------------------------------------------------------------------\n",
            "Input phrase:  best food in bali\n",
            "----------------------------------------------------------------------------------------------------\n",
            "Input phrase:  bali food\n",
            "Paraphrase: bali food\n",
            "----------------------------------------------------------------------------------------------------\n",
            "Input phrase:  delicious food in bali\n",
            "Paraphrase: delicious food in bali\n",
            "----------------------------------------------------------------------------------------------------\n",
            "Input phrase:  Which are the best beach resorts in Bali?\n",
            "Paraphrase: tell me the best beach resort in bali? why?\n",
            "Paraphrase: tell me the best beach resort in bali?\n",
            "Paraphrase: which are the best beaches in bali?\n",
            "Paraphrase: which is the best beach resort in bali?\n",
            "Paraphrase: which are the best beach resorts in bali?\n",
            "----------------------------------------------------------------------------------------------------\n",
            "Input phrase:  bali resort\n",
            "Paraphrase: bali resort\n",
            "----------------------------------------------------------------------------------------------------\n",
            "Input phrase:  best resort in bali\n",
            "----------------------------------------------------------------------------------------------------\n",
            "Input phrase:  bali resorts\n",
            "Paraphrase: bali resorts\n",
            "----------------------------------------------------------------------------------------------------\n",
            "Input phrase:  recommended resorts\n",
            "Paraphrase: recommend some resorts\n",
            "----------------------------------------------------------------------------------------------------\n",
            "Input phrase:  Which are the best hotels in Seminyak\n",
            "Paraphrase: list the best hotels in seminyak?\n",
            "Paraphrase: which is the best hotel in seminyak?\n",
            "Paraphrase: which are the best hotels in seminyak?\n",
            "----------------------------------------------------------------------------------------------------\n",
            "Input phrase:  best hotel in seminyak\n",
            "----------------------------------------------------------------------------------------------------\n",
            "Input phrase:  best hotel\n",
            "----------------------------------------------------------------------------------------------------\n",
            "Input phrase:  recommended hotel\n",
            "Paraphrase: recommended hotel\n",
            "----------------------------------------------------------------------------------------------------\n",
            "Input phrase:  When is the best time to go?\n",
            "Paraphrase: what's the best time to go somewhere?\n",
            "Paraphrase: when is the best time to travel?\n",
            "Paraphrase: what's the best time to go?\n",
            "Paraphrase: when is the best time to go?\n",
            "----------------------------------------------------------------------------------------------------\n",
            "Input phrase:  best time to go\n",
            "----------------------------------------------------------------------------------------------------\n",
            "Input phrase:  what time to go\n",
            "Paraphrase: what time to go?\n",
            "----------------------------------------------------------------------------------------------------\n",
            "Input phrase:  time to come\n",
            "----------------------------------------------------------------------------------------------------\n",
            "Input phrase:  what year to come to bali\n",
            "Paraphrase: what year will you come to bali?\n",
            "----------------------------------------------------------------------------------------------------\n",
            "Input phrase:  Is there Corona Virus in Bali?\n",
            "Paraphrase: Is there Corona Virus in Bali?\n",
            "----------------------------------------------------------------------------------------------------\n",
            "Input phrase:  corona in bali\n",
            "Paraphrase: corona in bali\n",
            "----------------------------------------------------------------------------------------------------\n",
            "Input phrase:  corona\n",
            "Paraphrase: corona\n",
            "----------------------------------------------------------------------------------------------------\n",
            "Input phrase:  covid 19\n",
            "Paraphrase: covid 19\n",
            "----------------------------------------------------------------------------------------------------\n",
            "Input phrase:  bali corona covid\n",
            "Paraphrase: bali corona covid\n",
            "----------------------------------------------------------------------------------------------------\n",
            "Input phrase:  bali virus\n",
            "Paraphrase: bali virus\n",
            "----------------------------------------------------------------------------------------------------\n",
            "Input phrase:  What taxis do you catch in Bali?\n",
            "Paraphrase: what taxis do you take in bali?\n",
            "----------------------------------------------------------------------------------------------------\n",
            "Input phrase:  taxi to go\n",
            "Paraphrase: taxi to go\n",
            "----------------------------------------------------------------------------------------------------\n",
            "Input phrase:  what taxi to ride\n",
            "Paraphrase: which taxi to take?\n",
            "Paraphrase: which taxi to take\n",
            "Paraphrase: what taxi to take?\n",
            "Paraphrase: which taxi to ride?\n",
            "----------------------------------------------------------------------------------------------------\n",
            "Input phrase:  bali taxi\n",
            "Paraphrase: bali taxi\n",
            "----------------------------------------------------------------------------------------------------\n",
            "Input phrase:  What is illegal in Bali?\n",
            "Paraphrase: what's illegal in bali?\n",
            "Paraphrase: what is illegal in bali?\n",
            "----------------------------------------------------------------------------------------------------\n",
            "Input phrase:  drugs is illegal\n",
            "Paraphrase: drugs are not legal\n",
            "Paraphrase: drugs are illegal\n",
            "Paraphrase: drugs is illegal\n",
            "----------------------------------------------------------------------------------------------------\n",
            "Input phrase:  illegal in bali\n",
            "Paraphrase: illegal in bali\n",
            "----------------------------------------------------------------------------------------------------\n",
            "Input phrase:  drugs\n",
            "Paraphrase: drugs\n",
            "----------------------------------------------------------------------------------------------------\n",
            "Input phrase:  Can i smoke in Bali?\n",
            "Paraphrase: can you smoke in bali?\n",
            "Paraphrase: can i smoke in bali?\n",
            "----------------------------------------------------------------------------------------------------\n",
            "Input phrase:  smoking in bali\n",
            "Paraphrase: smoking in bali\n",
            "----------------------------------------------------------------------------------------------------\n",
            "Input phrase:  cigarettes in bali\n",
            "Paraphrase: cigarettes in bali\n",
            "----------------------------------------------------------------------------------------------------\n",
            "Input phrase:  can i smoke?\n",
            "Paraphrase: can i smoke cigarettes?\n",
            "Paraphrase: can i smoke?\n",
            "----------------------------------------------------------------------------------------------------\n"
          ]
        }
      ]
    },
    {
      "cell_type": "code",
      "source": [
        "phrases = [\"Can you recommed some upscale restaurants in Rome?\"]\n",
        "for phrase in phrases:\n",
        "  print(\"-\"*100)\n",
        "  print(phrase)\n",
        "  print(\"-\"*100)\n",
        "  para_phrases = parrot.augment(input_phrase=phrase,\n",
        "                                use_gpu=True,\n",
        "                                diversity_ranker=\"levenshtein\",\n",
        "                                do_diverse=True, \n",
        "                                max_return_phrases = 10, \n",
        "                                max_length=32, \n",
        "                                adequacy_threshold = 0.99, \n",
        "                                fluency_threshold = 0.90)\n",
        "  for paraphrase in para_phrases or []:                                  \n",
        "      print(paraphrase)    "
      ],
      "metadata": {
        "colab": {
          "base_uri": "https://localhost:8080/"
        },
        "id": "-uNllvZgrixF",
        "outputId": "e1f00b65-8069-4519-9cd2-94b2e94e432c"
      },
      "execution_count": 49,
      "outputs": [
        {
          "output_type": "stream",
          "name": "stdout",
          "text": [
            "----------------------------------------------------------------------------------------------------\n",
            "Can you recommed some upscale restaurants in Rome?\n",
            "----------------------------------------------------------------------------------------------------\n"
          ]
        }
      ]
    },
    {
      "cell_type": "code",
      "source": [
        "!pip install googletrans==3.1.0a0"
      ],
      "metadata": {
        "id": "8rjYLZYobgYr",
        "colab": {
          "base_uri": "https://localhost:8080/"
        },
        "outputId": "1ca9635c-8a67-4dbc-88c0-3331dd9939df"
      },
      "execution_count": 44,
      "outputs": [
        {
          "output_type": "stream",
          "name": "stdout",
          "text": [
            "Looking in indexes: https://pypi.org/simple, https://us-python.pkg.dev/colab-wheels/public/simple/\n",
            "Collecting googletrans==3.1.0a0\n",
            "  Downloading googletrans-3.1.0a0.tar.gz (19 kB)\n",
            "  Preparing metadata (setup.py) ... \u001b[?25l\u001b[?25hdone\n",
            "Collecting httpx==0.13.3\n",
            "  Downloading httpx-0.13.3-py3-none-any.whl (55 kB)\n",
            "\u001b[2K     \u001b[90m━━━━━━━━━━━━━━━━━━━━━━━━━━━━━━━━━━━━━━━━\u001b[0m \u001b[32m55.1/55.1 kB\u001b[0m \u001b[31m3.5 MB/s\u001b[0m eta \u001b[36m0:00:00\u001b[0m\n",
            "\u001b[?25hRequirement already satisfied: idna==2.* in /usr/local/lib/python3.7/dist-packages (from httpx==0.13.3->googletrans==3.1.0a0) (2.10)\n",
            "Collecting httpcore==0.9.*\n",
            "  Downloading httpcore-0.9.1-py3-none-any.whl (42 kB)\n",
            "\u001b[2K     \u001b[90m━━━━━━━━━━━━━━━━━━━━━━━━━━━━━━━━━━━━━━━━\u001b[0m \u001b[32m42.6/42.6 kB\u001b[0m \u001b[31m6.3 MB/s\u001b[0m eta \u001b[36m0:00:00\u001b[0m\n",
            "\u001b[?25hRequirement already satisfied: certifi in /usr/local/lib/python3.7/dist-packages (from httpx==0.13.3->googletrans==3.1.0a0) (2022.6.15)\n",
            "Collecting rfc3986<2,>=1.3\n",
            "  Downloading rfc3986-1.5.0-py2.py3-none-any.whl (31 kB)\n",
            "Collecting sniffio\n",
            "  Downloading sniffio-1.2.0-py3-none-any.whl (10 kB)\n",
            "Requirement already satisfied: chardet==3.* in /usr/local/lib/python3.7/dist-packages (from httpx==0.13.3->googletrans==3.1.0a0) (3.0.4)\n",
            "Collecting hstspreload\n",
            "  Downloading hstspreload-2022.8.1-py3-none-any.whl (1.4 MB)\n",
            "\u001b[2K     \u001b[90m━━━━━━━━━━━━━━━━━━━━━━━━━━━━━━━━━━━━━━━━\u001b[0m \u001b[32m1.4/1.4 MB\u001b[0m \u001b[31m27.0 MB/s\u001b[0m eta \u001b[36m0:00:00\u001b[0m\n",
            "\u001b[?25hCollecting h2==3.*\n",
            "  Downloading h2-3.2.0-py2.py3-none-any.whl (65 kB)\n",
            "\u001b[2K     \u001b[90m━━━━━━━━━━━━━━━━━━━━━━━━━━━━━━━━━━━━━━━━\u001b[0m \u001b[32m65.0/65.0 kB\u001b[0m \u001b[31m7.7 MB/s\u001b[0m eta \u001b[36m0:00:00\u001b[0m\n",
            "\u001b[?25hCollecting h11<0.10,>=0.8\n",
            "  Downloading h11-0.9.0-py2.py3-none-any.whl (53 kB)\n",
            "\u001b[2K     \u001b[90m━━━━━━━━━━━━━━━━━━━━━━━━━━━━━━━━━━━━━━━━\u001b[0m \u001b[32m53.6/53.6 kB\u001b[0m \u001b[31m6.6 MB/s\u001b[0m eta \u001b[36m0:00:00\u001b[0m\n",
            "\u001b[?25hCollecting hyperframe<6,>=5.2.0\n",
            "  Downloading hyperframe-5.2.0-py2.py3-none-any.whl (12 kB)\n",
            "Collecting hpack<4,>=3.0\n",
            "  Downloading hpack-3.0.0-py2.py3-none-any.whl (38 kB)\n",
            "Building wheels for collected packages: googletrans\n",
            "  Building wheel for googletrans (setup.py) ... \u001b[?25l\u001b[?25hdone\n",
            "  Created wheel for googletrans: filename=googletrans-3.1.0a0-py3-none-any.whl size=16367 sha256=583997b5d084ec12ba4876a059a228fd7300302f21a564a019ebaa80b56ee8d1\n",
            "  Stored in directory: /root/.cache/pip/wheels/0c/be/fe/93a6a40ffe386e16089e44dad9018ebab9dc4cb9eb7eab65ae\n",
            "Successfully built googletrans\n",
            "Installing collected packages: rfc3986, hyperframe, hpack, h11, sniffio, hstspreload, h2, httpcore, httpx, googletrans\n",
            "Successfully installed googletrans-3.1.0a0 h11-0.9.0 h2-3.2.0 hpack-3.0.0 hstspreload-2022.8.1 httpcore-0.9.1 httpx-0.13.3 hyperframe-5.2.0 rfc3986-1.5.0 sniffio-1.2.0\n",
            "\u001b[33mWARNING: Running pip as the 'root' user can result in broken permissions and conflicting behaviour with the system package manager. It is recommended to use a virtual environment instead: https://pip.pypa.io/warnings/venv\u001b[0m\u001b[33m\n",
            "\u001b[0m"
          ]
        }
      ]
    },
    {
      "cell_type": "code",
      "source": [
        "from googletrans import Translator"
      ],
      "metadata": {
        "id": "4GGw0CMYZ9nh"
      },
      "execution_count": null,
      "outputs": []
    },
    {
      "cell_type": "code",
      "source": [
        "translator = Translator()"
      ],
      "metadata": {
        "id": "zC47Ru3caCWJ"
      },
      "execution_count": null,
      "outputs": []
    },
    {
      "cell_type": "markdown",
      "source": [
        "Backtranslation Augmented"
      ],
      "metadata": {
        "id": "s2pS-L8qeh18"
      }
    },
    {
      "cell_type": "code",
      "source": [
        "for intent in intents['intents']:\n",
        "    for pattern in intent['patterns']:\n",
        "      result = translator.translate(pattern, dest='zh-tw')\n",
        "      result2 = translator.translate(result.text, dest='en')\n",
        "      print(\"Asli:\", pattern)\n",
        "      print(\"Augmented:\", result2.text)"
      ],
      "metadata": {
        "id": "mRWhzjkRckkS"
      },
      "execution_count": null,
      "outputs": []
    },
    {
      "cell_type": "code",
      "source": [
        "words = []\n",
        "labels = []\n",
        "documents = []\n",
        "ignore_words = ['?', '!', ',','.','-','[',']']\n",
        "intents = json.loads(data)\n",
        "#nltk.download('punkt')\n",
        "\n",
        "for intent in intents['intents']:\n",
        "    for pattern in intent['patterns']:\n",
        "        #tokenize each word\n",
        "        w = nltk.word_tokenize(pattern)\n",
        "        words.extend(w)\n",
        "        #add documents in the corpus\n",
        "        documents.append((w, intent['tag']))\n",
        "        # add to our classes list\n",
        "        if intent['tag'] not in labels:\n",
        "            labels.append(intent['tag'])\n",
        "print(documents)"
      ],
      "metadata": {
        "id": "q15TKB1n5DAD"
      },
      "execution_count": null,
      "outputs": []
    },
    {
      "cell_type": "code",
      "source": [
        "#nltk.download('omw-1.4')\n",
        "#nltk.download('wordnet')\n",
        "lemmatizer = WordNetLemmatizer()\n",
        "words = [lemmatizer.lemmatize(w.lower()) for w in words if w not in ignore_words]\n",
        "words = sorted(list(set(words)))\n",
        "print(words)"
      ],
      "metadata": {
        "id": "1pEKvMqlB1wN"
      },
      "execution_count": null,
      "outputs": []
    },
    {
      "cell_type": "code",
      "source": [
        "labels = sorted(list(set(labels)))\n",
        "# documents = combination between patterns and intents\n",
        "print (len(documents), \"documents\")\n",
        "# labels = intents\n",
        "print (len(labels), \"labels\", labels)\n",
        "# words = all words, vocabulary\n",
        "print (len(words), \"unique lemmatized words\", words)\n",
        "pickle.dump(words,open('texts.pkl','wb'))\n",
        "pickle.dump(labels,open('labels.pkl','wb'))"
      ],
      "metadata": {
        "id": "M22QBddTCPm8"
      },
      "execution_count": null,
      "outputs": []
    },
    {
      "cell_type": "markdown",
      "source": [
        "# Training Data"
      ],
      "metadata": {
        "id": "25HGFfQLCdBE"
      }
    },
    {
      "cell_type": "code",
      "source": [
        "# create our training data\n",
        "training = []\n",
        "# create an empty array for our output\n",
        "output_empty = [0] * len(labels)\n",
        "# training set, bag of words for each sentence\n",
        "for doc in documents:\n",
        "    # initialize our bag of words\n",
        "    bag = []\n",
        "    # list of tokenized words for the pattern\n",
        "    pattern_words = doc[0]\n",
        "    # lemmatize each word - create base word, in attempt to represent related words\n",
        "    pattern_words = [lemmatizer.lemmatize(word.lower()) for word in pattern_words]\n",
        "    # create our bag of words array with 1, if word match found in current pattern\n",
        "    for w in words:\n",
        "        bag.append(1) if w in pattern_words else bag.append(0)\n",
        "    \n",
        "    # output is a '0' for each tag and '1' for current tag (for each pattern)\n",
        "    output_row = list(output_empty)\n",
        "    output_row[labels.index(doc[1])] = 1\n",
        "    \n",
        "    training.append([bag, output_row])\n",
        "# shuffle our features and turn into np.array\n",
        "random.shuffle(training)\n",
        "training = np.array(training)\n",
        "\n",
        "#print(training)\n",
        "# create train and test lists. X - patterns, Y - intents\n",
        "train_x = list(training[:,0])\n",
        "train_y = list(training[:,1])\n",
        "\n",
        "# print(train_x)\n",
        "# print(train_y) \n",
        "print(\"Training data created\")"
      ],
      "metadata": {
        "id": "gspy-PrhCfCN"
      },
      "execution_count": null,
      "outputs": []
    },
    {
      "cell_type": "code",
      "source": [
        "# Create model - 3 layers. First layer 128 neurons, second layer 64 neurons and 3rd output layer contains number of neurons\n",
        "# equal to number of intents to predict output intent with softmax\n",
        "model = Sequential()\n",
        "model.add(Dense(128, input_shape=(len(train_x[0]),), activation='relu'))\n",
        "model.add(Dropout(0.5))\n",
        "model.add(Dense(64, activation='relu'))\n",
        "model.add(Dropout(0.5))\n",
        "model.add(Dense(len(train_y[0]), activation='softmax'))\n",
        "# Compile model. Stochastic gradient descent with Nesterov accelerated gradient gives good results for this model\n",
        "sgd = SGD(lr=0.01, decay=1e-6, momentum=0.9, nesterov=True)\n",
        "model.compile(loss='categorical_crossentropy', optimizer=sgd, metrics=['accuracy'])\n",
        "#fitting and saving the model \n",
        "hist = model.fit(np.array(train_x), np.array(train_y), epochs=200, batch_size=5, verbose=1)\n",
        "model.save('model_Zyo.h5', hist)\n",
        "print(\"model created\")"
      ],
      "metadata": {
        "id": "p9nZWEKUCvuc"
      },
      "execution_count": null,
      "outputs": []
    }
  ]
}