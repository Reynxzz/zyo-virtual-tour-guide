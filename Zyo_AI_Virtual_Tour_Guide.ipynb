{
  "nbformat": 4,
  "nbformat_minor": 0,
  "metadata": {
    "colab": {
      "name": "Zyo: AI Virtual Tour Guide.ipynb",
      "provenance": [],
      "collapsed_sections": [],
      "authorship_tag": "ABX9TyNg0gC9uH7iFH20LGuytpdP",
      "include_colab_link": true
    },
    "kernelspec": {
      "name": "python3",
      "display_name": "Python 3"
    },
    "language_info": {
      "name": "python"
    }
  },
  "cells": [
    {
      "cell_type": "markdown",
      "metadata": {
        "id": "view-in-github",
        "colab_type": "text"
      },
      "source": [
        "<a href=\"https://colab.research.google.com/github/Reynxzz/zyo-virtual-tour-guide/blob/main/Zyo_AI_Virtual_Tour_Guide.ipynb\" target=\"_parent\"><img src=\"https://colab.research.google.com/assets/colab-badge.svg\" alt=\"Open In Colab\"/></a>"
      ]
    },
    {
      "cell_type": "markdown",
      "source": [
        "# **Zyo: Your Personalized Tour Guide to Explore Indonesia**"
      ],
      "metadata": {
        "id": "W7v70XP02iCd"
      }
    },
    {
      "cell_type": "markdown",
      "source": [
        "Proyek ini dibuat untuk memenuhi submisi pada perlombaan [AI Innovation Challenge Compfest 2022](https://www.compfest.id/)."
      ],
      "metadata": {
        "id": "vA3pd0cO3AH9"
      }
    },
    {
      "cell_type": "markdown",
      "source": [
        " **Zyo** adalah sebuah aplikasi berbasis AI untuk memecahkan masalah pariwisata di Indonesia. Menurunnya angka COVID-19 di Indonesia membuat pariwisata Indonesia mulai kembali pulih. Berdasarkan laporan Badan Pusat Statistik (BPS), jumlah kunjungan **wisatawan mancanegara** (wisman) ke Indonesia mencapai **111,06 ribu** kunjungan per April 2022. Jumlah kunjungan wisman ini **naik tajam hampir 500% (yoy)** dibandingkan dengan jumlah kunjungan pada April 2021. Sementara, jika dibandingkan dengan bulan sebelumnya, jumlah kunjungan wisman pada April 2022 **meningkat sebesar 172,27% (m-t-m)**. Angka ini diprediksi akan terus meningkat pada bulan-bulan berikutnya (Dikutip dari [katadata.co.id](https://https://databoks.katadata.co.id/datapublish/2022/06/02/kunjungan-wisman-ke-ri-naik-500-yoy-terbanyak-dari-asia-tenggara#:~:text=Berdasarkan%20laporan%20Badan%20Pusat%20Statistik,jumlah%20kunjungan%20pada%20April%202021.))."
      ],
      "metadata": {
        "id": "5I_uLzsg8ZPN"
      }
    },
    {
      "cell_type": "markdown",
      "source": [
        "Sektor pariwisata merupakan sektor yang berkontribusi besar dalam mendorong perekonomian Indonesia. Meningkatnya angka wisatawan mancanegara yang datang ke Indonesia membuka peluang yang sangat lebar untuk lebih mempromosikan pariwisata dan keragaman budaya di Indonesia. Namun, sektor pariwisata di Indonesia masih memiliki berbagai masalah untuk diselesaikan."
      ],
      "metadata": {
        "id": "-i8I0GUr9Hpc"
      }
    },
    {
      "cell_type": "markdown",
      "source": [
        "Menurut [Nugroho (2020)](https://https://ejournal.bsi.ac.id/ejurnal/index.php/jp), beberapa masalah yang ada pada sektor pariwisata Indonesia saat ini adalah:\n",
        "\n",
        "1.   Kualitas Sumberdaya Manusia (SDM) yang Masih Kurang Mendukung\n",
        "2.   Komunikasi dan Publikasi Yang Masih Kurang\n",
        "3.   Belum Memadainya Infrastruktur Pariwisata di Beberapa Daerah"
      ],
      "metadata": {
        "id": "uGxrRfDLYJ3-"
      }
    },
    {
      "cell_type": "markdown",
      "source": [
        "**Zyo** hadir untuk mengatasi permasalahan tersebut. Zyo merupakan aplikasi berbasis AI yang berperan sebagai pemandu wisata untuk menemani perjalanan wisatawan mancanegara secara virtual. Dengan Zyo, wisatawan mancanegara dapat mengenal lebih dekat dengan tempat-tempat wisata dan keragaman budaya yang ada di Indonesia. Zyo akan merekomendasikan tempat menarik, memandu hingga ke tujuan wisata, dan memberikan pengetahuan baru mengenai tempat tersebut beserta budaya yang ada di sekitar tempat tersebut."
      ],
      "metadata": {
        "id": "KKTxo_usZDS2"
      }
    },
    {
      "cell_type": "markdown",
      "source": [
        "# Scope Project"
      ],
      "metadata": {
        "id": "TbXri6zcOuXa"
      }
    },
    {
      "cell_type": "markdown",
      "source": [
        "\n",
        "\n",
        "*   **Target Pengguna:** Wisatawan mancanegara (18-30 tahun)\n",
        "*   **Cakupan Aplikasi:** karena keterbatasan waktu dan sumber daya, aplikasi ini hanya akan memberikan panduan mengenai beberapa tempat wisata menarik di pulau Bali.\n",
        "*   **Bahasa:** Inggris\n",
        "\n"
      ],
      "metadata": {
        "id": "LzHa1k7IOyvi"
      }
    },
    {
      "cell_type": "markdown",
      "source": [
        "# Data Collecting"
      ],
      "metadata": {
        "id": "XOVizx1yXGn-"
      }
    },
    {
      "cell_type": "markdown",
      "source": [
        "Karena target pengguna aplikasi ini adalah wisatawan mancanegara, bahasa yang dominan digunakan adalaha **bahasa inggris**. Untuk melihat perilaku wisatawan mancanegara saat berwisata ke Indonesia, mulai dari persiapan hingga saat sampai di tujuan (termasuk perkataan/ucapan yang sering diucapkan), kami melakukan eksplorasi dengan melihat beberapa *travel vlog* yang dibuat oleh wisatawan yang berasal dari berbagai negara untuk kemudian mengambil **data berupa transkrip/subtitle** (.txt) yang dapat dimanfaatkan untuk melatih kecerdasan Zyo."
      ],
      "metadata": {
        "id": "6UlSVvFAeWXV"
      }
    },
    {
      "cell_type": "markdown",
      "source": [
        "Selain itu, data pertanyaan FAQ mengenai pariwisata Bali (.txt) juga dikumpulkan melalui berbagai website berikut.\n",
        "\n",
        "*   https://www.balispirit.com/community/blog/bali-travel-faqs\n",
        "*   https://traveltriangle.com/blog/know-all-about-bali/\n",
        "*   https://www.travelonline.com/bali/frequently-asked-questions\n",
        "*   https://thetravelauthor.com/faq-for-bali/"
      ],
      "metadata": {
        "id": "bUCKw6PBOlqj"
      }
    },
    {
      "cell_type": "markdown",
      "source": [
        "# Data Preprocessing"
      ],
      "metadata": {
        "id": "OfiiFJezQfhL"
      }
    },
    {
      "cell_type": "markdown",
      "source": [
        "Membuat Intents file yang berisi beberapa pola pertanyaan dan respon untuk melatih Zyo. Karena keterbatasan pola pertanyaan yang didapat dari sumber yang ada, Data Augmentation dilakukan untuk memperbesar ukuran datasets. Beberapa cara yang dilakukan adalah:\n",
        "\n",
        "\n",
        "*   Translasi ke bahasa asing kemudian ditranslasi kembali (Back translation)\n",
        "*   Parafrase menggunakan bantuan [Quilboot](https://quillbot.com/)\n",
        "\n"
      ],
      "metadata": {
        "id": "Lf8emqLZCc0t"
      }
    },
    {
      "cell_type": "code",
      "source": [
        "%%writefile intentsZyo.json\n",
        "{\"intents\": [\n",
        "        {\"tag\": \"greeting\",\n",
        "         \"patterns\": [\"Hi\", \"How are you\", \"Is anyone there?\", \"Hello\", \"Good day\", \"Whats up\"],\n",
        "         \"responses\": [\"Hello! I'm Zyo :)\", \"Good to see you again!\", \"Hi there, how can I help you?\"],\n",
        "         \"context_set\": \"\"\n",
        "        },\n",
        "        {\"tag\": \"goodbye\",\n",
        "         \"patterns\": [\"cya\", \"See you later\", \"Goodbye\", \"I am Leaving\", \"Have a Good day\"],\n",
        "         \"responses\": [\"Sad to see you go :(\", \"Talk to you later\", \"Goodbye!\"],\n",
        "         \"context_set\": \"\"\n",
        "        },\n",
        "        {\"tag\": \"age\",\n",
        "         \"patterns\": [\"how old\", \"how old is zyo\", \"what is your age\", \"how old are you\", \"age?\"],\n",
        "         \"responses\": [\"I am 20 years old!\", \"20 years young!\"],\n",
        "         \"context_set\": \"\"\n",
        "        },\n",
        "        {\"tag\": \"name\",\n",
        "         \"patterns\": [\"what is your name\", \"what should I call you\", \"whats your name?\"],\n",
        "         \"responses\": [\"You can call me Zyo\", \"I'm Zyo!\", \"I'm Zyo! Your Virtual Tour Guide!\"],\n",
        "         \"context_set\": \"\"\n",
        "        },\n",
        "        {\"tag\": \"weather_faq\",\n",
        "         \"patterns\": [\"What's the weather like in Bali?\", \"How is the weather in Bali?\", \"How does the weather in Bali?\", \"weather in bali\", \"bali's weather\", \"bali is hot\", \"bali is cold\"],\n",
        "         \"responses\": [\"Bali is generally hot, sunny and humid and typically the rainy season is between November - Feb/March. However rain usually pours heavily for a short duration in the afternoon or during the night, leaving the rest of the day warm and sunny (around 90 degrees) and cools off at night\"],\n",
        "         \"context_set\": \"\"\n",
        "        },\n",
        "        {\"tag\": \"visa_faq\",\n",
        "         \"patterns\": [\"Do I need a VISA to enter Bali?\", \"visa required\", \"Is a VISA required to enter Bali?\", \"Is a VISA necessary to enter Bali?\", \"visa necessary?\"],\n",
        "         \"responses\": [\"Indonesia has a free 30-Day visa-on-arrival system (tourist visa). If you would like to stay more than 30 days, then you will need to pay $35 at the airport when you arrive at the airport for the option to extend with an Indonesian agent for up to 60-days\"],\n",
        "         \"context_set\": \"\"\n",
        "        },\n",
        "        {\"tag\": \"safe_faq\",\n",
        "         \"patterns\": [\"Is Bali Safe?\", \"Is there much crime?\", \"safety in bali\", \"is bali secure?\", \"crime in bali\"],\n",
        "         \"responses\": [\"Bali has always been peaceful, As for safety in the streets, there is very little violent crime in Bali, especially in Ubud - just be cautious against pickpockets in the beach areas and with handbags on motorbikes late at night\"],\n",
        "         \"context_set\": \"\"\n",
        "        },\n",
        "        {\"tag\": \"drinkwater_faq\",\n",
        "         \"patterns\": [\"Can I drink the water?\", \"Bali's water\", \"water drinkable?\", \"drink water in Bali\"],\n",
        "         \"responses\": [\"Always drink bottled or filtered water. 99% of restaurants in Bali use bottled water for all cooking purposes and it is advisable to drink and brush teeth with bottled water to avoid 'Bali Belly' - a mild dysentery which can occur but passes in a few days.\"],\n",
        "         \"context_set\": \"\"\n",
        "        },\n",
        "        {\"tag\": \"clothing_faq\",\n",
        "         \"patterns\": [\"What clothing can I wear in Bali?\", \"what should i wear?\", \"clothes to wear in bali\", \"bikini allowed?\", \"baggy clothes\"],\n",
        "         \"responses\": [\"Where you will stay will 99% of the time be air conditioned or with a fan, but outside it is hot and humid. Flip flops or comfortable walking sandals are a must with light clothing like t-shirts and shorts to keep you cool are recommended and a light pullover in the evenings if you are riding a motorbike. When entering temples you must be respectful and have your shoulders covered and wear a sarong (for men and women)\"],\n",
        "         \"context_set\": \"\"\n",
        "        },\n",
        "        {\"tag\": \"foodprice_faq\",\n",
        "         \"patterns\": [\"What's the normal price for food in Bali?\", \"food price in bali\", \"food cheap or expensive?\", \"price of the food?\"],\n",
        "         \"responses\": [\"Local Indonesian food like nasi campur and nasi/mie goreng will cost you a lot less, around IDR 30,000 (USD $2.50), a meal at a mid range restaurant in will cost between IDR 100,000-250,000 ($12-20) and fine dining restaurants could cost anywhere between IDR 500,000 and 1,000,000+ ($40-$80).\"],\n",
        "         \"context_set\": \"\"\n",
        "        },\n",
        "        {\"tag\": \"rentcar_faq\",\n",
        "         \"patterns\": [\"Should I rent a car?\", \"what car to rent?\", \"car rental available?\", \"rent a car\"],\n",
        "         \"responses\": [\"It is not necessary, nor advisable to rent a car in Bali. Taxis will cost about $25 - $30 to take you from the Airport at Denpasar to Ubud (approximately 1.5-hour drive, depending on traffic). Most hotels offer a free shuttle or taxi service to take you to the town center in Ubud. You can also hire a private driver and car for $40 - $60 per day for day excursions.\"],\n",
        "         \"context_set\": \"\"\n",
        "        },\n",
        "        {\"tag\": \"buddhist_faq\",\n",
        "         \"patterns\": [\"Is Bali a Buddhist country?\", \"religion in bali\", \"Buddhist\", \"bali islam?\"],\n",
        "         \"responses\": [\"Though Bali is a multi-religious island, most of the people on the island follow Balinese Hinduism which is a fusion of Indian and local Bali customs and culture. Muslim, Christianity, and Buddhism are a few other minority religions on the island.\"],\n",
        "         \"context_set\": \"\"\n",
        "        },\n",
        "        {\"tag\": \"wifi_faq\",\n",
        "         \"patterns\": [\"Does Bali airport have WiFi?\", \"wifi in airport\", \"airport wifi\"],\n",
        "         \"responses\": [\"Denpasar Ngurah International Airport in Bali has free wifi and it is easy to connect to the network too. The free session lasts for 240 minutes.\"],\n",
        "         \"context_set\": \"\"\n",
        "        },\n",
        "        {\"tag\": \"airportcount_faq\",\n",
        "         \"patterns\": [\"How many airports does Bali have?\", \"airport in bali\", \"bali airport\", \"airport\"],\n",
        "         \"responses\": [\"There is only one airport in Bali i.e. Denpasar Ngurah International Airport. The airport has two terminals designated to domestic and international flights. The airport has all the modern facilities to provide convenience and comfort to the passengers.\"],\n",
        "         \"context_set\": \"\"\n",
        "        },\n",
        "        {\"tag\": \"language_faq\",\n",
        "         \"patterns\": [\"What language do they speak in Bali?\", \"bali language\", \"speak in bali\", \"bahasa bali\", \"bahasa indonesia\", \"language speak\"],\n",
        "         \"responses\": [\"Bahasa Bali and Bahasa Indonesian are the most prominent languages on the island. Most people in Balinese are bilingual and speak both these languages. A fewer people are fluent in the English language.\"],\n",
        "         \"context_set\": \"\"\n",
        "        },\n",
        "        {\"tag\": \"exchange_faq\",\n",
        "         \"patterns\": [\"What’s the exchange rate in Indonesia?\", \"exchange rate\", \"What is the current currency exchange rate in Indonesia?\"],\n",
        "         \"responses\": [\"The most popular exchange rate in Indonesia is the USD to IDR rate. The national currency of Bali is the Indonesian Rupiah (Rp).\"],\n",
        "         \"context_set\": \"\"\n",
        "        },\n",
        "        {\"tag\": \"bestthingkid_faq\",\n",
        "         \"patterns\": [\"What are the best things to do in Bali with kids?\", \"Which activities in Bali are the best for families?\", \"What are the finest family-friendly activities in Bali?\", \"bali for kids\", \"bali for family\", \"kids in bali\", \"traveling with kids\"],\n",
        "         \"responses\": [\"You can take your kids to Bali Safari & Marine Park which is one of the most visited theme parks on the island. Dream Museums is another popular tourist attraction in Bali.\"],\n",
        "         \"context_set\": \"\"\n",
        "        },\n",
        "        {\"tag\": \"casino_faq\",\n",
        "         \"patterns\": [\"Does Bali have a casino?\", \"bali casino\", \"casino in bali\", \"casino available\", \"casino\"],\n",
        "         \"responses\": [\"No, Bali does not have a casino. There are no sanctioned casinos or poker rooms in Bali. In fact, the activities of gambling and betting are illegal in Bali as it is against their religious principles.\"],\n",
        "         \"context_set\": \"\"\n",
        "        },\n",
        "        {\"tag\": \"whattoeat_faq\",\n",
        "         \"patterns\": [\"What to eat in Bali?\", \"eat in bali\", \"best food in bali\", \"bali food\", \"delicious food in bali\"],\n",
        "         \"responses\": [\"When you are in Bali, you must try the authentic Balinese food as it is one of its kind and a lot of travelers visit Bali just to try the local delicacies. You must try dishes like Sate, Nasi Ayam, and Nasi Campur, Bebek and Ayam Betutu, Babi Guling and Traditional cakes and desserts.\"],\n",
        "         \"context_set\": \"\"\n",
        "        },\n",
        "        {\"tag\": \"bestressort_faq\",\n",
        "         \"patterns\": [\"Which are the best beach resorts in Bali?\",\"bali resort\", \"best resort in bali\", \"bali resorts\", \"recommended resorts\"],\n",
        "         \"responses\": [\"If you are a beach lover and are planning to stay at a beach resort in Bali, then the best options for you are The Mulia, St.Regis Bali, The Royal Purnama and W Bali.\"],\n",
        "         \"context_set\": \"\"\n",
        "        },\n",
        "        {\"tag\": \"besthotel_faq\",\n",
        "         \"patterns\": [\"Which are the best hotels in Seminyak\", \"best hotel in seminyak\", \"best hotel\", \"recommended hotel\"],\n",
        "         \"responses\": [\"The best hotels in Seminyak are Horison Seminyak, The Haven Bali Seminyak, Courtyard by Marriott Bali Seminyak Resort and Harris Hotel Seminyak.\"],\n",
        "         \"context_set\": \"\"\n",
        "        },\n",
        "        {\"tag\": \"timevisit_faq\",\n",
        "         \"patterns\": [\"When is the best time to go?\", \"best time to go\", \"what time to go\", \"time to come\", \"what year to come to bali\"],\n",
        "         \"responses\": [\"Bali is a spectacular destination to visit all year round with stunning tropical scenery and endless opportunities for adventure. While temperatures tend to average 27 °C throughout the year, we recommend visiting between May to August for optimal tropical conditions without the holiday crowds.\"],\n",
        "         \"context_set\": \"\"\n",
        "        },\n",
        "        {\"tag\": \"corona_faq\",\n",
        "         \"patterns\": [\"Is there Corona Virus in Bali?\", \"corona in bali\", \"corona\", \"covid 19\", \"bali corona covid\", \"bali virus\"],\n",
        "         \"responses\": [\"Bali is in the midst of vaccinations, and most of the main tourist areas have already been fully vaccinated. During the Pandemic, numbers of infections stayed fairly low on the island. All resorts and public areas maintain good health protocols, using disinfectants and wiping down tables etc.\"],\n",
        "         \"context_set\": \"\"\n",
        "        },\n",
        "        {\"tag\": \"taxis_faq\",\n",
        "         \"patterns\": [\"What taxis do you catch in Bali?\", \"taxi to go\", \"what taxi to ride\", \"bali taxi\"],\n",
        "         \"responses\": [\"The best taxis are generally Bluebird, as they are metered and monitored. If you are willing to barter, you can always have someone else drive you around. There are usually plenty of willing drivers outside most resorts.\"],\n",
        "         \"context_set\": \"\"\n",
        "        },\n",
        "        {\"tag\": \"illegal_faq\",\n",
        "         \"patterns\": [\"What is illegal in Bali?\", \"drugs is illegal\", \"illegal in bali\", \"drugs\"],\n",
        "         \"responses\": [\"Drugs. Bali is very, very strict on them, and if you are caught, there is basically no defence. You will end up in jail.\"],\n",
        "         \"context_set\": \"\"\n",
        "        },\n",
        "        {\"tag\": \"smoke_faq\",\n",
        "         \"patterns\": [\"Can i smoke in Bali?\", \"smoking in bali\", \"cigarettes in bali\", \"can i smoke?\"],\n",
        "         \"responses\": [\"Many Balinese people smoke, and cigarettes are quite cheap, although not the same quality as home.\"],\n",
        "         \"context_set\": \"\"\n",
        "        },\n",
        "\n",
        "   ]\n",
        "}"
      ],
      "metadata": {
        "colab": {
          "base_uri": "https://localhost:8080/"
        },
        "id": "iIk6Ah3SC0gN",
        "outputId": "d464ef6c-355b-4bc4-ceda-19c010e59413"
      },
      "execution_count": 1,
      "outputs": [
        {
          "output_type": "stream",
          "name": "stdout",
          "text": [
            "Writing intentsZyo.json\n"
          ]
        }
      ]
    },
    {
      "cell_type": "code",
      "source": [
        "from google.colab import files\n",
        "uploaded = files.upload()"
      ],
      "metadata": {
        "colab": {
          "resources": {
            "http://localhost:8080/nbextensions/google.colab/files.js": {
              "data": "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",
              "ok": true,
              "headers": [
                [
                  "content-type",
                  "application/javascript"
                ]
              ],
              "status": 200,
              "status_text": ""
            }
          },
          "base_uri": "https://localhost:8080/",
          "height": 73
        },
        "id": "FqJkgJUQEFAl",
        "outputId": "97337551-2d79-4325-eced-950a89a65f2a"
      },
      "execution_count": 4,
      "outputs": [
        {
          "output_type": "display_data",
          "data": {
            "text/plain": [
              "<IPython.core.display.HTML object>"
            ],
            "text/html": [
              "\n",
              "     <input type=\"file\" id=\"files-4bf97b74-9bfb-43d8-87d8-a7d04ada5e20\" name=\"files[]\" multiple disabled\n",
              "        style=\"border:none\" />\n",
              "     <output id=\"result-4bf97b74-9bfb-43d8-87d8-a7d04ada5e20\">\n",
              "      Upload widget is only available when the cell has been executed in the\n",
              "      current browser session. Please rerun this cell to enable.\n",
              "      </output>\n",
              "      <script src=\"/nbextensions/google.colab/files.js\"></script> "
            ]
          },
          "metadata": {}
        },
        {
          "output_type": "stream",
          "name": "stdout",
          "text": [
            "Saving intentsZyo.json to intentsZyo.json\n"
          ]
        }
      ]
    },
    {
      "cell_type": "code",
      "source": [
        "data = next(iter(uploaded.values()))\n",
        "type(data)"
      ],
      "metadata": {
        "colab": {
          "base_uri": "https://localhost:8080/"
        },
        "id": "xDkUrd02EgPd",
        "outputId": "2725fc45-e9c5-41ed-ef80-0a55e2bd215c"
      },
      "execution_count": 5,
      "outputs": [
        {
          "output_type": "execute_result",
          "data": {
            "text/plain": [
              "bytes"
            ]
          },
          "metadata": {},
          "execution_count": 5
        }
      ]
    },
    {
      "cell_type": "code",
      "source": [
        "import json\n",
        "json.loads(data.decode())"
      ],
      "metadata": {
        "colab": {
          "base_uri": "https://localhost:8080/"
        },
        "id": "3znukmVUEj4G",
        "outputId": "c160da23-98b8-4c44-9a2d-8dab102e2c83"
      },
      "execution_count": 6,
      "outputs": [
        {
          "output_type": "execute_result",
          "data": {
            "text/plain": [
              "{'intents': [{'context_set': '',\n",
              "   'patterns': ['Hi',\n",
              "    'How are you',\n",
              "    'Is anyone there?',\n",
              "    'Hello',\n",
              "    'Good day',\n",
              "    'Whats up'],\n",
              "   'responses': [\"Hello! I'm Zyo :)\",\n",
              "    'Good to see you again!',\n",
              "    'Hi there, how can I help you?'],\n",
              "   'tag': 'greeting'},\n",
              "  {'context_set': '',\n",
              "   'patterns': ['cya',\n",
              "    'See you later',\n",
              "    'Goodbye',\n",
              "    'I am Leaving',\n",
              "    'Have a Good day'],\n",
              "   'responses': ['Sad to see you go :(', 'Talk to you later', 'Goodbye!'],\n",
              "   'tag': 'goodbye'},\n",
              "  {'context_set': '',\n",
              "   'patterns': ['how old',\n",
              "    'how old is zyo',\n",
              "    'what is your age',\n",
              "    'how old are you',\n",
              "    'age?'],\n",
              "   'responses': ['I am 20 years old!', '20 years young!'],\n",
              "   'tag': 'age'},\n",
              "  {'context_set': '',\n",
              "   'patterns': ['what is your name',\n",
              "    'what should I call you',\n",
              "    'whats your name?'],\n",
              "   'responses': ['You can call me Zyo',\n",
              "    \"I'm Zyo!\",\n",
              "    \"I'm Zyo! Your Virtual Tour Guide!\"],\n",
              "   'tag': 'name'},\n",
              "  {'context_set': '',\n",
              "   'patterns': [\"What's the weather like in Bali?\",\n",
              "    'How is the weather in Bali?',\n",
              "    'How does the weather in Bali?',\n",
              "    'weather in bali',\n",
              "    \"bali's weather\",\n",
              "    'bali is hot',\n",
              "    'bali is cold'],\n",
              "   'responses': ['Bali is generally hot, sunny and humid and typically the rainy season is between November - Feb/March. However rain usually pours heavily for a short duration in the afternoon or during the night, leaving the rest of the day warm and sunny (around 90 degrees) and cools off at night'],\n",
              "   'tag': 'weather_faq'},\n",
              "  {'context_set': '',\n",
              "   'patterns': ['Do I need a VISA to enter Bali?',\n",
              "    'visa required',\n",
              "    'Is a VISA required to enter Bali?',\n",
              "    'Is a VISA necessary to enter Bali?',\n",
              "    'visa necessary?'],\n",
              "   'responses': ['Indonesia has a free 30-Day visa-on-arrival system (tourist visa). If you would like to stay more than 30 days, then you will need to pay $35 at the airport when you arrive at the airport for the option to extend with an Indonesian agent for up to 60-days'],\n",
              "   'tag': 'visa_faq'},\n",
              "  {'context_set': '',\n",
              "   'patterns': ['Is Bali Safe?',\n",
              "    'Is there much crime?',\n",
              "    'safety in bali',\n",
              "    'is bali secure?',\n",
              "    'crime in bali'],\n",
              "   'responses': ['Bali has always been peaceful, As for safety in the streets, there is very little violent crime in Bali, especially in Ubud - just be cautious against pickpockets in the beach areas and with handbags on motorbikes late at night'],\n",
              "   'tag': 'safe_faq'},\n",
              "  {'context_set': '',\n",
              "   'patterns': ['Can I drink the water?',\n",
              "    \"Bali's water\",\n",
              "    'water drinkable?',\n",
              "    'drink water in Bali'],\n",
              "   'responses': [\"Always drink bottled or filtered water. 99% of restaurants in Bali use bottled water for all cooking purposes and it is advisable to drink and brush teeth with bottled water to avoid 'Bali Belly' - a mild dysentery which can occur but passes in a few days.\"],\n",
              "   'tag': 'drinkwater_faq'},\n",
              "  {'context_set': '',\n",
              "   'patterns': ['What clothing can I wear in Bali?',\n",
              "    'what should i wear?',\n",
              "    'clothes to wear in bali',\n",
              "    'bikini allowed?',\n",
              "    'baggy clothes'],\n",
              "   'responses': ['Where you will stay will 99% of the time be air conditioned or with a fan, but outside it is hot and humid. Flip flops or comfortable walking sandals are a must with light clothing like t-shirts and shorts to keep you cool are recommended and a light pullover in the evenings if you are riding a motorbike. When entering temples you must be respectful and have your shoulders covered and wear a sarong (for men and women)'],\n",
              "   'tag': 'clothing_faq'},\n",
              "  {'context_set': '',\n",
              "   'patterns': [\"What's the normal price for food in Bali?\",\n",
              "    'food price in bali',\n",
              "    'food cheap or expensive?',\n",
              "    'price of the food?'],\n",
              "   'responses': ['Local Indonesian food like nasi campur and nasi/mie goreng will cost you a lot less, around IDR 30,000 (USD $2.50), a meal at a mid range restaurant in will cost between IDR 100,000-250,000 ($12-20) and fine dining restaurants could cost anywhere between IDR 500,000 and 1,000,000+ ($40-$80).'],\n",
              "   'tag': 'foodprice_faq'},\n",
              "  {'context_set': '',\n",
              "   'patterns': ['Should I rent a car?',\n",
              "    'what car to rent?',\n",
              "    'car rental available?',\n",
              "    'rent a car'],\n",
              "   'responses': ['It is not necessary, nor advisable to rent a car in Bali. Taxis will cost about $25 - $30 to take you from the Airport at Denpasar to Ubud (approximately 1.5-hour drive, depending on traffic). Most hotels offer a free shuttle or taxi service to take you to the town center in Ubud. You can also hire a private driver and car for $40 - $60 per day for day excursions.'],\n",
              "   'tag': 'rentcar_faq'},\n",
              "  {'context_set': '',\n",
              "   'patterns': ['Is Bali a Buddhist country?',\n",
              "    'religion in bali',\n",
              "    'Buddhist',\n",
              "    'bali islam?'],\n",
              "   'responses': ['Though Bali is a multi-religious island, most of the people on the island follow Balinese Hinduism which is a fusion of Indian and local Bali customs and culture. Muslim, Christianity, and Buddhism are a few other minority religions on the island.'],\n",
              "   'tag': 'buddhist_faq'},\n",
              "  {'context_set': '',\n",
              "   'patterns': ['Does Bali airport have WiFi?',\n",
              "    'wifi in airport',\n",
              "    'airport wifi'],\n",
              "   'responses': ['Denpasar Ngurah International Airport in Bali has free wifi and it is easy to connect to the network too. The free session lasts for 240 minutes.'],\n",
              "   'tag': 'wifi_faq'},\n",
              "  {'context_set': '',\n",
              "   'patterns': ['How many airports does Bali have?',\n",
              "    'airport in bali',\n",
              "    'bali airport',\n",
              "    'airport'],\n",
              "   'responses': ['There is only one airport in Bali i.e. Denpasar Ngurah International Airport. The airport has two terminals designated to domestic and international flights. The airport has all the modern facilities to provide convenience and comfort to the passengers.'],\n",
              "   'tag': 'airportcount_faq'},\n",
              "  {'context_set': '',\n",
              "   'patterns': ['What language do they speak in Bali?',\n",
              "    'bali language',\n",
              "    'speak in bali',\n",
              "    'bahasa bali',\n",
              "    'bahasa indonesia',\n",
              "    'language speak'],\n",
              "   'responses': ['Bahasa Bali and Bahasa Indonesian are the most prominent languages on the island. Most people in Balinese are bilingual and speak both these languages. A fewer people are fluent in the English language.'],\n",
              "   'tag': 'language_faq'},\n",
              "  {'context_set': '',\n",
              "   'patterns': ['What’s the exchange rate in Indonesia?',\n",
              "    'exchange rate',\n",
              "    'What is the current currency exchange rate in Indonesia?'],\n",
              "   'responses': ['The most popular exchange rate in Indonesia is the USD to IDR rate. The national currency of Bali is the Indonesian Rupiah (Rp).'],\n",
              "   'tag': 'exchange_faq'},\n",
              "  {'context_set': '',\n",
              "   'patterns': ['What are the best things to do in Bali with kids?',\n",
              "    'Which activities in Bali are the best for families?',\n",
              "    'What are the finest family-friendly activities in Bali?',\n",
              "    'bali for kids',\n",
              "    'bali for family',\n",
              "    'kids in bali',\n",
              "    'traveling with kids'],\n",
              "   'responses': ['You can take your kids to Bali Safari & Marine Park which is one of the most visited theme parks on the island. Dream Museums is another popular tourist attraction in Bali.'],\n",
              "   'tag': 'bestthingkid_faq'},\n",
              "  {'context_set': '',\n",
              "   'patterns': ['Does Bali have a casino?',\n",
              "    'bali casino',\n",
              "    'casino in bali',\n",
              "    'casino available',\n",
              "    'casino'],\n",
              "   'responses': ['No, Bali does not have a casino. There are no sanctioned casinos or poker rooms in Bali. In fact, the activities of gambling and betting are illegal in Bali as it is against their religious principles.'],\n",
              "   'tag': 'casino_faq'},\n",
              "  {'context_set': '',\n",
              "   'patterns': ['What to eat in Bali?',\n",
              "    'eat in bali',\n",
              "    'best food in bali',\n",
              "    'bali food',\n",
              "    'delicious food in bali'],\n",
              "   'responses': ['When you are in Bali, you must try the authentic Balinese food as it is one of its kind and a lot of travelers visit Bali just to try the local delicacies. You must try dishes like Sate, Nasi Ayam, and Nasi Campur, Bebek and Ayam Betutu, Babi Guling and Traditional cakes and desserts.'],\n",
              "   'tag': 'whattoeat_faq'},\n",
              "  {'context_set': '',\n",
              "   'patterns': ['Which are the best beach resorts in Bali?',\n",
              "    'bali resort',\n",
              "    'best resort in bali',\n",
              "    'bali resorts',\n",
              "    'recommended resorts'],\n",
              "   'responses': ['If you are a beach lover and are planning to stay at a beach resort in Bali, then the best options for you are The Mulia, St.Regis Bali, The Royal Purnama and W Bali.'],\n",
              "   'tag': 'bestressort_faq'},\n",
              "  {'context_set': '',\n",
              "   'patterns': ['Which are the best hotels in Seminyak',\n",
              "    'best hotel in seminyak',\n",
              "    'best hotel',\n",
              "    'recommended hotel'],\n",
              "   'responses': ['The best hotels in Seminyak are Horison Seminyak, The Haven Bali Seminyak, Courtyard by Marriott Bali Seminyak Resort and Harris Hotel Seminyak.'],\n",
              "   'tag': 'besthotel_faq'},\n",
              "  {'context_set': '',\n",
              "   'patterns': ['When is the best time to go?',\n",
              "    'best time to go',\n",
              "    'what time to go',\n",
              "    'time to come',\n",
              "    'what year to come to bali'],\n",
              "   'responses': ['Bali is a spectacular destination to visit all year round with stunning tropical scenery and endless opportunities for adventure. While temperatures tend to average 27 °C throughout the year, we recommend visiting between May to August for optimal tropical conditions without the holiday crowds.'],\n",
              "   'tag': 'timevisit_faq'},\n",
              "  {'context_set': '',\n",
              "   'patterns': ['Is there Corona Virus in Bali?',\n",
              "    'corona in bali',\n",
              "    'corona',\n",
              "    'covid 19',\n",
              "    'bali corona covid',\n",
              "    'bali virus'],\n",
              "   'responses': ['Bali is in the midst of vaccinations, and most of the main tourist areas have already been fully vaccinated. During the Pandemic, numbers of infections stayed fairly low on the island. All resorts and public areas maintain good health protocols, using disinfectants and wiping down tables etc.'],\n",
              "   'tag': 'corona_faq'},\n",
              "  {'context_set': '',\n",
              "   'patterns': ['What taxis do you catch in Bali?',\n",
              "    'taxi to go',\n",
              "    'what taxi to ride',\n",
              "    'bali taxi'],\n",
              "   'responses': ['The best taxis are generally Bluebird, as they are metered and monitored. If you are willing to barter, you can always have someone else drive you around. There are usually plenty of willing drivers outside most resorts.'],\n",
              "   'tag': 'taxis_faq'},\n",
              "  {'context_set': '',\n",
              "   'patterns': ['What is illegal in Bali?',\n",
              "    'drugs is illegal',\n",
              "    'illegal in bali',\n",
              "    'drugs'],\n",
              "   'responses': ['Drugs. Bali is very, very strict on them, and if you are caught, there is basically no defence. You will end up in jail.'],\n",
              "   'tag': 'illegal_faq'},\n",
              "  {'context_set': '',\n",
              "   'patterns': ['Can i smoke in Bali?',\n",
              "    'smoking in bali',\n",
              "    'cigarettes in bali',\n",
              "    'can i smoke?'],\n",
              "   'responses': ['Many Balinese people smoke, and cigarettes are quite cheap, although not the same quality as home.'],\n",
              "   'tag': 'smoke_faq'}]}"
            ]
          },
          "metadata": {},
          "execution_count": 6
        }
      ]
    },
    {
      "cell_type": "markdown",
      "source": [
        "Import segala library yang dibutuhkan, seperti nltk, numpy, keras, dll."
      ],
      "metadata": {
        "id": "oWToRwib5i13"
      }
    },
    {
      "cell_type": "code",
      "source": [
        "import nltk\n",
        "from nltk.stem import WordNetLemmatizer\n",
        "lemmatizer = WordNetLemmatizer()\n",
        "import json\n",
        "import pickle\n",
        "import tensorflow\n",
        "import numpy as np\n",
        "from keras.models import Sequential\n",
        "from keras.layers import Dense, Activation, Dropout\n",
        "from tensorflow.keras.optimizers import SGD\n",
        "import random"
      ],
      "metadata": {
        "id": "1Ld9pe964Ba5"
      },
      "execution_count": 9,
      "outputs": []
    },
    {
      "cell_type": "code",
      "source": [
        "words = []\n",
        "labels = []\n",
        "documents = []\n",
        "ignore_words = ['?', '!', ',','.','-']\n",
        "intents = json.loads(data)\n",
        "nltk.download('punkt')\n",
        "\n",
        "for intent in intents['intents']:\n",
        "    for pattern in intent['patterns']:\n",
        "        #tokenize each word\n",
        "        w = nltk.word_tokenize(pattern)\n",
        "        words.extend(w)\n",
        "        #add documents in the corpus\n",
        "        documents.append((w, intent['tag']))\n",
        "        # add to our classes list\n",
        "        if intent['tag'] not in labels:\n",
        "            labels.append(intent['tag'])\n",
        "print(documents)"
      ],
      "metadata": {
        "colab": {
          "base_uri": "https://localhost:8080/"
        },
        "id": "q15TKB1n5DAD",
        "outputId": "e18078d7-5adf-44dc-be2d-5d47c13d9436"
      },
      "execution_count": 10,
      "outputs": [
        {
          "output_type": "stream",
          "name": "stdout",
          "text": [
            "[(['Hi'], 'greeting'), (['How', 'are', 'you'], 'greeting'), (['Is', 'anyone', 'there', '?'], 'greeting'), (['Hello'], 'greeting'), (['Good', 'day'], 'greeting'), (['Whats', 'up'], 'greeting'), (['cya'], 'goodbye'), (['See', 'you', 'later'], 'goodbye'), (['Goodbye'], 'goodbye'), (['I', 'am', 'Leaving'], 'goodbye'), (['Have', 'a', 'Good', 'day'], 'goodbye'), (['how', 'old'], 'age'), (['how', 'old', 'is', 'zyo'], 'age'), (['what', 'is', 'your', 'age'], 'age'), (['how', 'old', 'are', 'you'], 'age'), (['age', '?'], 'age'), (['what', 'is', 'your', 'name'], 'name'), (['what', 'should', 'I', 'call', 'you'], 'name'), (['whats', 'your', 'name', '?'], 'name'), (['What', \"'s\", 'the', 'weather', 'like', 'in', 'Bali', '?'], 'weather_faq'), (['How', 'is', 'the', 'weather', 'in', 'Bali', '?'], 'weather_faq'), (['How', 'does', 'the', 'weather', 'in', 'Bali', '?'], 'weather_faq'), (['weather', 'in', 'bali'], 'weather_faq'), (['bali', \"'s\", 'weather'], 'weather_faq'), (['bali', 'is', 'hot'], 'weather_faq'), (['bali', 'is', 'cold'], 'weather_faq'), (['Do', 'I', 'need', 'a', 'VISA', 'to', 'enter', 'Bali', '?'], 'visa_faq'), (['visa', 'required'], 'visa_faq'), (['Is', 'a', 'VISA', 'required', 'to', 'enter', 'Bali', '?'], 'visa_faq'), (['Is', 'a', 'VISA', 'necessary', 'to', 'enter', 'Bali', '?'], 'visa_faq'), (['visa', 'necessary', '?'], 'visa_faq'), (['Is', 'Bali', 'Safe', '?'], 'safe_faq'), (['Is', 'there', 'much', 'crime', '?'], 'safe_faq'), (['safety', 'in', 'bali'], 'safe_faq'), (['is', 'bali', 'secure', '?'], 'safe_faq'), (['crime', 'in', 'bali'], 'safe_faq'), (['Can', 'I', 'drink', 'the', 'water', '?'], 'drinkwater_faq'), (['Bali', \"'s\", 'water'], 'drinkwater_faq'), (['water', 'drinkable', '?'], 'drinkwater_faq'), (['drink', 'water', 'in', 'Bali'], 'drinkwater_faq'), (['What', 'clothing', 'can', 'I', 'wear', 'in', 'Bali', '?'], 'clothing_faq'), (['what', 'should', 'i', 'wear', '?'], 'clothing_faq'), (['clothes', 'to', 'wear', 'in', 'bali'], 'clothing_faq'), (['bikini', 'allowed', '?'], 'clothing_faq'), (['baggy', 'clothes'], 'clothing_faq'), (['What', \"'s\", 'the', 'normal', 'price', 'for', 'food', 'in', 'Bali', '?'], 'foodprice_faq'), (['food', 'price', 'in', 'bali'], 'foodprice_faq'), (['food', 'cheap', 'or', 'expensive', '?'], 'foodprice_faq'), (['price', 'of', 'the', 'food', '?'], 'foodprice_faq'), (['Should', 'I', 'rent', 'a', 'car', '?'], 'rentcar_faq'), (['what', 'car', 'to', 'rent', '?'], 'rentcar_faq'), (['car', 'rental', 'available', '?'], 'rentcar_faq'), (['rent', 'a', 'car'], 'rentcar_faq'), (['Is', 'Bali', 'a', 'Buddhist', 'country', '?'], 'buddhist_faq'), (['religion', 'in', 'bali'], 'buddhist_faq'), (['Buddhist'], 'buddhist_faq'), (['bali', 'islam', '?'], 'buddhist_faq'), (['Does', 'Bali', 'airport', 'have', 'WiFi', '?'], 'wifi_faq'), (['wifi', 'in', 'airport'], 'wifi_faq'), (['airport', 'wifi'], 'wifi_faq'), (['How', 'many', 'airports', 'does', 'Bali', 'have', '?'], 'airportcount_faq'), (['airport', 'in', 'bali'], 'airportcount_faq'), (['bali', 'airport'], 'airportcount_faq'), (['airport'], 'airportcount_faq'), (['What', 'language', 'do', 'they', 'speak', 'in', 'Bali', '?'], 'language_faq'), (['bali', 'language'], 'language_faq'), (['speak', 'in', 'bali'], 'language_faq'), (['bahasa', 'bali'], 'language_faq'), (['bahasa', 'indonesia'], 'language_faq'), (['language', 'speak'], 'language_faq'), (['What', '’', 's', 'the', 'exchange', 'rate', 'in', 'Indonesia', '?'], 'exchange_faq'), (['exchange', 'rate'], 'exchange_faq'), (['What', 'is', 'the', 'current', 'currency', 'exchange', 'rate', 'in', 'Indonesia', '?'], 'exchange_faq'), (['What', 'are', 'the', 'best', 'things', 'to', 'do', 'in', 'Bali', 'with', 'kids', '?'], 'bestthingkid_faq'), (['Which', 'activities', 'in', 'Bali', 'are', 'the', 'best', 'for', 'families', '?'], 'bestthingkid_faq'), (['What', 'are', 'the', 'finest', 'family-friendly', 'activities', 'in', 'Bali', '?'], 'bestthingkid_faq'), (['bali', 'for', 'kids'], 'bestthingkid_faq'), (['bali', 'for', 'family'], 'bestthingkid_faq'), (['kids', 'in', 'bali'], 'bestthingkid_faq'), (['traveling', 'with', 'kids'], 'bestthingkid_faq'), (['Does', 'Bali', 'have', 'a', 'casino', '?'], 'casino_faq'), (['bali', 'casino'], 'casino_faq'), (['casino', 'in', 'bali'], 'casino_faq'), (['casino', 'available'], 'casino_faq'), (['casino'], 'casino_faq'), (['What', 'to', 'eat', 'in', 'Bali', '?'], 'whattoeat_faq'), (['eat', 'in', 'bali'], 'whattoeat_faq'), (['best', 'food', 'in', 'bali'], 'whattoeat_faq'), (['bali', 'food'], 'whattoeat_faq'), (['delicious', 'food', 'in', 'bali'], 'whattoeat_faq'), (['Which', 'are', 'the', 'best', 'beach', 'resorts', 'in', 'Bali', '?'], 'bestressort_faq'), (['bali', 'resort'], 'bestressort_faq'), (['best', 'resort', 'in', 'bali'], 'bestressort_faq'), (['bali', 'resorts'], 'bestressort_faq'), (['recommended', 'resorts'], 'bestressort_faq'), (['Which', 'are', 'the', 'best', 'hotels', 'in', 'Seminyak'], 'besthotel_faq'), (['best', 'hotel', 'in', 'seminyak'], 'besthotel_faq'), (['best', 'hotel'], 'besthotel_faq'), (['recommended', 'hotel'], 'besthotel_faq'), (['When', 'is', 'the', 'best', 'time', 'to', 'go', '?'], 'timevisit_faq'), (['best', 'time', 'to', 'go'], 'timevisit_faq'), (['what', 'time', 'to', 'go'], 'timevisit_faq'), (['time', 'to', 'come'], 'timevisit_faq'), (['what', 'year', 'to', 'come', 'to', 'bali'], 'timevisit_faq'), (['Is', 'there', 'Corona', 'Virus', 'in', 'Bali', '?'], 'corona_faq'), (['corona', 'in', 'bali'], 'corona_faq'), (['corona'], 'corona_faq'), (['covid', '19'], 'corona_faq'), (['bali', 'corona', 'covid'], 'corona_faq'), (['bali', 'virus'], 'corona_faq'), (['What', 'taxis', 'do', 'you', 'catch', 'in', 'Bali', '?'], 'taxis_faq'), (['taxi', 'to', 'go'], 'taxis_faq'), (['what', 'taxi', 'to', 'ride'], 'taxis_faq'), (['bali', 'taxi'], 'taxis_faq'), (['What', 'is', 'illegal', 'in', 'Bali', '?'], 'illegal_faq'), (['drugs', 'is', 'illegal'], 'illegal_faq'), (['illegal', 'in', 'bali'], 'illegal_faq'), (['drugs'], 'illegal_faq'), (['Can', 'i', 'smoke', 'in', 'Bali', '?'], 'smoke_faq'), (['smoking', 'in', 'bali'], 'smoke_faq'), (['cigarettes', 'in', 'bali'], 'smoke_faq'), (['can', 'i', 'smoke', '?'], 'smoke_faq')]\n"
          ]
        },
        {
          "output_type": "stream",
          "name": "stderr",
          "text": [
            "[nltk_data] Downloading package punkt to /root/nltk_data...\n",
            "[nltk_data]   Package punkt is already up-to-date!\n"
          ]
        }
      ]
    },
    {
      "cell_type": "code",
      "source": [
        "#nltk.download('omw-1.4')\n",
        "#nltk.download('wordnet')\n",
        "lemmatizer = WordNetLemmatizer()\n",
        "words = [lemmatizer.lemmatize(w.lower()) for w in words if w not in ignore_words]\n",
        "words = sorted(list(set(words)))\n",
        "print(words)"
      ],
      "metadata": {
        "colab": {
          "base_uri": "https://localhost:8080/"
        },
        "id": "1pEKvMqlB1wN",
        "outputId": "e9af56b1-70be-4ef6-e883-2169a4aa37b7"
      },
      "execution_count": 12,
      "outputs": [
        {
          "output_type": "stream",
          "name": "stderr",
          "text": [
            "[nltk_data] Downloading package omw-1.4 to /root/nltk_data...\n",
            "[nltk_data]   Package omw-1.4 is already up-to-date!\n",
            "[nltk_data] Downloading package wordnet to /root/nltk_data...\n"
          ]
        },
        {
          "output_type": "stream",
          "name": "stdout",
          "text": [
            "[\"'s\", '19', 'a', 'activity', 'age', 'airport', 'allowed', 'am', 'anyone', 'are', 'available', 'baggy', 'bahasa', 'bali', 'beach', 'best', 'bikini', 'buddhist', 'call', 'can', 'car', 'casino', 'catch', 'cheap', 'cigarette', 'clothes', 'clothing', 'cold', 'come', 'corona', 'country', 'covid', 'crime', 'currency', 'current', 'cya', 'day', 'delicious', 'do', 'doe', 'drink', 'drinkable', 'drug', 'eat', 'enter', 'exchange', 'expensive', 'family', 'family-friendly', 'finest', 'food', 'for', 'go', 'good', 'goodbye', 'have', 'hello', 'hi', 'hot', 'hotel', 'how', 'i', 'illegal', 'in', 'indonesia', 'is', 'islam', 'kid', 'language', 'later', 'leaving', 'like', 'many', 'much', 'name', 'necessary', 'need', 'normal', 'of', 'old', 'or', 'price', 'rate', 'recommended', 'religion', 'rent', 'rental', 'required', 'resort', 'ride', 's', 'safe', 'safety', 'secure', 'see', 'seminyak', 'should', 'smoke', 'smoking', 'speak', 'taxi', 'the', 'there', 'they', 'thing', 'time', 'to', 'traveling', 'up', 'virus', 'visa', 'water', 'wear', 'weather', 'what', 'whats', 'when', 'which', 'wifi', 'with', 'year', 'you', 'your', 'zyo', '’']\n"
          ]
        }
      ]
    },
    {
      "cell_type": "code",
      "source": [
        "labels = sorted(list(set(labels)))\n",
        "# documents = combination between patterns and intents\n",
        "print (len(documents), \"documents\")\n",
        "# labels = intents\n",
        "print (len(labels), \"labels\", labels)\n",
        "# words = all words, vocabulary\n",
        "print (len(words), \"unique lemmatized words\", words)\n",
        "pickle.dump(words,open('texts.pkl','wb'))\n",
        "pickle.dump(labels,open('labels.pkl','wb'))"
      ],
      "metadata": {
        "colab": {
          "base_uri": "https://localhost:8080/"
        },
        "id": "M22QBddTCPm8",
        "outputId": "eb5b1065-56c6-4ca6-fe27-245a12f9cfaf"
      },
      "execution_count": 13,
      "outputs": [
        {
          "output_type": "stream",
          "name": "stdout",
          "text": [
            "122 documents\n",
            "26 labels ['age', 'airportcount_faq', 'besthotel_faq', 'bestressort_faq', 'bestthingkid_faq', 'buddhist_faq', 'casino_faq', 'clothing_faq', 'corona_faq', 'drinkwater_faq', 'exchange_faq', 'foodprice_faq', 'goodbye', 'greeting', 'illegal_faq', 'language_faq', 'name', 'rentcar_faq', 'safe_faq', 'smoke_faq', 'taxis_faq', 'timevisit_faq', 'visa_faq', 'weather_faq', 'whattoeat_faq', 'wifi_faq']\n",
            "125 unique lemmatized words [\"'s\", '19', 'a', 'activity', 'age', 'airport', 'allowed', 'am', 'anyone', 'are', 'available', 'baggy', 'bahasa', 'bali', 'beach', 'best', 'bikini', 'buddhist', 'call', 'can', 'car', 'casino', 'catch', 'cheap', 'cigarette', 'clothes', 'clothing', 'cold', 'come', 'corona', 'country', 'covid', 'crime', 'currency', 'current', 'cya', 'day', 'delicious', 'do', 'doe', 'drink', 'drinkable', 'drug', 'eat', 'enter', 'exchange', 'expensive', 'family', 'family-friendly', 'finest', 'food', 'for', 'go', 'good', 'goodbye', 'have', 'hello', 'hi', 'hot', 'hotel', 'how', 'i', 'illegal', 'in', 'indonesia', 'is', 'islam', 'kid', 'language', 'later', 'leaving', 'like', 'many', 'much', 'name', 'necessary', 'need', 'normal', 'of', 'old', 'or', 'price', 'rate', 'recommended', 'religion', 'rent', 'rental', 'required', 'resort', 'ride', 's', 'safe', 'safety', 'secure', 'see', 'seminyak', 'should', 'smoke', 'smoking', 'speak', 'taxi', 'the', 'there', 'they', 'thing', 'time', 'to', 'traveling', 'up', 'virus', 'visa', 'water', 'wear', 'weather', 'what', 'whats', 'when', 'which', 'wifi', 'with', 'year', 'you', 'your', 'zyo', '’']\n"
          ]
        }
      ]
    },
    {
      "cell_type": "markdown",
      "source": [
        "# Training Data"
      ],
      "metadata": {
        "id": "25HGFfQLCdBE"
      }
    },
    {
      "cell_type": "code",
      "source": [
        "# create our training data\n",
        "training = []\n",
        "# create an empty array for our output\n",
        "output_empty = [0] * len(labels)\n",
        "# training set, bag of words for each sentence\n",
        "for doc in documents:\n",
        "    # initialize our bag of words\n",
        "    bag = []\n",
        "    # list of tokenized words for the pattern\n",
        "    pattern_words = doc[0]\n",
        "    # lemmatize each word - create base word, in attempt to represent related words\n",
        "    pattern_words = [lemmatizer.lemmatize(word.lower()) for word in pattern_words]\n",
        "    # create our bag of words array with 1, if word match found in current pattern\n",
        "    for w in words:\n",
        "        bag.append(1) if w in pattern_words else bag.append(0)\n",
        "    \n",
        "    # output is a '0' for each tag and '1' for current tag (for each pattern)\n",
        "    output_row = list(output_empty)\n",
        "    output_row[labels.index(doc[1])] = 1\n",
        "    \n",
        "    training.append([bag, output_row])\n",
        "# shuffle our features and turn into np.array\n",
        "random.shuffle(training)\n",
        "training = np.array(training)\n",
        "\n",
        "#print(training)\n",
        "# create train and test lists. X - patterns, Y - intents\n",
        "train_x = list(training[:,0])\n",
        "train_y = list(training[:,1])\n",
        "\n",
        "# print(train_x)\n",
        "# print(train_y) \n",
        "print(\"Training data created\")"
      ],
      "metadata": {
        "colab": {
          "base_uri": "https://localhost:8080/"
        },
        "id": "gspy-PrhCfCN",
        "outputId": "d68033a4-243a-4b84-d113-192aa34e1029"
      },
      "execution_count": 14,
      "outputs": [
        {
          "output_type": "stream",
          "name": "stdout",
          "text": [
            "Training data created\n"
          ]
        },
        {
          "output_type": "stream",
          "name": "stderr",
          "text": [
            "/usr/local/lib/python3.7/dist-packages/ipykernel_launcher.py:24: VisibleDeprecationWarning: Creating an ndarray from ragged nested sequences (which is a list-or-tuple of lists-or-tuples-or ndarrays with different lengths or shapes) is deprecated. If you meant to do this, you must specify 'dtype=object' when creating the ndarray.\n"
          ]
        }
      ]
    },
    {
      "cell_type": "code",
      "source": [
        "# Create model - 3 layers. First layer 128 neurons, second layer 64 neurons and 3rd output layer contains number of neurons\n",
        "# equal to number of intents to predict output intent with softmax\n",
        "model = Sequential()\n",
        "model.add(Dense(128, input_shape=(len(train_x[0]),), activation='relu'))\n",
        "model.add(Dropout(0.5))\n",
        "model.add(Dense(64, activation='relu'))\n",
        "model.add(Dropout(0.5))\n",
        "model.add(Dense(len(train_y[0]), activation='softmax'))\n",
        "# Compile model. Stochastic gradient descent with Nesterov accelerated gradient gives good results for this model\n",
        "sgd = SGD(lr=0.01, decay=1e-6, momentum=0.9, nesterov=True)\n",
        "model.compile(loss='categorical_crossentropy', optimizer=sgd, metrics=['accuracy'])\n",
        "#fitting and saving the model \n",
        "hist = model.fit(np.array(train_x), np.array(train_y), epochs=200, batch_size=5, verbose=1)\n",
        "model.save('model_Zyo.h5', hist)\n",
        "print(\"model created\")"
      ],
      "metadata": {
        "colab": {
          "base_uri": "https://localhost:8080/"
        },
        "id": "p9nZWEKUCvuc",
        "outputId": "0103968d-fe69-4153-b55d-6bc8bf7b5c71"
      },
      "execution_count": 15,
      "outputs": [
        {
          "output_type": "stream",
          "name": "stderr",
          "text": [
            "/usr/local/lib/python3.7/dist-packages/keras/optimizer_v2/gradient_descent.py:102: UserWarning: The `lr` argument is deprecated, use `learning_rate` instead.\n",
            "  super(SGD, self).__init__(name, **kwargs)\n"
          ]
        },
        {
          "output_type": "stream",
          "name": "stdout",
          "text": [
            "Epoch 1/200\n",
            "25/25 [==============================] - 3s 6ms/step - loss: 3.2937 - accuracy: 0.0328\n",
            "Epoch 2/200\n",
            "25/25 [==============================] - 0s 4ms/step - loss: 3.2356 - accuracy: 0.0410\n",
            "Epoch 3/200\n",
            "25/25 [==============================] - 0s 8ms/step - loss: 3.1270 - accuracy: 0.1230\n",
            "Epoch 4/200\n",
            "25/25 [==============================] - 0s 10ms/step - loss: 3.1249 - accuracy: 0.1148\n",
            "Epoch 5/200\n",
            "25/25 [==============================] - 0s 6ms/step - loss: 2.9884 - accuracy: 0.1885\n",
            "Epoch 6/200\n",
            "25/25 [==============================] - 0s 3ms/step - loss: 2.8755 - accuracy: 0.2705\n",
            "Epoch 7/200\n",
            "25/25 [==============================] - 0s 7ms/step - loss: 2.7809 - accuracy: 0.2705\n",
            "Epoch 8/200\n",
            "25/25 [==============================] - 0s 11ms/step - loss: 2.7059 - accuracy: 0.2377\n",
            "Epoch 9/200\n",
            "25/25 [==============================] - 0s 10ms/step - loss: 2.5556 - accuracy: 0.2787\n",
            "Epoch 10/200\n",
            "25/25 [==============================] - 0s 3ms/step - loss: 2.3225 - accuracy: 0.3361\n",
            "Epoch 11/200\n",
            "25/25 [==============================] - 0s 3ms/step - loss: 2.1146 - accuracy: 0.4426\n",
            "Epoch 12/200\n",
            "25/25 [==============================] - 0s 5ms/step - loss: 2.0519 - accuracy: 0.4426\n",
            "Epoch 13/200\n",
            "25/25 [==============================] - 0s 3ms/step - loss: 1.9155 - accuracy: 0.4672\n",
            "Epoch 14/200\n",
            "25/25 [==============================] - 0s 2ms/step - loss: 1.6525 - accuracy: 0.5738\n",
            "Epoch 15/200\n",
            "25/25 [==============================] - 0s 3ms/step - loss: 1.5461 - accuracy: 0.5492\n",
            "Epoch 16/200\n",
            "25/25 [==============================] - 0s 3ms/step - loss: 1.5803 - accuracy: 0.5246\n",
            "Epoch 17/200\n",
            "25/25 [==============================] - 0s 3ms/step - loss: 1.2794 - accuracy: 0.6639\n",
            "Epoch 18/200\n",
            "25/25 [==============================] - 0s 3ms/step - loss: 1.3447 - accuracy: 0.5984\n",
            "Epoch 19/200\n",
            "25/25 [==============================] - 0s 3ms/step - loss: 1.2427 - accuracy: 0.6721\n",
            "Epoch 20/200\n",
            "25/25 [==============================] - 0s 3ms/step - loss: 1.0596 - accuracy: 0.7377\n",
            "Epoch 21/200\n",
            "25/25 [==============================] - 0s 4ms/step - loss: 0.9314 - accuracy: 0.7541\n",
            "Epoch 22/200\n",
            "25/25 [==============================] - 0s 2ms/step - loss: 0.9855 - accuracy: 0.7213\n",
            "Epoch 23/200\n",
            "25/25 [==============================] - 0s 4ms/step - loss: 0.9547 - accuracy: 0.7049\n",
            "Epoch 24/200\n",
            "25/25 [==============================] - 0s 2ms/step - loss: 0.8272 - accuracy: 0.7869\n",
            "Epoch 25/200\n",
            "25/25 [==============================] - 0s 2ms/step - loss: 0.7180 - accuracy: 0.8033\n",
            "Epoch 26/200\n",
            "25/25 [==============================] - 0s 2ms/step - loss: 0.7967 - accuracy: 0.7623\n",
            "Epoch 27/200\n",
            "25/25 [==============================] - 0s 2ms/step - loss: 0.6268 - accuracy: 0.8443\n",
            "Epoch 28/200\n",
            "25/25 [==============================] - 0s 2ms/step - loss: 0.5602 - accuracy: 0.8361\n",
            "Epoch 29/200\n",
            "25/25 [==============================] - 0s 2ms/step - loss: 0.6023 - accuracy: 0.8115\n",
            "Epoch 30/200\n",
            "25/25 [==============================] - 0s 2ms/step - loss: 0.6478 - accuracy: 0.8361\n",
            "Epoch 31/200\n",
            "25/25 [==============================] - 0s 2ms/step - loss: 0.5361 - accuracy: 0.9016\n",
            "Epoch 32/200\n",
            "25/25 [==============================] - 0s 1ms/step - loss: 0.6317 - accuracy: 0.8197\n",
            "Epoch 33/200\n",
            "25/25 [==============================] - 0s 2ms/step - loss: 0.5541 - accuracy: 0.8361\n",
            "Epoch 34/200\n",
            "25/25 [==============================] - 0s 2ms/step - loss: 0.4563 - accuracy: 0.8770\n",
            "Epoch 35/200\n",
            "25/25 [==============================] - 0s 2ms/step - loss: 0.5729 - accuracy: 0.8443\n",
            "Epoch 36/200\n",
            "25/25 [==============================] - 0s 2ms/step - loss: 0.4485 - accuracy: 0.9016\n",
            "Epoch 37/200\n",
            "25/25 [==============================] - 0s 2ms/step - loss: 0.4227 - accuracy: 0.8689\n",
            "Epoch 38/200\n",
            "25/25 [==============================] - 0s 2ms/step - loss: 0.4785 - accuracy: 0.8607\n",
            "Epoch 39/200\n",
            "25/25 [==============================] - 0s 1ms/step - loss: 0.4240 - accuracy: 0.8770\n",
            "Epoch 40/200\n",
            "25/25 [==============================] - 0s 2ms/step - loss: 0.4353 - accuracy: 0.8770\n",
            "Epoch 41/200\n",
            "25/25 [==============================] - 0s 2ms/step - loss: 0.5000 - accuracy: 0.8770\n",
            "Epoch 42/200\n",
            "25/25 [==============================] - 0s 1ms/step - loss: 0.4008 - accuracy: 0.9016\n",
            "Epoch 43/200\n",
            "25/25 [==============================] - 0s 2ms/step - loss: 0.4314 - accuracy: 0.8525\n",
            "Epoch 44/200\n",
            "25/25 [==============================] - 0s 2ms/step - loss: 0.4094 - accuracy: 0.8607\n",
            "Epoch 45/200\n",
            "25/25 [==============================] - 0s 2ms/step - loss: 0.2702 - accuracy: 0.9262\n",
            "Epoch 46/200\n",
            "25/25 [==============================] - 0s 2ms/step - loss: 0.4089 - accuracy: 0.8525\n",
            "Epoch 47/200\n",
            "25/25 [==============================] - 0s 2ms/step - loss: 0.2801 - accuracy: 0.9016\n",
            "Epoch 48/200\n",
            "25/25 [==============================] - 0s 2ms/step - loss: 0.3809 - accuracy: 0.8525\n",
            "Epoch 49/200\n",
            "25/25 [==============================] - 0s 2ms/step - loss: 0.2592 - accuracy: 0.9344\n",
            "Epoch 50/200\n",
            "25/25 [==============================] - 0s 2ms/step - loss: 0.2385 - accuracy: 0.9426\n",
            "Epoch 51/200\n",
            "25/25 [==============================] - 0s 2ms/step - loss: 0.2006 - accuracy: 0.9590\n",
            "Epoch 52/200\n",
            "25/25 [==============================] - 0s 2ms/step - loss: 0.2408 - accuracy: 0.9262\n",
            "Epoch 53/200\n",
            "25/25 [==============================] - 0s 2ms/step - loss: 0.2150 - accuracy: 0.9590\n",
            "Epoch 54/200\n",
            "25/25 [==============================] - 0s 2ms/step - loss: 0.3153 - accuracy: 0.9016\n",
            "Epoch 55/200\n",
            "25/25 [==============================] - 0s 2ms/step - loss: 0.2727 - accuracy: 0.9098\n",
            "Epoch 56/200\n",
            "25/25 [==============================] - 0s 2ms/step - loss: 0.2435 - accuracy: 0.9262\n",
            "Epoch 57/200\n",
            "25/25 [==============================] - 0s 2ms/step - loss: 0.2280 - accuracy: 0.9180\n",
            "Epoch 58/200\n",
            "25/25 [==============================] - 0s 2ms/step - loss: 0.1826 - accuracy: 0.9508\n",
            "Epoch 59/200\n",
            "25/25 [==============================] - 0s 2ms/step - loss: 0.2515 - accuracy: 0.9180\n",
            "Epoch 60/200\n",
            "25/25 [==============================] - 0s 2ms/step - loss: 0.1672 - accuracy: 0.9672\n",
            "Epoch 61/200\n",
            "25/25 [==============================] - 0s 2ms/step - loss: 0.1562 - accuracy: 0.9754\n",
            "Epoch 62/200\n",
            "25/25 [==============================] - 0s 2ms/step - loss: 0.2662 - accuracy: 0.9262\n",
            "Epoch 63/200\n",
            "25/25 [==============================] - 0s 2ms/step - loss: 0.2467 - accuracy: 0.9344\n",
            "Epoch 64/200\n",
            "25/25 [==============================] - 0s 2ms/step - loss: 0.3037 - accuracy: 0.9016\n",
            "Epoch 65/200\n",
            "25/25 [==============================] - 0s 2ms/step - loss: 0.1930 - accuracy: 0.9590\n",
            "Epoch 66/200\n",
            "25/25 [==============================] - 0s 2ms/step - loss: 0.1733 - accuracy: 0.9508\n",
            "Epoch 67/200\n",
            "25/25 [==============================] - 0s 2ms/step - loss: 0.1867 - accuracy: 0.9426\n",
            "Epoch 68/200\n",
            "25/25 [==============================] - 0s 2ms/step - loss: 0.2255 - accuracy: 0.9262\n",
            "Epoch 69/200\n",
            "25/25 [==============================] - 0s 2ms/step - loss: 0.1942 - accuracy: 0.9344\n",
            "Epoch 70/200\n",
            "25/25 [==============================] - 0s 2ms/step - loss: 0.1383 - accuracy: 0.9508\n",
            "Epoch 71/200\n",
            "25/25 [==============================] - 0s 2ms/step - loss: 0.1497 - accuracy: 0.9426\n",
            "Epoch 72/200\n",
            "25/25 [==============================] - 0s 2ms/step - loss: 0.1049 - accuracy: 0.9836\n",
            "Epoch 73/200\n",
            "25/25 [==============================] - 0s 2ms/step - loss: 0.2077 - accuracy: 0.9262\n",
            "Epoch 74/200\n",
            "25/25 [==============================] - 0s 2ms/step - loss: 0.1320 - accuracy: 0.9590\n",
            "Epoch 75/200\n",
            "25/25 [==============================] - 0s 2ms/step - loss: 0.1571 - accuracy: 0.9508\n",
            "Epoch 76/200\n",
            "25/25 [==============================] - 0s 2ms/step - loss: 0.1366 - accuracy: 0.9754\n",
            "Epoch 77/200\n",
            "25/25 [==============================] - 0s 2ms/step - loss: 0.1561 - accuracy: 0.9590\n",
            "Epoch 78/200\n",
            "25/25 [==============================] - 0s 2ms/step - loss: 0.1625 - accuracy: 0.9344\n",
            "Epoch 79/200\n",
            "25/25 [==============================] - 0s 2ms/step - loss: 0.1429 - accuracy: 0.9426\n",
            "Epoch 80/200\n",
            "25/25 [==============================] - 0s 2ms/step - loss: 0.2011 - accuracy: 0.9426\n",
            "Epoch 81/200\n",
            "25/25 [==============================] - 0s 2ms/step - loss: 0.1603 - accuracy: 0.9344\n",
            "Epoch 82/200\n",
            "25/25 [==============================] - 0s 2ms/step - loss: 0.1663 - accuracy: 0.9590\n",
            "Epoch 83/200\n",
            "25/25 [==============================] - 0s 2ms/step - loss: 0.1599 - accuracy: 0.9426\n",
            "Epoch 84/200\n",
            "25/25 [==============================] - 0s 2ms/step - loss: 0.2140 - accuracy: 0.9426\n",
            "Epoch 85/200\n",
            "25/25 [==============================] - 0s 2ms/step - loss: 0.2050 - accuracy: 0.9262\n",
            "Epoch 86/200\n",
            "25/25 [==============================] - 0s 2ms/step - loss: 0.1741 - accuracy: 0.9590\n",
            "Epoch 87/200\n",
            "25/25 [==============================] - 0s 2ms/step - loss: 0.1278 - accuracy: 0.9836\n",
            "Epoch 88/200\n",
            "25/25 [==============================] - 0s 2ms/step - loss: 0.1086 - accuracy: 0.9754\n",
            "Epoch 89/200\n",
            "25/25 [==============================] - 0s 2ms/step - loss: 0.1411 - accuracy: 0.9508\n",
            "Epoch 90/200\n",
            "25/25 [==============================] - 0s 2ms/step - loss: 0.0757 - accuracy: 0.9836\n",
            "Epoch 91/200\n",
            "25/25 [==============================] - 0s 2ms/step - loss: 0.1062 - accuracy: 0.9754\n",
            "Epoch 92/200\n",
            "25/25 [==============================] - 0s 2ms/step - loss: 0.1160 - accuracy: 0.9754\n",
            "Epoch 93/200\n",
            "25/25 [==============================] - 0s 2ms/step - loss: 0.0925 - accuracy: 0.9918\n",
            "Epoch 94/200\n",
            "25/25 [==============================] - 0s 2ms/step - loss: 0.1533 - accuracy: 0.9754\n",
            "Epoch 95/200\n",
            "25/25 [==============================] - 0s 2ms/step - loss: 0.2182 - accuracy: 0.9426\n",
            "Epoch 96/200\n",
            "25/25 [==============================] - 0s 2ms/step - loss: 0.1963 - accuracy: 0.9426\n",
            "Epoch 97/200\n",
            "25/25 [==============================] - 0s 2ms/step - loss: 0.1233 - accuracy: 0.9754\n",
            "Epoch 98/200\n",
            "25/25 [==============================] - 0s 2ms/step - loss: 0.1640 - accuracy: 0.9180\n",
            "Epoch 99/200\n",
            "25/25 [==============================] - 0s 2ms/step - loss: 0.2242 - accuracy: 0.9508\n",
            "Epoch 100/200\n",
            "25/25 [==============================] - 0s 2ms/step - loss: 0.1163 - accuracy: 0.9754\n",
            "Epoch 101/200\n",
            "25/25 [==============================] - 0s 2ms/step - loss: 0.1446 - accuracy: 0.9672\n",
            "Epoch 102/200\n",
            "25/25 [==============================] - 0s 2ms/step - loss: 0.1084 - accuracy: 0.9754\n",
            "Epoch 103/200\n",
            "25/25 [==============================] - 0s 2ms/step - loss: 0.1130 - accuracy: 0.9672\n",
            "Epoch 104/200\n",
            "25/25 [==============================] - 0s 2ms/step - loss: 0.0887 - accuracy: 0.9918\n",
            "Epoch 105/200\n",
            "25/25 [==============================] - 0s 2ms/step - loss: 0.0941 - accuracy: 0.9836\n",
            "Epoch 106/200\n",
            "25/25 [==============================] - 0s 2ms/step - loss: 0.0876 - accuracy: 0.9836\n",
            "Epoch 107/200\n",
            "25/25 [==============================] - 0s 2ms/step - loss: 0.0611 - accuracy: 0.9836\n",
            "Epoch 108/200\n",
            "25/25 [==============================] - 0s 2ms/step - loss: 0.1061 - accuracy: 0.9672\n",
            "Epoch 109/200\n",
            "25/25 [==============================] - 0s 2ms/step - loss: 0.1103 - accuracy: 0.9754\n",
            "Epoch 110/200\n",
            "25/25 [==============================] - 0s 2ms/step - loss: 0.1858 - accuracy: 0.9344\n",
            "Epoch 111/200\n",
            "25/25 [==============================] - 0s 2ms/step - loss: 0.0757 - accuracy: 0.9836\n",
            "Epoch 112/200\n",
            "25/25 [==============================] - 0s 2ms/step - loss: 0.1068 - accuracy: 0.9672\n",
            "Epoch 113/200\n",
            "25/25 [==============================] - 0s 2ms/step - loss: 0.1347 - accuracy: 0.9754\n",
            "Epoch 114/200\n",
            "25/25 [==============================] - 0s 2ms/step - loss: 0.1554 - accuracy: 0.9508\n",
            "Epoch 115/200\n",
            "25/25 [==============================] - 0s 1ms/step - loss: 0.0627 - accuracy: 0.9836\n",
            "Epoch 116/200\n",
            "25/25 [==============================] - 0s 1ms/step - loss: 0.1488 - accuracy: 0.9508\n",
            "Epoch 117/200\n",
            "25/25 [==============================] - 0s 2ms/step - loss: 0.1495 - accuracy: 0.9508\n",
            "Epoch 118/200\n",
            "25/25 [==============================] - 0s 2ms/step - loss: 0.0997 - accuracy: 0.9754\n",
            "Epoch 119/200\n",
            "25/25 [==============================] - 0s 2ms/step - loss: 0.0697 - accuracy: 0.9754\n",
            "Epoch 120/200\n",
            "25/25 [==============================] - 0s 2ms/step - loss: 0.1179 - accuracy: 0.9672\n",
            "Epoch 121/200\n",
            "25/25 [==============================] - 0s 2ms/step - loss: 0.0958 - accuracy: 0.9836\n",
            "Epoch 122/200\n",
            "25/25 [==============================] - 0s 2ms/step - loss: 0.1708 - accuracy: 0.9262\n",
            "Epoch 123/200\n",
            "25/25 [==============================] - 0s 2ms/step - loss: 0.1266 - accuracy: 0.9590\n",
            "Epoch 124/200\n",
            "25/25 [==============================] - 0s 2ms/step - loss: 0.1264 - accuracy: 0.9508\n",
            "Epoch 125/200\n",
            "25/25 [==============================] - 0s 2ms/step - loss: 0.0991 - accuracy: 0.9754\n",
            "Epoch 126/200\n",
            "25/25 [==============================] - 0s 2ms/step - loss: 0.1247 - accuracy: 0.9672\n",
            "Epoch 127/200\n",
            "25/25 [==============================] - 0s 2ms/step - loss: 0.1186 - accuracy: 0.9754\n",
            "Epoch 128/200\n",
            "25/25 [==============================] - 0s 2ms/step - loss: 0.0720 - accuracy: 0.9836\n",
            "Epoch 129/200\n",
            "25/25 [==============================] - 0s 2ms/step - loss: 0.1229 - accuracy: 0.9590\n",
            "Epoch 130/200\n",
            "25/25 [==============================] - 0s 2ms/step - loss: 0.0807 - accuracy: 0.9754\n",
            "Epoch 131/200\n",
            "25/25 [==============================] - 0s 1ms/step - loss: 0.0774 - accuracy: 0.9754\n",
            "Epoch 132/200\n",
            "25/25 [==============================] - 0s 2ms/step - loss: 0.1439 - accuracy: 0.9590\n",
            "Epoch 133/200\n",
            "25/25 [==============================] - 0s 2ms/step - loss: 0.0774 - accuracy: 0.9672\n",
            "Epoch 134/200\n",
            "25/25 [==============================] - 0s 2ms/step - loss: 0.1198 - accuracy: 0.9508\n",
            "Epoch 135/200\n",
            "25/25 [==============================] - 0s 2ms/step - loss: 0.1488 - accuracy: 0.9508\n",
            "Epoch 136/200\n",
            "25/25 [==============================] - 0s 2ms/step - loss: 0.0624 - accuracy: 0.9918\n",
            "Epoch 137/200\n",
            "25/25 [==============================] - 0s 2ms/step - loss: 0.0959 - accuracy: 0.9590\n",
            "Epoch 138/200\n",
            "25/25 [==============================] - 0s 2ms/step - loss: 0.0323 - accuracy: 1.0000\n",
            "Epoch 139/200\n",
            "25/25 [==============================] - 0s 2ms/step - loss: 0.1049 - accuracy: 0.9590\n",
            "Epoch 140/200\n",
            "25/25 [==============================] - 0s 2ms/step - loss: 0.0950 - accuracy: 0.9754\n",
            "Epoch 141/200\n",
            "25/25 [==============================] - 0s 2ms/step - loss: 0.1520 - accuracy: 0.9508\n",
            "Epoch 142/200\n",
            "25/25 [==============================] - 0s 2ms/step - loss: 0.0734 - accuracy: 0.9836\n",
            "Epoch 143/200\n",
            "25/25 [==============================] - 0s 2ms/step - loss: 0.1190 - accuracy: 0.9836\n",
            "Epoch 144/200\n",
            "25/25 [==============================] - 0s 2ms/step - loss: 0.0707 - accuracy: 0.9672\n",
            "Epoch 145/200\n",
            "25/25 [==============================] - 0s 2ms/step - loss: 0.0486 - accuracy: 1.0000\n",
            "Epoch 146/200\n",
            "25/25 [==============================] - 0s 2ms/step - loss: 0.0849 - accuracy: 0.9672\n",
            "Epoch 147/200\n",
            "25/25 [==============================] - 0s 2ms/step - loss: 0.1655 - accuracy: 0.9508\n",
            "Epoch 148/200\n",
            "25/25 [==============================] - 0s 2ms/step - loss: 0.1297 - accuracy: 0.9590\n",
            "Epoch 149/200\n",
            "25/25 [==============================] - 0s 2ms/step - loss: 0.0402 - accuracy: 0.9918\n",
            "Epoch 150/200\n",
            "25/25 [==============================] - 0s 2ms/step - loss: 0.1067 - accuracy: 0.9590\n",
            "Epoch 151/200\n",
            "25/25 [==============================] - 0s 2ms/step - loss: 0.0366 - accuracy: 0.9918\n",
            "Epoch 152/200\n",
            "25/25 [==============================] - 0s 2ms/step - loss: 0.0917 - accuracy: 0.9508\n",
            "Epoch 153/200\n",
            "25/25 [==============================] - 0s 2ms/step - loss: 0.0398 - accuracy: 0.9836\n",
            "Epoch 154/200\n",
            "25/25 [==============================] - 0s 2ms/step - loss: 0.0424 - accuracy: 1.0000\n",
            "Epoch 155/200\n",
            "25/25 [==============================] - 0s 2ms/step - loss: 0.0518 - accuracy: 0.9836\n",
            "Epoch 156/200\n",
            "25/25 [==============================] - 0s 2ms/step - loss: 0.0628 - accuracy: 0.9836\n",
            "Epoch 157/200\n",
            "25/25 [==============================] - 0s 2ms/step - loss: 0.0315 - accuracy: 0.9918\n",
            "Epoch 158/200\n",
            "25/25 [==============================] - 0s 2ms/step - loss: 0.0390 - accuracy: 1.0000\n",
            "Epoch 159/200\n",
            "25/25 [==============================] - 0s 2ms/step - loss: 0.0526 - accuracy: 0.9754\n",
            "Epoch 160/200\n",
            "25/25 [==============================] - 0s 2ms/step - loss: 0.0715 - accuracy: 0.9672\n",
            "Epoch 161/200\n",
            "25/25 [==============================] - 0s 2ms/step - loss: 0.0980 - accuracy: 0.9672\n",
            "Epoch 162/200\n",
            "25/25 [==============================] - 0s 2ms/step - loss: 0.0170 - accuracy: 1.0000\n",
            "Epoch 163/200\n",
            "25/25 [==============================] - 0s 2ms/step - loss: 0.0787 - accuracy: 0.9754\n",
            "Epoch 164/200\n",
            "25/25 [==============================] - 0s 2ms/step - loss: 0.0950 - accuracy: 0.9672\n",
            "Epoch 165/200\n",
            "25/25 [==============================] - 0s 2ms/step - loss: 0.0881 - accuracy: 0.9672\n",
            "Epoch 166/200\n",
            "25/25 [==============================] - 0s 2ms/step - loss: 0.0627 - accuracy: 0.9754\n",
            "Epoch 167/200\n",
            "25/25 [==============================] - 0s 2ms/step - loss: 0.1457 - accuracy: 0.9508\n",
            "Epoch 168/200\n",
            "25/25 [==============================] - 0s 2ms/step - loss: 0.0712 - accuracy: 0.9918\n",
            "Epoch 169/200\n",
            "25/25 [==============================] - 0s 2ms/step - loss: 0.0585 - accuracy: 0.9754\n",
            "Epoch 170/200\n",
            "25/25 [==============================] - 0s 2ms/step - loss: 0.1052 - accuracy: 0.9672\n",
            "Epoch 171/200\n",
            "25/25 [==============================] - 0s 2ms/step - loss: 0.0561 - accuracy: 0.9836\n",
            "Epoch 172/200\n",
            "25/25 [==============================] - 0s 2ms/step - loss: 0.0836 - accuracy: 0.9672\n",
            "Epoch 173/200\n",
            "25/25 [==============================] - 0s 2ms/step - loss: 0.0800 - accuracy: 0.9836\n",
            "Epoch 174/200\n",
            "25/25 [==============================] - 0s 2ms/step - loss: 0.0787 - accuracy: 0.9836\n",
            "Epoch 175/200\n",
            "25/25 [==============================] - 0s 2ms/step - loss: 0.1034 - accuracy: 0.9672\n",
            "Epoch 176/200\n",
            "25/25 [==============================] - 0s 2ms/step - loss: 0.1030 - accuracy: 0.9590\n",
            "Epoch 177/200\n",
            "25/25 [==============================] - 0s 2ms/step - loss: 0.1202 - accuracy: 0.9590\n",
            "Epoch 178/200\n",
            "25/25 [==============================] - 0s 2ms/step - loss: 0.0709 - accuracy: 0.9754\n",
            "Epoch 179/200\n",
            "25/25 [==============================] - 0s 2ms/step - loss: 0.0459 - accuracy: 0.9918\n",
            "Epoch 180/200\n",
            "25/25 [==============================] - 0s 2ms/step - loss: 0.0540 - accuracy: 0.9836\n",
            "Epoch 181/200\n",
            "25/25 [==============================] - 0s 2ms/step - loss: 0.0716 - accuracy: 0.9754\n",
            "Epoch 182/200\n",
            "25/25 [==============================] - 0s 2ms/step - loss: 0.1747 - accuracy: 0.9590\n",
            "Epoch 183/200\n",
            "25/25 [==============================] - 0s 2ms/step - loss: 0.0445 - accuracy: 0.9836\n",
            "Epoch 184/200\n",
            "25/25 [==============================] - 0s 2ms/step - loss: 0.1012 - accuracy: 0.9590\n",
            "Epoch 185/200\n",
            "25/25 [==============================] - 0s 2ms/step - loss: 0.0252 - accuracy: 1.0000\n",
            "Epoch 186/200\n",
            "25/25 [==============================] - 0s 2ms/step - loss: 0.0885 - accuracy: 0.9672\n",
            "Epoch 187/200\n",
            "25/25 [==============================] - 0s 2ms/step - loss: 0.0719 - accuracy: 0.9754\n",
            "Epoch 188/200\n",
            "25/25 [==============================] - 0s 2ms/step - loss: 0.0688 - accuracy: 0.9836\n",
            "Epoch 189/200\n",
            "25/25 [==============================] - 0s 2ms/step - loss: 0.0552 - accuracy: 0.9918\n",
            "Epoch 190/200\n",
            "25/25 [==============================] - 0s 2ms/step - loss: 0.0632 - accuracy: 0.9836\n",
            "Epoch 191/200\n",
            "25/25 [==============================] - 0s 2ms/step - loss: 0.0967 - accuracy: 0.9754\n",
            "Epoch 192/200\n",
            "25/25 [==============================] - 0s 2ms/step - loss: 0.0472 - accuracy: 0.9754\n",
            "Epoch 193/200\n",
            "25/25 [==============================] - 0s 2ms/step - loss: 0.1353 - accuracy: 0.9426\n",
            "Epoch 194/200\n",
            "25/25 [==============================] - 0s 2ms/step - loss: 0.1112 - accuracy: 0.9590\n",
            "Epoch 195/200\n",
            "25/25 [==============================] - 0s 2ms/step - loss: 0.0400 - accuracy: 0.9918\n",
            "Epoch 196/200\n",
            "25/25 [==============================] - 0s 2ms/step - loss: 0.0350 - accuracy: 0.9918\n",
            "Epoch 197/200\n",
            "25/25 [==============================] - 0s 2ms/step - loss: 0.0960 - accuracy: 0.9426\n",
            "Epoch 198/200\n",
            "25/25 [==============================] - 0s 2ms/step - loss: 0.0883 - accuracy: 0.9672\n",
            "Epoch 199/200\n",
            "25/25 [==============================] - 0s 2ms/step - loss: 0.0586 - accuracy: 0.9836\n",
            "Epoch 200/200\n",
            "25/25 [==============================] - 0s 2ms/step - loss: 0.0483 - accuracy: 0.9836\n",
            "model created\n"
          ]
        }
      ]
    }
  ]
}