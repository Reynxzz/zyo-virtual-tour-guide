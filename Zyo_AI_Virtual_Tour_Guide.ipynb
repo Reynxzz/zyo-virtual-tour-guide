{
  "nbformat": 4,
  "nbformat_minor": 0,
  "metadata": {
    "colab": {
      "name": "Zyo: AI Virtual Tour Guide.ipynb",
      "provenance": [],
      "collapsed_sections": [],
      "authorship_tag": "ABX9TyNkWBtL74Nx2DZhMAdoNXEi",
      "include_colab_link": true
    },
    "kernelspec": {
      "name": "python3",
      "display_name": "Python 3"
    },
    "language_info": {
      "name": "python"
    }
  },
  "cells": [
    {
      "cell_type": "markdown",
      "metadata": {
        "id": "view-in-github",
        "colab_type": "text"
      },
      "source": [
        "<a href=\"https://colab.research.google.com/github/Reynxzz/zyo-virtual-tour-guide/blob/main/Zyo_AI_Virtual_Tour_Guide.ipynb\" target=\"_parent\"><img src=\"https://colab.research.google.com/assets/colab-badge.svg\" alt=\"Open In Colab\"/></a>"
      ]
    },
    {
      "cell_type": "markdown",
      "source": [
        "# **Zyo: Your Personalized Tour Guide to Explore Indonesia**"
      ],
      "metadata": {
        "id": "W7v70XP02iCd"
      }
    },
    {
      "cell_type": "markdown",
      "source": [
        "Proyek ini dibuat untuk memenuhi submisi pada perlombaan [AI Innovation Challenge Compfest 2022](https://www.compfest.id/)."
      ],
      "metadata": {
        "id": "vA3pd0cO3AH9"
      }
    },
    {
      "cell_type": "markdown",
      "source": [
        " **Zyo** adalah sebuah aplikasi berbasis AI untuk memecahkan masalah pariwisata di Indonesia. Menurunnya angka COVID-19 di Indonesia membuat pariwisata Indonesia mulai kembali pulih. Berdasarkan laporan Badan Pusat Statistik (BPS), jumlah kunjungan **wisatawan mancanegara** (wisman) ke Indonesia mencapai **111,06 ribu** kunjungan per April 2022. Jumlah kunjungan wisman ini **naik tajam hampir 500% (yoy)** dibandingkan dengan jumlah kunjungan pada April 2021. Sementara, jika dibandingkan dengan bulan sebelumnya, jumlah kunjungan wisman pada April 2022 **meningkat sebesar 172,27% (m-t-m)**. Angka ini diprediksi akan terus meningkat pada bulan-bulan berikutnya (Dikutip dari [katadata.co.id](https://https://databoks.katadata.co.id/datapublish/2022/06/02/kunjungan-wisman-ke-ri-naik-500-yoy-terbanyak-dari-asia-tenggara#:~:text=Berdasarkan%20laporan%20Badan%20Pusat%20Statistik,jumlah%20kunjungan%20pada%20April%202021.))."
      ],
      "metadata": {
        "id": "5I_uLzsg8ZPN"
      }
    },
    {
      "cell_type": "markdown",
      "source": [
        "Sektor pariwisata merupakan sektor yang berkontribusi besar dalam mendorong perekonomian Indonesia. Meningkatnya angka wisatawan mancanegara yang datang ke Indonesia membuka peluang yang sangat lebar untuk lebih mempromosikan pariwisata dan keragaman budaya di Indonesia. Namun, sektor pariwisata di Indonesia masih memiliki berbagai masalah untuk diselesaikan."
      ],
      "metadata": {
        "id": "-i8I0GUr9Hpc"
      }
    },
    {
      "cell_type": "markdown",
      "source": [
        "Menurut [Nugroho (2020)](https://https://ejournal.bsi.ac.id/ejurnal/index.php/jp), beberapa masalah yang ada pada sektor pariwisata Indonesia saat ini adalah:\n",
        "\n",
        "1.   Kualitas Sumberdaya Manusia (SDM) yang Masih Kurang Mendukung\n",
        "2.   Komunikasi dan Publikasi Yang Masih Kurang\n",
        "3.   Belum Memadainya Infrastruktur Pariwisata di Beberapa Daerah"
      ],
      "metadata": {
        "id": "uGxrRfDLYJ3-"
      }
    },
    {
      "cell_type": "markdown",
      "source": [
        "**Zyo** hadir untuk mengatasi permasalahan tersebut. Zyo merupakan aplikasi berbasis AI yang berperan sebagai pemandu wisata untuk menemani perjalanan wisatawan mancanegara secara virtual. Dengan Zyo, wisatawan mancanegara dapat mengenal lebih dekat dengan tempat-tempat wisata dan keragaman budaya yang ada di Indonesia. Zyo akan merekomendasikan tempat menarik, memandu hingga ke tujuan wisata, dan memberikan pengetahuan baru mengenai tempat tersebut beserta budaya yang ada di sekitar tempat tersebut."
      ],
      "metadata": {
        "id": "KKTxo_usZDS2"
      }
    },
    {
      "cell_type": "markdown",
      "source": [
        "# Scope Project"
      ],
      "metadata": {
        "id": "TbXri6zcOuXa"
      }
    },
    {
      "cell_type": "markdown",
      "source": [
        "\n",
        "\n",
        "*   **Target Pengguna:** Wisatawan mancanegara (18-30 tahun)\n",
        "*   **Cakupan Aplikasi:** karena keterbatasan waktu dan sumber daya, aplikasi ini hanya akan memberikan panduan mengenai beberapa tempat wisata menarik di pulau Bali.\n",
        "*   **Bahasa:** Inggris\n",
        "\n"
      ],
      "metadata": {
        "id": "LzHa1k7IOyvi"
      }
    },
    {
      "cell_type": "markdown",
      "source": [
        "# Data Collecting"
      ],
      "metadata": {
        "id": "XOVizx1yXGn-"
      }
    },
    {
      "cell_type": "markdown",
      "source": [
        "Karena target pengguna aplikasi ini adalah wisatawan mancanegara, bahasa yang dominan digunakan adalaha **bahasa inggris**. Untuk melihat perilaku wisatawan mancanegara saat berwisata ke Indonesia, mulai dari persiapan hingga saat sampai di tujuan (termasuk perkataan/ucapan yang sering diucapkan), kami melakukan eksplorasi dengan melihat beberapa *travel vlog* yang dibuat oleh wisatawan yang berasal dari berbagai negara untuk kemudian mengambil **data berupa transkrip/subtitle** (.txt) yang dapat dimanfaatkan untuk melatih kecerdasan Zyo."
      ],
      "metadata": {
        "id": "6UlSVvFAeWXV"
      }
    },
    {
      "cell_type": "code",
      "source": [
        "from google.colab import files\n",
        "uploaded = files.upload()"
      ],
      "metadata": {
        "colab": {
          "resources": {
            "http://localhost:8080/nbextensions/google.colab/files.js": {
              "data": "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",
              "ok": true,
              "headers": [
                [
                  "content-type",
                  "application/javascript"
                ]
              ],
              "status": 200,
              "status_text": ""
            }
          },
          "base_uri": "https://localhost:8080/",
          "height": 73
        },
        "id": "_Fg2nkruUAj8",
        "outputId": "6b2eea02-28ce-4f89-a210-d236cf668f5a"
      },
      "execution_count": 4,
      "outputs": [
        {
          "output_type": "display_data",
          "data": {
            "text/plain": [
              "<IPython.core.display.HTML object>"
            ],
            "text/html": [
              "\n",
              "     <input type=\"file\" id=\"files-5510b832-1e8a-43ac-a118-922a2c238620\" name=\"files[]\" multiple disabled\n",
              "        style=\"border:none\" />\n",
              "     <output id=\"result-5510b832-1e8a-43ac-a118-922a2c238620\">\n",
              "      Upload widget is only available when the cell has been executed in the\n",
              "      current browser session. Please rerun this cell to enable.\n",
              "      </output>\n",
              "      <script src=\"/nbextensions/google.colab/files.js\"></script> "
            ]
          },
          "metadata": {}
        },
        {
          "output_type": "stream",
          "name": "stdout",
          "text": [
            "Saving transkrip balitravelguide youtube.txt to transkrip balitravelguide youtube (2).txt\n"
          ]
        }
      ]
    },
    {
      "cell_type": "code",
      "source": [
        "print(uploaded)"
      ],
      "metadata": {
        "colab": {
          "base_uri": "https://localhost:8080/"
        },
        "id": "fj1-2e68VPDj",
        "outputId": "f2e102d7-462f-47f2-fced-faa4113e2caa"
      },
      "execution_count": 5,
      "outputs": [
        {
          "output_type": "stream",
          "name": "stdout",
          "text": [
            "{'transkrip balitravelguide youtube.txt': b\"bali is finally open for tourism and in\\r\\nthis video we're sharing everything you\\r\\nneed to know before booking a trip to\\r\\nthis paradise island\\r\\nwe'll be covering everything from entry\\r\\nrequirements where to stay daily budget\\r\\nhow to get around what to do and what\\r\\nnot to do if you find any of the\\r\\ninformation in this video helpful we'd\\r\\nreally appreciate it if you could give\\r\\nit a like and subscribe for more videos\\r\\nlike this right let's start this video\\r\\noff with how to get to bali\\r\\n[Music]\\r\\nyou'll want to book a flight to ingerai\\r\\ninternational airport big airlines are\\r\\nadding direct routes to bali now so\\r\\nyou'll no longer need to fly through\\r\\njakarta first like we did use google\\r\\nflights to see what flights are\\r\\navailable as of may 30th there are 72\\r\\ncountries eligible for visa on arrival\\r\\nwith more countries being added every\\r\\nday these on arrival means you will be\\r\\ngranted a 30-day tourist visa which is\\r\\nextendable up to 60 days the price is\\r\\ncurrently 500k idr or around 35\\r\\nif you would like to spend more than 60\\r\\ndays in bali then you can apply offshore\\r\\nfor the b211 business or tourist visa\\r\\nthere are various agencies you can\\r\\ncontact that provide this service and\\r\\nwill usually get your visa approved\\r\\nwithin a week the cost is always\\r\\nchanging but as of right now it is\\r\\naround 3.5 million idr the nice thing is\\r\\nthat this visa is renewable on the\\r\\nisland so you will not need to do a visa\\r\\nrun and leave the country okay let's\\r\\nquickly just touch on the requirements\\r\\nwhich are changing all the time so we\\r\\nadvise you check in with your visa agent\\r\\nto get the updated ones but as of right\\r\\nnow these are the requirements step one\\r\\nyou have to fill out the ehack\\r\\ninternational form which is an app\\r\\nbefore departure step two after arrival\\r\\nyou will have to have your vaccination\\r\\ncertificates ready step three your ehack\\r\\nand hotel booking will be checked at the\\r\\nairport step four after passing multiple\\r\\ncheckpoints which include checking for\\r\\nhealth insurance return of an onward\\r\\nflight ticket within 30 or 60 days you\\r\\nwill have your visa on arrival you can\\r\\npay for your visa on arrival with a\\r\\ncredit card or the equivalent in a few\\r\\nforeign currencies step five collect\\r\\nyour bags pass the checkpoints and go to\\r\\nyour transportation as of right now you\\r\\nwill need a double vaccination to get\\r\\ninto bali without a quarantine and you\\r\\nwill need the ehack app downloaded\\r\\nbefore you land if you are only single\\r\\ndose vaccinated then you will have to\\r\\nserve a five day quarantine at your own\\r\\nexpense\\r\\nthe currency here is indonesian rupiah\\r\\nand is usually around 15 000 idr to one\\r\\nusd once you get through customs there\\r\\nare numerous money exchange services in\\r\\nthe airport itself although we've never\\r\\nused any of these we don't recommend it\\r\\nbecause the fees are always super high\\r\\nat airports if you do want to use a\\r\\nmoney exchange service you can find them\\r\\nthey are all over the island so just\\r\\nhead outside towards seminyak kuta\\r\\nchengu and you will find one\\r\\nalternatively and what we do is we draw\\r\\nfrom an atm with our credit cards and\\r\\nevery time we draw it's usually a fee of\\r\\neight dollars roughly there are atms all\\r\\nover the island and there is a limit on\\r\\nhow much you can draw from an atm at one\\r\\ntime so you might have to use the atm\\r\\nmultiple times in a day but it's the\\r\\nmost convenient actually most places\\r\\naccept credit cards so\\r\\nthat's a good thing you don't always\\r\\nneed cash we got away with spending most\\r\\nof our money through credit cards just\\r\\nwith direct points of sales and then we\\r\\njust draw about 3 million idr for a week\\r\\nor two and that's just to pay for meals\\r\\nthat there were rooms and just picture\\r\\nfor your bike and small stuff\\r\\nokay best time to visit bali the best\\r\\ntime to visit bali is between april and\\r\\noctober it's not as hot and it does not\\r\\nrain as much the weather is usually\\r\\nbetween 28 and 32 degrees pretty much\\r\\nevery single day during this time what\\r\\nyou need to know about the weather in\\r\\nbali is that there's basically only two\\r\\nseasons there's the wet season and the\\r\\ndry season you don't want to be in bali\\r\\nduring the wet season because most of\\r\\nyour beach days will be ruined by the\\r\\nextreme thunderstorms and downpours that\\r\\nhappen every day and they just come out\\r\\nof absolutely nowhere so be aware if you\\r\\nare going to go between november and\\r\\nmarch it is rainy season the benefit\\r\\nthough of that is that prices for hotels\\r\\nand things are a little bit cheaper\\r\\nduring this time the busiest time in\\r\\nbali is normally between june and july\\r\\nso european holidays it gets super busy\\r\\nprices will be extremely high the island\\r\\nwill be crazy busy and the traffic just\\r\\nwill be dreadful off the rocker all\\r\\nright following on from the weather\\r\\nlet's talk about what you need to pack\\r\\nfor bali this is my favorite part\\r\\nbecause not a lot of people make videos\\r\\nabout this and there's quite a few\\r\\nthings you actually need to know about\\r\\ntraveling to bali and southeast asia in\\r\\ngeneral so basically you're packing for\\r\\nhot and humid weather pretty much the\\r\\nwhole of your trip will look like that\\r\\nunless you head up into the mountains\\r\\nlike munduk northern bali where the\\r\\ntemperatures drop quite a bit actually\\r\\nand in the evenings it might be a little\\r\\nchilly so you need like a thin sweater\\r\\nit's nothing dramatic or anything\\r\\ndefinitely because of the humidity and\\r\\nthe amount you're going to be sweating\\r\\nevery day you want to bring things that\\r\\nare comfortable and breezy and avoid\\r\\nwhites i'm telling you now avoid white\\r\\nclothing so you're looking at shorts\\r\\nt-shirts sandals and one pair of good\\r\\nwalking shoes if you're going to be\\r\\nheading up into the mountains and\\r\\nclimbing volcanoes it also gets really\\r\\nfreaking cold up there so do pack some\\r\\nwarm clothes if you do plan to do that\\r\\nsome other really important items that\\r\\nyou need to pack include a raincoat a\\r\\nhat sandals aloe vera for when you're\\r\\nsunburned reef safe sunscreen because\\r\\nit's actually very expensive in bali and\\r\\nhard to find diarrhea medication if you\\r\\nplan on eating the local foods because\\r\\nbarley barley is real another one for\\r\\nthe ladies bring your sanitary products\\r\\nand thrush medication if you're prone to\\r\\nthat and if you're gonna have a little\\r\\nbit of a fancy night out on the town do\\r\\npack a\\r\\nnice looking outfit and some good shoes\\r\\nbecause certain clubs and bars in bali\\r\\nare quite bougie and they do have dress\\r\\ncodes but bali is not a very desolated\\r\\nisland and you can find most of these\\r\\nthings they've got h m's zara's\\r\\nbeautiful boutique shops all sorts of\\r\\nthings they've got pharmacies markets\\r\\nthrift shops it's a very developed\\r\\nisland and you'll be surprised how much\\r\\nyou can find there so don't worry if you\\r\\ndo forget anything don't stress you'll\\r\\nbe fine moving on to the next section\\r\\nthese are some of the apps you need to\\r\\ndownload before you come to the island\\r\\nnumber one is most definitely whatsapp\\r\\nit is used all over the place for\\r\\norganizing your drivers even ordering\\r\\nfood from restaurants organizing a place\\r\\nto stay such as a villa\\r\\ncommunication using whatsapp is super\\r\\nimportant secondly facebook is also\\r\\nimportant if you want to look for\\r\\napartments and places to stay that's\\r\\nalso used very frequently the next two\\r\\nvery important apps are grab and go jack\\r\\ngrab is basically the uber you're going\\r\\nto use it to call your motorbikes your\\r\\nfood your cars and gojek is the exact\\r\\nsame except it's the indonesian version\\r\\ndoes basically the same but it is a\\r\\nlittle bit cheaper on gojek you can even\\r\\norder medication on gojab it it go\\r\\ngood job not bad it's not a bad one\\r\\nthat's how freaking awesome the app is\\r\\ndefinitely download it so if you're down\\r\\nand out with barley belly one morning\\r\\nyeah just hop on the app and order your\\r\\nmedication straight to your villa then\\r\\nthe last app we recommend is google maps\\r\\nit's used to navigate on the island the\\r\\nother apps don't really work apple maps\\r\\ndoesn't work so make sure you get google\\r\\nmaps and then you can go ahead and\\r\\ndownload the offline maps when you're\\r\\nheading out into the remote areas where\\r\\nthere's no signal you'll have maps in\\r\\nyour back pocket okay time to talk about\\r\\nmoney\\r\\nthis is\\r\\nreally dependent on you and your barley\\r\\nitinerary but i'm happy to tell you that\\r\\nyou don't have to spend your entire life\\r\\nsavings to pay for a trip to this\\r\\nbeautiful island it is quite an\\r\\naffordable island granted there are\\r\\ncertain things that are expensive but\\r\\nlet's get into the different budgets the\\r\\nthree different budgets are super\\r\\nbudgets or backpacker vibes you're\\r\\nlooking at spending around 20 to 50 usd\\r\\na day pretty darn good i'd say second\\r\\none is our budget and that is\\r\\ncomfortable brackets it's not too budget\\r\\nbut it's not too bougie either and\\r\\nyou're looking at paying between 50 and\\r\\n80 usd a day for that one and then the\\r\\nbudget type that we aspire to have\\r\\nthat's luxury uh anything over a hundred\\r\\ndollars a day honestly is luxury you can\\r\\npush it way higher though you could\\r\\neasily spend a thousand dollars a day no\\r\\njokes on the island depending on your\\r\\naccommodation and what restaurants you\\r\\neat at five-star restaurants\\r\\nmassages alcohol all of that obviously\\r\\nthe longer you stay though the better\\r\\ndeals you'll get on monthly rates on\\r\\nairbnb\\r\\ngym memberships co-working spaces all\\r\\nsorts of stuff bike hire too if you are\\r\\nan aspiring digital tournament and\\r\\nwondering how much a month of expenses\\r\\nlooks like then definitely check out\\r\\nthis video linked above it's our cost of\\r\\nliving in bali we lived there for a\\r\\ncouple of months and we share all of our\\r\\nexpenses next up is accommodation the\\r\\nisland offers a wide variety of places\\r\\nto stay from world-class five-star\\r\\nhotels to backpacker homestays and\\r\\nhostels in between there are affordable\\r\\nand comfortable airbnbs everywhere we\\r\\nbooked 90 of our short-term stays using\\r\\nairbnb and the rest of our bookings were\\r\\nmade using a goda we can also recommend\\r\\nusing booking.com you'll be able to find\\r\\nanything from small intimate couple\\r\\ngetaways to massive 8 bedroom villas to\\r\\nshare with friends the variety of places\\r\\nto stay on the island is truly\\r\\nremarkable so spend some time seeking\\r\\nout the perfect place to suit your needs\\r\\nwe generally go for guest houses though\\r\\nwhere you have a private room and a\\r\\nshared kitchen and certain amenities and\\r\\na pool that's pretty important\\r\\nnext up is transportation\\r\\nwhen you arrive at the airport you'll\\r\\nmost likely be hounded by taxi drivers\\r\\nwe usually ignore these guys because\\r\\nthey often are very pushy and will\\r\\ncharge an arm and a leg if you do take a\\r\\ntaxi then make sure it's at least a\\r\\nbluebird taxi we've used them a couple\\r\\nof times and have never had a bad\\r\\nexperience they use a meter and never\\r\\ntry to scam us alternatively we can\\r\\nrecommend you contact the place you are\\r\\nstaying at and either ask them to\\r\\norganize a shuttle service for you or if\\r\\nthey know a driver that can pick you up\\r\\na ride from the airport to say seminyak\\r\\nor changu would usually cost between 200\\r\\nand 400k idr once you're all settled in\\r\\nyou can head out looking for a bike to\\r\\nhire so that you have your own wheels on\\r\\nthe island bike higher prices fluctuate\\r\\nall the time with supply and demand like\\r\\nanything else but the usual going rate\\r\\nis around 1 million idr per month if you\\r\\nwant to rent daily then you can pay\\r\\nanywhere from 100k per day to 250k\\r\\ndepending be sure to negotiate you will\\r\\nneed to give your passport information\\r\\nso take your passport with you they'll\\r\\nhave to make a copy legally speaking you\\r\\ndo need an international license to be\\r\\nable to ride a motorbike on the island\\r\\nbut i beg you if you're not experienced\\r\\nwith a motorbike don't rent one there\\r\\nare far too many accidents at the moment\\r\\nthe traffic is crazy and that's because\\r\\nthere's a lot of people riding\\r\\nmotorbikes on the island that have no\\r\\nidea what they're doing don't put\\r\\nsomebody else's life in your hands\\r\\nrather just use the grab and go check\\r\\nit's so cheap and so easy to use but if\\r\\nyou are experienced and know how to ride\\r\\na motorbike then definitely go ahead and\\r\\nrent one but remember to wear your\\r\\nhelmet okay do note if you do get into\\r\\nan accident on the island your travel\\r\\ninsurance will require you to have a\\r\\nlicense before they help you out stay\\r\\ntuned and we'll share our favorite\\r\\ntravel insurance with you guys next up\\r\\nis going to be traffic traffic on the\\r\\nisland is quite bad it can take 40\\r\\nminutes to travel from the airport to\\r\\nubud or changu the roads are very thin\\r\\nand there are a ton of bikes and cars\\r\\ntrying to get around we recommend using\\r\\ngrab or gojek rather to help curb the\\r\\ntraffic congestion next up is language\\r\\nand culture the language on the island\\r\\nis bahasa bali or bahasa indonesia but\\r\\nmost people that you'll come into\\r\\ncontact with speak english pretty\\r\\nfluently a couple don't they'll be\\r\\nbroken english but you'll definitely\\r\\nsurvive most hotels and restaurants have\\r\\npeople fluent in english and a couple\\r\\nother languages actually so you'll be\\r\\nmore than fine we do suggest learning a\\r\\ncouple of the basic phrases the uh\\r\\nbecause well it's just common decency\\r\\nwhen you go to a foreign country you\\r\\nwant to communicate with them and\\r\\nthey'll love you they'll appreciate that\\r\\nyou took the time to learn their\\r\\nlanguage if you do want to learn a\\r\\nlittle bit i suggest going on to babble\\r\\nand doing the free lessons in indonesian\\r\\nit will help me a hell of a lot to learn\\r\\na little bit about the numbers and just\\r\\nbasic greetings so check that out\\r\\nfor culture the balinese are a very\\r\\nculturally rich group of people they\\r\\nhave many celebrations sometimes even\\r\\nevery 100 days remember to always be\\r\\nrespectful of their temples be mindful\\r\\nof the offerings that you will see\\r\\nplaced on the road and at entrances to\\r\\nhotels and restaurants please don't kick\\r\\nthese\\r\\nladies you will need to be covered up\\r\\nwhen at a temple and men will also need\\r\\nto cover their legs this is also a\\r\\nrequirement at the government buildings\\r\\nsuch as when you go to renew your visa\\r\\nand one more custom to be aware of is\\r\\nit's very respectful to\\r\\ngive and take with your right hand and\\r\\nnot your left indonesian\\r\\nsubscribers can you let us know in the\\r\\ncomments what the reasoning is for that\\r\\ni definitely always do it anyway but i'm\\r\\nactually not sure what the reason is\\r\\nbehind that next up is where to go we've\\r\\nluckily got two videos to guide you\\r\\nfirst video is the top 10 places to\\r\\nvisit in bali and second is our ultimate\\r\\nroad trip guide so check out those\\r\\nvideos to find out where to go next up\\r\\nis what to eat when you're there don't\\r\\nmiss out on trying the amazing food the\\r\\nisland has to offer from the famous nasi\\r\\ngoreng meagring pisangareng goreng means\\r\\nfried by the way to the incredible and\\r\\nour favorite chicken curries or curry i\\r\\nam and befriend um oh my gosh in indomie\\r\\nand if you're craving a taste of home\\r\\nthere are western options all over the\\r\\nisland so don't even stress about that\\r\\nnext up is water and ice do not drink\\r\\nthe tap water\\r\\nso on the island you will have to drink\\r\\nout of bottled waters at all times you\\r\\ncan buy a big 20 liter one for about 20k\\r\\nreally really cheap or you can just get\\r\\nthem at any alpha mart the water is okay\\r\\nto brush your teeth though but\\r\\ndefinitely not good for consumption it's\\r\\nnot\\r\\noh my god do not even use the water to\\r\\nbrush your teeth use bottled water no\\r\\nways the locals will tell you so if\\r\\nyou're on the island for a short period\\r\\nof time be very careful of this because\\r\\nyou don't want to ruin your time with\\r\\nbarley barely seriously all right\\r\\nalcohol on the island it's kind of\\r\\nexpensive if you're going to go and\\r\\ndrink out you can look to pay anywhere\\r\\nbetween\\r\\n90k for corona to like 120k just for one\\r\\ncorona at a club but if you do want to\\r\\njust get some beers and go to your villa\\r\\nyou can head to an alpha mart and they\\r\\nare usually around 20k for beard and\\r\\nalpha mart the island of bali has a\\r\\nlocal liquor called iraq i think it is\\r\\nand that stuff is potent a lot of the\\r\\ncocktails at the cheap cocktail bars are\\r\\nmixed with that stuff and it will get\\r\\nyou\\r\\nlit\\r\\nin fact it'll make you sick so just be\\r\\ncareful don't drink too many cocktails\\r\\njust in case probably stick to bottled\\r\\nbeers and more upmarket cocktail bars\\r\\nonce again if you're on the island for a\\r\\nshort period of time you do not want to\\r\\nspend days and days in bed okay now\\r\\nlet's talk about vaccinations this is a\\r\\nbit of a tricky one because before we\\r\\ntravel to southeast asia our doctor\\r\\nrecommended that we get a couple of\\r\\nshots from hpv shots rabies shots and\\r\\nyellow fever but they actually it's not\\r\\nrequired for you to if you're visiting\\r\\nthe island especially if you're gonna\\r\\nstay away from the remote areas on the\\r\\nisland you'll be fine without them one\\r\\nthing i would take note of is apparently\\r\\ndengue fever is quite a big thing on the\\r\\nisland so protect yourself get your\\r\\nimmune system strong and just avoid\\r\\nmosquitoes use lots of bug spray there's\\r\\nno malaria on the island so you don't\\r\\nneed to take any medication for that\\r\\neither at the end of the day bug spray\\r\\nwill be your best vaccination\\r\\nnext up is travel insurance we do not\\r\\ntravel without our travel insurance\\r\\nsafety wing they've saved us two times\\r\\nand we'll keep repeating this they saved\\r\\nus in 2019 as soon as the pandemic\\r\\nstarted and we had to get a repatriation\\r\\nflight back home they covered that\\r\\nentire flight and the second time when\\r\\nwe were putting quarantine in indonesia\\r\\nbecause red test positive for corona\\r\\nand they covered that as well accidents\\r\\nare prone on the island you might\\r\\nhave a motorbike accident you might slip\\r\\nand fall at a waterfall just be covered\\r\\nin case actually i think it's also a\\r\\nrequirement so you have to have travel\\r\\ninsurance to enter indonesia to actually\\r\\ncheck for it now at the airport so make\\r\\nsure you get it so if you're looking for\\r\\ntravel insurance the link for our travel\\r\\ninsurance will be down in the\\r\\ndescription below next up is the length\\r\\nof your stay we do recommend around two\\r\\nweeks to have a full\\r\\nexperience on the island and to go home\\r\\nwith no regrets but if you do only have\\r\\na week then\\r\\nit should suffice just be careful of\\r\\nbarley belly heat stroke and things like\\r\\nthat you don't want to ruin your one\\r\\nweek holiday next up is the electricity\\r\\nthe plug points that they use in bali\\r\\nare exactly the same as the ones used in\\r\\nvietnam and in south africa i'll put a\\r\\npicture on the screen now so make sure\\r\\nyou have the right adapter when you come\\r\\nbest thing is to just pick up an adapter\\r\\nbefore you leave home if not you will be\\r\\nable to find them all over the island\\r\\nonce again next up is sim card and\\r\\ninternet you can get away with not\\r\\nhaving a sim card if you're there for a\\r\\nshort period of time there's wi-fi\\r\\neverywhere in the hotels the cafes\\r\\nrestaurants restaurants all over and the\\r\\nspeeds are pretty good if you do decide\\r\\nto do a sim card definitely check out\\r\\ntelcom cell it is a little complicated\\r\\nat the moment because you'll have to\\r\\nregister your imei number at a telecom\\r\\ncell store but sim cards are so cheap\\r\\nand data is cheap as well and there is\\r\\nsignal nearly everywhere on the island\\r\\nyou can expect to pay around 135k\\r\\nidr for 35 gigs of mobile data you will\\r\\nneed a sim card to sign up for a grab\\r\\nand gojek account although you can use a\\r\\nlocal friends number to do that as well\\r\\nnext up let's talk about tipping it's an\\r\\noptional thing to do on the island when\\r\\nyou get the check the service fee is\\r\\nincluded already but we do suggest that\\r\\nyou just give an extra i don't know 5\\r\\n10k it makes a lot of difference and\\r\\nthey'll really appreciate it pharmacy a\\r\\nplace i seem to have been\\r\\nin nearly every day of my life\\r\\nthere's pharmacies everywhere around the\\r\\nisland it's called apotec in indonesian\\r\\nso as soon as you see that word you know\\r\\nthere's a pharmacy there there's kimiya\\r\\npharmacy and guardians all over the\\r\\nisland you can get all sorts of\\r\\nmedication there and toiletries and\\r\\ncosmetic products one thing we found was\\r\\nheadache tablets are ridiculously cheap\\r\\nthere for a pack of four really good\\r\\nheadache medications it's like 1k was it\\r\\nlike ibuprofen paracetamol mix is super\\r\\ncheap so don't worry about bringing\\r\\nthose i just want to add quickly that\\r\\nsome beauty products have whitening in\\r\\nit or cooling agents like the main stuff\\r\\nso some of the stuff you find in there\\r\\nis very foreign and interesting we don't\\r\\nhave whitening products here in south\\r\\nafrica so i was like what but it's a\\r\\nhuge thing in indonesia next up is\\r\\nlaundry so getting your clothes washed\\r\\non the island is pretty much the easiest\\r\\nthing you can drive 100 meters and find\\r\\na laundromat right on the corner prices\\r\\nare around 15k per kilogram so one\\r\\ndollar per kg super super cheap super\\r\\nefficient you'll get your clothes nice\\r\\nand fresh and folded up the next day if\\r\\nyou are staying in a hotel definitely\\r\\navoid using the hotel laundry service\\r\\nyou will be charged like 20 times more\\r\\nall right now let's talk about some\\r\\nnatural disasters earthquakes can happen\\r\\non the island of bali because it is in\\r\\nthe ring of fire although\\r\\nvery rarely and nothing too extravagant\\r\\nwe experienced two of them and it was a\\r\\nbit of a wobble the pool went a bit\\r\\nweird but it was okay another natural\\r\\ndisaster to be aware of there are\\r\\nvolcanoes on the island and they are\\r\\nactive\\r\\nso\\r\\ndo just take notes of your surroundings\\r\\nbe a bit prepared look up what there is\\r\\nto do in the case of a volcano erupting\\r\\nor a tsunami or an earthquake just prep\\r\\nyourself a little bit because it is\\r\\na possibility and it's something i was\\r\\nactually genuinely worried about and you\\r\\nshould be right should be a little while\\r\\ni have evacuation signs all over the\\r\\nisland near the beaches and also near\\r\\nthe volcanoes so yeah just take notes of\\r\\nthe routes that you need to follow if\\r\\nsomething happens all right now let's\\r\\ntalk about what we think you should skip\\r\\non the island of bali personally we\\r\\nhaven't done it but we've heard from a\\r\\nlot of travelers that it was a bit of an\\r\\nuncomfortable experience and that is the\\r\\ndolphin\\r\\nviewing in lovina in the north of the\\r\\nisland there's far too many boats and i\\r\\ndon't know it's just a bit of a it's a i\\r\\ndon't know if it's a very\\r\\neco-friendly activity to do on the\\r\\nisland so if you're worried about that\\r\\nmaybe just skip the experience entirely\\r\\nsecond thing that we're very passionate\\r\\nabout is do not do a day tour to nusa\\r\\npenida island the island is jam-packed\\r\\nwith traffic the roads are terrible and\\r\\nyou will spend most of your day in a car\\r\\nstuck in traffic so if you do plan to\\r\\nvisit the beautiful island of nusa\\r\\npenida do spend a night make time for it\\r\\notherwise you will\\r\\nnot enjoy your experience on the island\\r\\nwe personally did it and it wasn't great\\r\\nyeah we haven't been back yet we didn't\\r\\nhave a good time at all but hopefully\\r\\nnext time we go we will stay over if you\\r\\nare looking for a place to stay you can\\r\\ncheck out in the description tropical\\r\\nglamping comes highly highly recommended\\r\\nand the last thing we think you should\\r\\nskip is lempuyong temple it's very much\\r\\nan instagram versus reality moment\\r\\nyou'll see a lot of photos on the\\r\\ninternet of this beautiful temple with\\r\\nmountain centered in the back and these\\r\\nclear lakes at the bottom with a\\r\\nbeautiful reflection like a mirror\\r\\nthat's because it is a mirror\\r\\nthey do put a mirror in the photo to\\r\\nmake it to give it that effect but it's\\r\\nnothing special\\r\\nif you all about the photos then yeah\\r\\nmaybe go for it it'll make your\\r\\ninstagram look really cool but don't be\\r\\ndisappointed when you get there and see\\r\\nthat it's not what it looks like and if\\r\\nyou spend hours standing in a line just\\r\\nfor that photo so which it there are\\r\\nhuge lines there at the lempuyang temple\\r\\nso if you don't want to stand in lines\\r\\nand be disappointed then just skip that\\r\\nalright let's get to things we do\\r\\nrecommend you do\\r\\na balinese cooking class a bicycle trip\\r\\nthrough the local community the mount\\r\\nbatura sunrise hike river rafting and\\r\\ntubing in ubud waterbomb is so much fun\\r\\nto go hotel for a balinese dinner\\r\\nexperience the ketchup dance at uluwatu\\r\\ntemple\\r\\nand watch all of our balinese videos in\\r\\nour bali playlist for more suggestions\\r\\nokay next up is safety we get asked this\\r\\nquite often is barley safe and the truth\\r\\nis i feel 100\\r\\nsafe on the island of bali we were there\\r\\nin a very desperate time during the\\r\\npandemic and it was still one of the\\r\\nmost safest places on earth so\\r\\ndefinitely not something that you should\\r\\nworry about\\r\\nat all but like everywhere in the world\\r\\nthere is petty prime and some theft so\\r\\njust be cautious don't be too flashy\\r\\nwith your items and if you have a safety\\r\\nbox in your hotel room definitely\\r\\nutilize it one tip i can give you and\\r\\nthe supplies to all over asia is don't\\r\\ntext with your phone facing the road\\r\\nturn your back to the road if you're\\r\\ngoing to need to take someone because\\r\\nsome people do drive by on bikes and\\r\\ngrab your phone out of your hands so\\r\\nthat's one thing that can happen just be\\r\\naware of it and also if you're on a\\r\\nmotorbike don't text on the motorbike\\r\\nbecause they can come past you and grab\\r\\nit there too and then in terms of scams\\r\\nthis can happen in southeast asia we've\\r\\nheard of that but fortunately for us it\\r\\nhas not happened at all nothing has\\r\\nhappened in bali 99 of the people that\\r\\nyou meet on the island will be super\\r\\nhelpful super friendly we haven't really\\r\\nhad anything happen to us\\r\\nno need to worry haven't even heard of\\r\\nit happening to anyone else either and\\r\\nfinally other these are just really\\r\\nrandom things that we think you should\\r\\nknow number one is basically carry\\r\\ntoilet paper wherever you go it's not\\r\\nused that often second thing is there is\\r\\na random hose pipe looking thing with a\\r\\nnozzle on it next to the toilet that's\\r\\nthe bum gun and that you use to clean\\r\\nyourself when you go to the toilet we\\r\\nmiss it so much we love that thing and\\r\\nwe think it's more sanitary than just\\r\\nusing toilet paper be careful though\\r\\nsome have quite a\\r\\nstrong\\r\\nsquirt to them\\r\\nand they actually hurt girls sometimes\\r\\nit hurts so just be careful and third of\\r\\nall if you do use toilet paper do not\\r\\nthrow it into the toilet throw it into\\r\\nthe bin you can clog some pipes and\\r\\ncause a lot of damage they don't have a\\r\\nsewage system like that so just throw\\r\\nall of your tater pepper everything into\\r\\nthe bin next to anyway those things were\\r\\na little uncomfortable to talk about but\\r\\nneeded to be said that's basically\\r\\neverything you need to know about bali\\r\\nor everything we can think of right now\\r\\nif you can think of anything else added\\r\\nin the comments below we hope you\\r\\nenjoyed it we hope you found it\\r\\ninformative if you did please don't\\r\\nforget to leave a thumbs up and\\r\\nsubscribe if you want more content we'll\\r\\nsee you guys in the next one bye\\r\\nalso enjoy your trip have fun it's gonna\\r\\nbe life-changing and let us know how it\\r\\nwas in the comments below\\r\\nyou're going to love it\\r\\n[Music]\\r\\nyou\\r\\n\"}\n"
          ]
        }
      ]
    },
    {
      "cell_type": "markdown",
      "source": [
        "Selain itu, data pertanyaan FAQ mengenai pariwisata Bali (.txt) juga dikumpulkan melalui berbagai website terkait."
      ],
      "metadata": {
        "id": "bUCKw6PBOlqj"
      }
    },
    {
      "cell_type": "markdown",
      "source": [
        ""
      ],
      "metadata": {
        "id": "OfiiFJezQfhL"
      }
    }
  ]
}