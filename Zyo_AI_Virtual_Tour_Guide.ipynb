{
  "nbformat": 4,
  "nbformat_minor": 0,
  "metadata": {
    "colab": {
      "name": "Zyo: AI Virtual Tour Guide.ipynb",
      "provenance": [],
      "collapsed_sections": [],
      "authorship_tag": "ABX9TyPdS43J/vFCVODWm8RlTk91",
      "include_colab_link": true
    },
    "kernelspec": {
      "name": "python3",
      "display_name": "Python 3"
    },
    "language_info": {
      "name": "python"
    }
  },
  "cells": [
    {
      "cell_type": "markdown",
      "metadata": {
        "id": "view-in-github",
        "colab_type": "text"
      },
      "source": [
        "<a href=\"https://colab.research.google.com/github/Reynxzz/zyo-virtual-tour-guide/blob/main/Zyo_AI_Virtual_Tour_Guide.ipynb\" target=\"_parent\"><img src=\"https://colab.research.google.com/assets/colab-badge.svg\" alt=\"Open In Colab\"/></a>"
      ]
    },
    {
      "cell_type": "markdown",
      "source": [
        "# **Zyo: Your Personalized Tour Guide to Explore Indonesia**"
      ],
      "metadata": {
        "id": "W7v70XP02iCd"
      }
    },
    {
      "cell_type": "markdown",
      "source": [
        "Proyek ini dibuat untuk memenuhi submisi pada perlombaan [AI Innovation Challenge Compfest 2022](https://www.compfest.id/)."
      ],
      "metadata": {
        "id": "vA3pd0cO3AH9"
      }
    },
    {
      "cell_type": "markdown",
      "source": [
        " **Zyo** adalah sebuah aplikasi berbasis AI untuk memecahkan masalah pariwisata di Indonesia. Menurunnya angka COVID-19 di Indonesia membuat pariwisata Indonesia mulai kembali pulih. Berdasarkan laporan Badan Pusat Statistik (BPS), jumlah kunjungan **wisatawan mancanegara** (wisman) ke Indonesia mencapai **111,06 ribu** kunjungan per April 2022. Jumlah kunjungan wisman ini **naik tajam hampir 500% (yoy)** dibandingkan dengan jumlah kunjungan pada April 2021. Sementara, jika dibandingkan dengan bulan sebelumnya, jumlah kunjungan wisman pada April 2022 **meningkat sebesar 172,27% (m-t-m)**. Angka ini diprediksi akan terus meningkat pada bulan-bulan berikutnya (Dikutip dari [katadata.co.id](https://https://databoks.katadata.co.id/datapublish/2022/06/02/kunjungan-wisman-ke-ri-naik-500-yoy-terbanyak-dari-asia-tenggara#:~:text=Berdasarkan%20laporan%20Badan%20Pusat%20Statistik,jumlah%20kunjungan%20pada%20April%202021.))."
      ],
      "metadata": {
        "id": "5I_uLzsg8ZPN"
      }
    },
    {
      "cell_type": "markdown",
      "source": [
        "Sektor pariwisata merupakan sektor yang berkontribusi besar dalam mendorong perekonomian Indonesia. Meningkatnya angka wisatawan mancanegara yang datang ke Indonesia membuka peluang yang sangat lebar untuk lebih mempromosikan pariwisata dan keragaman budaya di Indonesia. Namun, sektor pariwisata di Indonesia masih memiliki berbagai masalah untuk diselesaikan."
      ],
      "metadata": {
        "id": "-i8I0GUr9Hpc"
      }
    },
    {
      "cell_type": "markdown",
      "source": [
        "Menurut [Nugroho (2020)](https://https://ejournal.bsi.ac.id/ejurnal/index.php/jp), beberapa masalah yang ada pada sektor pariwisata Indonesia saat ini adalah:\n",
        "\n",
        "1.   Kualitas Sumberdaya Manusia (SDM) yang Masih Kurang Mendukung\n",
        "2.   Komunikasi dan Publikasi Yang Masih Kurang\n",
        "3.   Belum Memadainya Infrastruktur Pariwisata di Beberapa Daerah"
      ],
      "metadata": {
        "id": "uGxrRfDLYJ3-"
      }
    },
    {
      "cell_type": "markdown",
      "source": [
        "**Zyo** hadir untuk mengatasi permasalahan tersebut. Zyo merupakan aplikasi berbasis AI yang berperan sebagai pemandu wisata untuk menemani perjalanan wisatawan mancanegara secara virtual. Dengan Zyo, wisatawan mancanegara dapat mengenal lebih dekat dengan tempat-tempat wisata dan keragaman budaya yang ada di Indonesia. Zyo akan merekomendasikan tempat menarik, memandu hingga ke tujuan wisata, dan memberikan pengetahuan baru mengenai tempat tersebut beserta budaya yang ada di sekitar tempat tersebut."
      ],
      "metadata": {
        "id": "KKTxo_usZDS2"
      }
    },
    {
      "cell_type": "markdown",
      "source": [
        "# Scope Project"
      ],
      "metadata": {
        "id": "TbXri6zcOuXa"
      }
    },
    {
      "cell_type": "markdown",
      "source": [
        "\n",
        "\n",
        "*   **Target Pengguna:** Wisatawan mancanegara (18-30 tahun)\n",
        "*   **Cakupan Aplikasi:** karena keterbatasan waktu dan sumber daya, aplikasi ini hanya akan memberikan panduan mengenai beberapa tempat wisata menarik di pulau Bali.\n",
        "*   **Bahasa:** Inggris\n",
        "\n"
      ],
      "metadata": {
        "id": "LzHa1k7IOyvi"
      }
    },
    {
      "cell_type": "markdown",
      "source": [
        "# Data Collecting"
      ],
      "metadata": {
        "id": "XOVizx1yXGn-"
      }
    },
    {
      "cell_type": "markdown",
      "source": [
        "Karena target pengguna aplikasi ini adalah wisatawan mancanegara, bahasa yang dominan digunakan adalaha **bahasa inggris**. Untuk melihat perilaku wisatawan mancanegara saat berwisata ke Indonesia, mulai dari persiapan hingga saat sampai di tujuan (termasuk perkataan/ucapan yang sering diucapkan), kami melakukan eksplorasi dengan melihat beberapa *travel vlog* yang dibuat oleh wisatawan yang berasal dari berbagai negara untuk kemudian mengambil **data berupa transkrip/subtitle** (.txt) yang dapat dimanfaatkan untuk melatih kecerdasan Zyo."
      ],
      "metadata": {
        "id": "6UlSVvFAeWXV"
      }
    },
    {
      "cell_type": "markdown",
      "source": [
        "Selain itu, data pertanyaan FAQ mengenai pariwisata Bali (.txt) juga dikumpulkan melalui berbagai website berikut.\n",
        "\n",
        "*   https://www.balispirit.com/community/blog/bali-travel-faqs\n",
        "*   https://traveltriangle.com/blog/know-all-about-bali/\n",
        "*   https://www.travelonline.com/bali/frequently-asked-questions\n",
        "*   https://thetravelauthor.com/faq-for-bali/"
      ],
      "metadata": {
        "id": "bUCKw6PBOlqj"
      }
    },
    {
      "cell_type": "markdown",
      "source": [
        "# Data Preprocessing"
      ],
      "metadata": {
        "id": "OfiiFJezQfhL"
      }
    },
    {
      "cell_type": "markdown",
      "source": [
        "Membuat Intents file yang berisi beberapa pola pertanyaan dan respon untuk melatih Zyo. Karena keterbatasan pola yang didapat dari sumber yang ada, Data Augmentation dilakukan untuk memperbesar ukuran datasets. Beberapa cara yang dilakukan adalah:\n",
        "\n",
        "\n",
        "*   Translasi ke bahasa asing kemudian ditranslasi kembali (Back translation)\n",
        "*   Parafrase menggunakan bantuan [Quilboot](https://quillbot.com/)\n",
        "\n"
      ],
      "metadata": {
        "id": "Lf8emqLZCc0t"
      }
    },
    {
      "cell_type": "code",
      "source": [
        "%%writefile intentsZyo.json\n",
        "{\"intents\": [\n",
        "        {\"tag\": \"greeting\",\n",
        "         \"patterns\": [\"Hi\", \"How are you\", \"Is anyone there?\", \"Hello\", \"Good day\", \"Whats up\"],\n",
        "         \"responses\": [\"Hello! I'm Zyo :)\", \"Good to see you again!\", \"Hi there, how can I help you?\"],\n",
        "         \"context_set\": \"\"\n",
        "        },\n",
        "        {\"tag\": \"goodbye\",\n",
        "         \"patterns\": [\"cya\", \"See you later\", \"Goodbye\", \"I am Leaving\", \"Have a Good day\"],\n",
        "         \"responses\": [\"Sad to see you go :(\", \"Talk to you later\", \"Goodbye!\"],\n",
        "         \"context_set\": \"\"\n",
        "        },\n",
        "        {\"tag\": \"age\",\n",
        "         \"patterns\": [\"how old\", \"how old is zyo\", \"what is your age\", \"how old are you\", \"age?\"],\n",
        "         \"responses\": [\"I am 20 years old!\", \"20 years young!\"],\n",
        "         \"context_set\": \"\"\n",
        "        },\n",
        "        {\"tag\": \"name\",\n",
        "         \"patterns\": [\"what is your name\", \"what should I call you\", \"whats your name?\"],\n",
        "         \"responses\": [\"You can call me Zyo\", \"I'm Zyo!\", \"I'm Zyo! Your Virtual Tour Guide!\"],\n",
        "         \"context_set\": \"\"\n",
        "        },\n",
        "        {\"tag\": \"weather_faq\",\n",
        "         \"patterns\": [\"What's the weather like in Bali?\", \"How is the weather in Bali?\", \"How does the weather in Bali?\", \"weather in bali\", \"bali's weather\", \"bali is hot\", \"bali is cold\"],\n",
        "         \"responses\": [\"Bali is generally hot, sunny and humid and typically the rainy season is between November - Feb/March. However rain usually pours heavily for a short duration in the afternoon or during the night, leaving the rest of the day warm and sunny (around 90 degrees) and cools off at night\"],\n",
        "         \"context_set\": \"\"\n",
        "        },\n",
        "        {\"tag\": \"visa_faq\",\n",
        "         \"patterns\": [\"Do I need a VISA to enter Bali?\", \"visa required\", \"Is a VISA required to enter Bali?\", \"Is a VISA necessary to enter Bali?\", \"visa necessary?\"],\n",
        "         \"responses\": [\"Indonesia has a free 30-Day visa-on-arrival system (tourist visa). If you would like to stay more than 30 days, then you will need to pay $35 at the airport when you arrive at the airport for the option to extend with an Indonesian agent for up to 60-days\"],\n",
        "         \"context_set\": \"\"\n",
        "        },\n",
        "        {\"tag\": \"safe_faq\",\n",
        "         \"patterns\": [\"Is Bali Safe?\", \"Is there much crime?\", \"safety in bali\", \"is bali secure?\", \"crime in bali\"],\n",
        "         \"responses\": [\"Bali has always been peaceful, As for safety in the streets, there is very little violent crime in Bali, especially in Ubud - just be cautious against pickpockets in the beach areas and with handbags on motorbikes late at night\"],\n",
        "         \"context_set\": \"\"\n",
        "        },\n",
        "        {\"tag\": \"drinkwater_faq\",\n",
        "         \"patterns\": [\"Can I drink the water?\", \"Bali's water\", \"water drinkable?\", \"drink water in Bali\"],\n",
        "         \"responses\": [\"Always drink bottled or filtered water. 99% of restaurants in Bali use bottled water for all cooking purposes and it is advisable to drink and brush teeth with bottled water to avoid 'Bali Belly' - a mild dysentery which can occur but passes in a few days.\"],\n",
        "         \"context_set\": \"\"\n",
        "        },\n",
        "        {\"tag\": \"clothing_faq\",\n",
        "         \"patterns\": [\"What clothing can I wear in Bali?\", \"what should i wear?\", \"clothes to wear in bali\", \"bikini allowed?\", \"baggy clothes\"],\n",
        "         \"responses\": [\"Where you will stay will 99% of the time be air conditioned or with a fan, but outside it is hot and humid. Flip flops or comfortable walking sandals are a must with light clothing like t-shirts and shorts to keep you cool are recommended and a light pullover in the evenings if you are riding a motorbike. When entering temples you must be respectful and have your shoulders covered and wear a sarong (for men and women)\"],\n",
        "         \"context_set\": \"\"\n",
        "        },\n",
        "        {\"tag\": \"foodprice_faq\",\n",
        "         \"patterns\": [\"What's the normal price for food in Bali?\", \"food price in bali\", \"food cheap or expensive?\", \"price of the food?\"],\n",
        "         \"responses\": [\"Local Indonesian food like nasi campur and nasi/mie goreng will cost you a lot less, around IDR 30,000 (USD $2.50), a meal at a mid range restaurant in will cost between IDR 100,000-250,000 ($12-20) and fine dining restaurants could cost anywhere between IDR 500,000 and 1,000,000+ ($40-$80).\"],\n",
        "         \"context_set\": \"\"\n",
        "        },\n",
        "        {\"tag\": \"rentcar_faq\",\n",
        "         \"patterns\": [\"Should I rent a car?\", \"what car to rent?\", \"car rental available?\", \"rent a car\"],\n",
        "         \"responses\": [\"It is not necessary, nor advisable to rent a car in Bali. Taxis will cost about $25 - $30 to take you from the Airport at Denpasar to Ubud (approximately 1.5-hour drive, depending on traffic). Most hotels offer a free shuttle or taxi service to take you to the town center in Ubud. You can also hire a private driver and car for $40 - $60 per day for day excursions.\"],\n",
        "         \"context_set\": \"\"\n",
        "        },\n",
        "        {\"tag\": \"buddhist_faq\",\n",
        "         \"patterns\": [\"Is Bali a Buddhist country?\", \"religion in bali\", \"Buddhist\", \"bali islam?\"],\n",
        "         \"responses\": [\"Though Bali is a multi-religious island, most of the people on the island follow Balinese Hinduism which is a fusion of Indian and local Bali customs and culture. Muslim, Christianity, and Buddhism are a few other minority religions on the island.\"],\n",
        "         \"context_set\": \"\"\n",
        "        },\n",
        "        {\"tag\": \"wifi_faq\",\n",
        "         \"patterns\": [\"Does Bali airport have WiFi?\", \"wifi in airport\", \"airport wifi\"],\n",
        "         \"responses\": [\"Denpasar Ngurah International Airport in Bali has free wifi and it is easy to connect to the network too. The free session lasts for 240 minutes.\"],\n",
        "         \"context_set\": \"\"\n",
        "        },\n",
        "        {\"tag\": \"airportcount_faq\",\n",
        "         \"patterns\": [\"How many airports does Bali have?\", \"airport in bali\", \"bali airport\", \"airport\"],\n",
        "         \"responses\": [\"There is only one airport in Bali i.e. Denpasar Ngurah International Airport. The airport has two terminals designated to domestic and international flights. The airport has all the modern facilities to provide convenience and comfort to the passengers.\"],\n",
        "         \"context_set\": \"\"\n",
        "        },\n",
        "        {\"tag\": \"language_faq\",\n",
        "         \"patterns\": [\"What language do they speak in Bali?\", \"bali language\", \"speak in bali\", \"bahasa bali\", \"bahasa indonesia\", \"language speak\"],\n",
        "         \"responses\": [\"Bahasa Bali and Bahasa Indonesian are the most prominent languages on the island. Most people in Balinese are bilingual and speak both these languages. A fewer people are fluent in the English language.\"],\n",
        "         \"context_set\": \"\"\n",
        "        },\n",
        "        {\"tag\": \"exchange_faq\",\n",
        "         \"patterns\": [\"What’s the exchange rate in Indonesia?\", \"exchange rate\", \"What is the current currency exchange rate in Indonesia?\"],\n",
        "         \"responses\": [\"The most popular exchange rate in Indonesia is the USD to IDR rate. The national currency of Bali is the Indonesian Rupiah (Rp).\"],\n",
        "         \"context_set\": \"\"\n",
        "        },\n",
        "        {\"tag\": \"bestthingkid_faq\",\n",
        "         \"patterns\": [\"What are the best things to do in Bali with kids?\", \"Which activities in Bali are the best for families?\", \"What are the finest family-friendly activities in Bali?\", \"bali for kids\", \"bali for family\", \"kids in bali\", \"traveling with kids\"],\n",
        "         \"responses\": [\"You can take your kids to Bali Safari & Marine Park which is one of the most visited theme parks on the island. Dream Museums is another popular tourist attraction in Bali.\"],\n",
        "         \"context_set\": \"\"\n",
        "        },\n",
        "        {\"tag\": \"casino_faq\",\n",
        "         \"patterns\": [\"Does Bali have a casino?\", \"bali casino\", \"casino in bali\", \"casino available\", \"casino\"],\n",
        "         \"responses\": [\"No, Bali does not have a casino. There are no sanctioned casinos or poker rooms in Bali. In fact, the activities of gambling and betting are illegal in Bali as it is against their religious principles.\"],\n",
        "         \"context_set\": \"\"\n",
        "        },\n",
        "        {\"tag\": \"whattoeat_faq\",\n",
        "         \"patterns\": [\"What to eat in Bali?\", \"eat in bali\", \"best food in bali\", \"bali food\", \"delicious food in bali\"],\n",
        "         \"responses\": [\"When you are in Bali, you must try the authentic Balinese food as it is one of its kind and a lot of travelers visit Bali just to try the local delicacies. You must try dishes like Sate, Nasi Ayam, and Nasi Campur, Bebek and Ayam Betutu, Babi Guling and Traditional cakes and desserts.\"],\n",
        "         \"context_set\": \"\"\n",
        "        },\n",
        "        {\"tag\": \"bestressort_faq\",\n",
        "         \"patterns\": [\"Which are the best beach resorts in Bali?\",\"bali resort\", \"best resort in bali\", \"bali resorts\", \"recommended resorts\"],\n",
        "         \"responses\": [\"If you are a beach lover and are planning to stay at a beach resort in Bali, then the best options for you are The Mulia, St.Regis Bali, The Royal Purnama and W Bali.\"],\n",
        "         \"context_set\": \"\"\n",
        "        },\n",
        "        {\"tag\": \"besthotel_faq\",\n",
        "         \"patterns\": [\"Which are the best hotels in Seminyak\", \"best hotel in seminyak\", \"best hotel\", \"recommended hotel\"],\n",
        "         \"responses\": [\"The best hotels in Seminyak are Horison Seminyak, The Haven Bali Seminyak, Courtyard by Marriott Bali Seminyak Resort and Harris Hotel Seminyak.\"],\n",
        "         \"context_set\": \"\"\n",
        "        },\n",
        "        {\"tag\": \"timevisit_faq\",\n",
        "         \"patterns\": [\"When is the best time to go?\", \"best time to go\", \"what time to go\", \"time to come\", \"what year to come to bali\"],\n",
        "         \"responses\": [\"Bali is a spectacular destination to visit all year round with stunning tropical scenery and endless opportunities for adventure. While temperatures tend to average 27 °C throughout the year, we recommend visiting between May to August for optimal tropical conditions without the holiday crowds.\"],\n",
        "         \"context_set\": \"\"\n",
        "        },\n",
        "        {\"tag\": \"corona_faq\",\n",
        "         \"patterns\": [\"Is there Corona Virus in Bali?\", \"corona in bali\", \"corona\", \"covid 19\", \"bali corona covid\", \"bali virus\"],\n",
        "         \"responses\": [\"Bali is in the midst of vaccinations, and most of the main tourist areas have already been fully vaccinated. During the Pandemic, numbers of infections stayed fairly low on the island. All resorts and public areas maintain good health protocols, using disinfectants and wiping down tables etc.\"],\n",
        "         \"context_set\": \"\"\n",
        "        },\n",
        "        {\"tag\": \"taxis_faq\",\n",
        "         \"patterns\": [\"What taxis do you catch in Bali?\", \"taxi to go\", \"what taxi to ride\", \"bali taxi\"],\n",
        "         \"responses\": [\"The best taxis are generally Bluebird, as they are metered and monitored. If you are willing to barter, you can always have someone else drive you around. There are usually plenty of willing drivers outside most resorts.\"],\n",
        "         \"context_set\": \"\"\n",
        "        },\n",
        "        {\"tag\": \"illegal_faq\",\n",
        "         \"patterns\": [\"What is illegal in Bali?\", \"drugs is illegal\", \"illegal in bali\", \"drugs\"],\n",
        "         \"responses\": [\"Drugs. Bali is very, very strict on them, and if you are caught, there is basically no defence. You will end up in jail.\"],\n",
        "         \"context_set\": \"\"\n",
        "        },\n",
        "        {\"tag\": \"smoke_faq\",\n",
        "         \"patterns\": [\"Can i smoke in Bali?\", \"smoking in bali\", \"cigarettes in bali\", \"can i smoke?\"],\n",
        "         \"responses\": [\"Many Balinese people smoke, and cigarettes are quite cheap, although not the same quality as home.\"],\n",
        "         \"context_set\": \"\"\n",
        "        },\n",
        "\n",
        "   ]\n",
        "}"
      ],
      "metadata": {
        "colab": {
          "base_uri": "https://localhost:8080/"
        },
        "id": "iIk6Ah3SC0gN",
        "outputId": "d464ef6c-355b-4bc4-ceda-19c010e59413"
      },
      "execution_count": 1,
      "outputs": [
        {
          "output_type": "stream",
          "name": "stdout",
          "text": [
            "Writing intentsZyo.json\n"
          ]
        }
      ]
    }
  ]
}