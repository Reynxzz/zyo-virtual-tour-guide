{
  "nbformat": 4,
  "nbformat_minor": 0,
  "metadata": {
    "colab": {
      "name": "Zyo: AI Virtual Tour Guide.ipynb",
      "provenance": [],
      "collapsed_sections": [],
      "authorship_tag": "ABX9TyNHG8mgn34YjQa+MQjZGftA",
      "include_colab_link": true
    },
    "kernelspec": {
      "name": "python3",
      "display_name": "Python 3"
    },
    "language_info": {
      "name": "python"
    }
  },
  "cells": [
    {
      "cell_type": "markdown",
      "metadata": {
        "id": "view-in-github",
        "colab_type": "text"
      },
      "source": [
        "<a href=\"https://colab.research.google.com/github/Reynxzz/zyo-virtual-tour-guide/blob/main/Zyo_AI_Virtual_Tour_Guide.ipynb\" target=\"_parent\"><img src=\"https://colab.research.google.com/assets/colab-badge.svg\" alt=\"Open In Colab\"/></a>"
      ]
    },
    {
      "cell_type": "markdown",
      "source": [
        "# **Zyo: Your Personalized Tour Guide to Explore Indonesia**"
      ],
      "metadata": {
        "id": "W7v70XP02iCd"
      }
    },
    {
      "cell_type": "markdown",
      "source": [
        "Proyek ini dibuat untuk memenuhi submisi pada perlombaan [AI Innovation Challenge Compfest 2022](https://www.compfest.id/)."
      ],
      "metadata": {
        "id": "vA3pd0cO3AH9"
      }
    },
    {
      "cell_type": "markdown",
      "source": [
        " **Zyo** adalah sebuah aplikasi berbasis AI untuk memecahkan masalah pariwisata di Indonesia. Menurunnya angka COVID-19 di Indonesia membuat pariwisata Indonesia mulai kembali pulih. Berdasarkan laporan Badan Pusat Statistik (BPS), jumlah kunjungan **wisatawan mancanegara** (wisman) ke Indonesia mencapai **111,06 ribu** kunjungan per April 2022. Jumlah kunjungan wisman ini **naik tajam hampir 500% (yoy)** dibandingkan dengan jumlah kunjungan pada April 2021. Sementara, jika dibandingkan dengan bulan sebelumnya, jumlah kunjungan wisman pada April 2022 **meningkat sebesar 172,27% (m-t-m)**. Angka ini diprediksi akan terus meningkat pada bulan-bulan berikutnya (Dikutip dari [katadata.co.id](https://https://databoks.katadata.co.id/datapublish/2022/06/02/kunjungan-wisman-ke-ri-naik-500-yoy-terbanyak-dari-asia-tenggara#:~:text=Berdasarkan%20laporan%20Badan%20Pusat%20Statistik,jumlah%20kunjungan%20pada%20April%202021.))."
      ],
      "metadata": {
        "id": "5I_uLzsg8ZPN"
      }
    },
    {
      "cell_type": "markdown",
      "source": [
        "Sektor pariwisata merupakan sektor yang berkontribusi besar dalam mendorong perekonomian Indonesia. Meningkatnya angka wisatawan mancanegara yang datang ke Indonesia membuka peluang yang sangat lebar untuk lebih mempromosikan pariwisata dan keragaman budaya di Indonesia. Namun, sektor pariwisata di Indonesia masih memiliki berbagai masalah untuk diselesaikan."
      ],
      "metadata": {
        "id": "-i8I0GUr9Hpc"
      }
    },
    {
      "cell_type": "markdown",
      "source": [
        "Menurut [Nugroho (2020)](https://https://ejournal.bsi.ac.id/ejurnal/index.php/jp), beberapa masalah yang ada pada sektor pariwisata Indonesia saat ini adalah:\n",
        "\n",
        "1.   Kualitas Sumberdaya Manusia (SDM) yang Masih Kurang Mendukung\n",
        "2.   Komunikasi dan Publikasi Yang Masih Kurang\n",
        "3.   Belum Memadainya Infrastruktur Pariwisata di Beberapa Daerah"
      ],
      "metadata": {
        "id": "uGxrRfDLYJ3-"
      }
    },
    {
      "cell_type": "markdown",
      "source": [
        "**Zyo** hadir untuk mengatasi permasalahan tersebut. Zyo merupakan aplikasi berbasis AI yang berperan sebagai pemandu wisata untuk menemani perjalanan wisatawan mancanegara secara virtual. Dengan Zyo, wisatawan mancanegara dapat mengenal lebih dekat dengan tempat-tempat wisata dan keragaman budaya yang ada di Indonesia. Zyo akan merekomendasikan tempat menarik, memandu hingga ke tujuan wisata, dan memberikan pengetahuan baru mengenai tempat tersebut beserta budaya yang ada di sekitar tempat tersebut."
      ],
      "metadata": {
        "id": "KKTxo_usZDS2"
      }
    },
    {
      "cell_type": "markdown",
      "source": [
        "# Scope Project"
      ],
      "metadata": {
        "id": "TbXri6zcOuXa"
      }
    },
    {
      "cell_type": "markdown",
      "source": [
        "\n",
        "\n",
        "*   **Target Pengguna:** Wisatawan mancanegara (18-30 tahun)\n",
        "*   **Cakupan Aplikasi:** karena keterbatasan waktu dan sumber daya, aplikasi ini hanya akan memberikan panduan mengenai beberapa tempat wisata menarik di pulau Bali.\n",
        "*   **Bahasa:** Inggris\n",
        "\n"
      ],
      "metadata": {
        "id": "LzHa1k7IOyvi"
      }
    },
    {
      "cell_type": "markdown",
      "source": [
        "# Data Collecting"
      ],
      "metadata": {
        "id": "XOVizx1yXGn-"
      }
    },
    {
      "cell_type": "markdown",
      "source": [
        "Karena target pengguna aplikasi ini adalah wisatawan mancanegara, bahasa yang dominan digunakan adalaha **bahasa inggris**. Untuk melihat perilaku wisatawan mancanegara saat berwisata ke Indonesia, mulai dari persiapan hingga saat sampai di tujuan (termasuk perkataan/ucapan yang sering diucapkan), kami melakukan eksplorasi dengan melihat beberapa *travel vlog* yang dibuat oleh wisatawan yang berasal dari berbagai negara untuk kemudian mengambil **data berupa transkrip/subtitle** (.txt) yang dapat dimanfaatkan untuk melatih Zyo."
      ],
      "metadata": {
        "id": "6UlSVvFAeWXV"
      }
    },
    {
      "cell_type": "markdown",
      "source": [
        "Selain itu, data pertanyaan FAQ mengenai pariwisata Bali (.txt) juga dikumpulkan melalui berbagai website terkait."
      ],
      "metadata": {
        "id": "bUCKw6PBOlqj"
      }
    },
    {
      "cell_type": "markdown",
      "source": [
        ""
      ],
      "metadata": {
        "id": "OfiiFJezQfhL"
      }
    }
  ]
}